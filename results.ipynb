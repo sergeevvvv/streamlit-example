{
 "cells": [
  {
   "cell_type": "code",
   "execution_count": 3,
   "id": "3a3a96af-2ed4-49ff-ad36-b58218c68945",
   "metadata": {
    "execution": {
     "iopub.execute_input": "2022-06-20T21:26:35.006226Z",
     "iopub.status.busy": "2022-06-20T21:26:35.005655Z",
     "iopub.status.idle": "2022-06-20T21:26:35.047462Z",
     "shell.execute_reply": "2022-06-20T21:26:35.046673Z",
     "shell.execute_reply.started": "2022-06-20T21:26:35.006195Z"
    }
   },
   "outputs": [],
   "source": [
    "import pandas as pd\n",
    "df1 = pd.read_csv('assignments_from_pool_33994836__20-06-2022 (3).tsv', sep='\\t')\n",
    "df2 = pd.read_csv('assignments_from_pool_34011893__20-06-2022.tsv', sep='\\t')\n",
    "tasks = pd.read_csv('source.csv')\n",
    "df = pd.concat([df1, df2],axis=0)\n",
    "df = df[['INPUT:id', 'OUTPUT:result']]"
   ]
  },
  {
   "cell_type": "code",
   "execution_count": 9,
   "id": "c95d7dfc-7bea-49f7-8f95-6c2269e1eb9f",
   "metadata": {
    "execution": {
     "iopub.execute_input": "2022-06-20T21:29:08.196428Z",
     "iopub.status.busy": "2022-06-20T21:29:08.196187Z",
     "iopub.status.idle": "2022-06-20T21:29:08.205029Z",
     "shell.execute_reply": "2022-06-20T21:29:08.204381Z",
     "shell.execute_reply.started": "2022-06-20T21:29:08.196403Z"
    }
   },
   "outputs": [
    {
     "data": {
      "text/html": [
       "<div>\n",
       "<style scoped>\n",
       "    .dataframe tbody tr th:only-of-type {\n",
       "        vertical-align: middle;\n",
       "    }\n",
       "\n",
       "    .dataframe tbody tr th {\n",
       "        vertical-align: top;\n",
       "    }\n",
       "\n",
       "    .dataframe thead th {\n",
       "        text-align: right;\n",
       "    }\n",
       "</style>\n",
       "<table border=\"1\" class=\"dataframe\">\n",
       "  <thead>\n",
       "    <tr style=\"text-align: right;\">\n",
       "      <th></th>\n",
       "      <th>INPUT:id</th>\n",
       "      <th>OUTPUT:result</th>\n",
       "    </tr>\n",
       "  </thead>\n",
       "  <tbody>\n",
       "    <tr>\n",
       "      <th>0</th>\n",
       "      <td>490</td>\n",
       "      <td>Хм а эн равно скобка а эн плюс а эн минус а эн</td>\n",
       "    </tr>\n",
       "    <tr>\n",
       "      <th>1</th>\n",
       "      <td>491</td>\n",
       "      <td>Игрек равен а икс плюс бэ</td>\n",
       "    </tr>\n",
       "    <tr>\n",
       "      <th>2</th>\n",
       "      <td>492</td>\n",
       "      <td>Кью один дробь Кью икс</td>\n",
       "    </tr>\n",
       "    <tr>\n",
       "      <th>3</th>\n",
       "      <td>493</td>\n",
       "      <td>Т равно скобка зет у поделить на один</td>\n",
       "    </tr>\n",
       "    <tr>\n",
       "      <th>4</th>\n",
       "      <td>494</td>\n",
       "      <td>Эф скобка а скобка равно одна вторая Эф дробь ...</td>\n",
       "    </tr>\n",
       "  </tbody>\n",
       "</table>\n",
       "</div>"
      ],
      "text/plain": [
       "   INPUT:id                                      OUTPUT:result\n",
       "0       490     Хм а эн равно скобка а эн плюс а эн минус а эн\n",
       "1       491                          Игрек равен а икс плюс бэ\n",
       "2       492                             Кью один дробь Кью икс\n",
       "3       493             Т равно скобка зет у поделить на один \n",
       "4       494  Эф скобка а скобка равно одна вторая Эф дробь ..."
      ]
     },
     "execution_count": 9,
     "metadata": {},
     "output_type": "execute_result"
    }
   ],
   "source": [
    "df.head()"
   ]
  },
  {
   "cell_type": "code",
   "execution_count": 10,
   "id": "b7784f55-3201-481e-9061-f1d0005b8c3f",
   "metadata": {
    "execution": {
     "iopub.execute_input": "2022-06-20T21:29:11.365202Z",
     "iopub.status.busy": "2022-06-20T21:29:11.364944Z",
     "iopub.status.idle": "2022-06-20T21:29:11.375826Z",
     "shell.execute_reply": "2022-06-20T21:29:11.375178Z",
     "shell.execute_reply.started": "2022-06-20T21:29:11.365175Z"
    }
   },
   "outputs": [
    {
     "data": {
      "text/html": [
       "<div>\n",
       "<style scoped>\n",
       "    .dataframe tbody tr th:only-of-type {\n",
       "        vertical-align: middle;\n",
       "    }\n",
       "\n",
       "    .dataframe tbody tr th {\n",
       "        vertical-align: top;\n",
       "    }\n",
       "\n",
       "    .dataframe thead th {\n",
       "        text-align: right;\n",
       "    }\n",
       "</style>\n",
       "<table border=\"1\" class=\"dataframe\">\n",
       "  <thead>\n",
       "    <tr style=\"text-align: right;\">\n",
       "      <th></th>\n",
       "      <th>id</th>\n",
       "      <th>latex</th>\n",
       "    </tr>\n",
       "  </thead>\n",
       "  <tbody>\n",
       "    <tr>\n",
       "      <th>0</th>\n",
       "      <td>0</td>\n",
       "      <td>\\mathbb {C} \\to \\mathbb {C} ,z\\mapsto z^{n}</td>\n",
       "    </tr>\n",
       "    <tr>\n",
       "      <th>1</th>\n",
       "      <td>1</td>\n",
       "      <td>\\max(a,b)=\\lim _{h\\to 0}h\\log(e^{a/h}+e^{b/h}).</td>\n",
       "    </tr>\n",
       "    <tr>\n",
       "      <th>2</th>\n",
       "      <td>2</td>\n",
       "      <td>p=1+\\operatorname {Re} \\alpha</td>\n",
       "    </tr>\n",
       "    <tr>\n",
       "      <th>3</th>\n",
       "      <td>3</td>\n",
       "      <td>\\mathbb {A} _{L}\\cong \\mathbb {A} _{K}\\otimes ...</td>\n",
       "    </tr>\n",
       "    <tr>\n",
       "      <th>4</th>\n",
       "      <td>4</td>\n",
       "      <td>\\lim _{x\\to 0^{+}}\\ln x=-\\infty .</td>\n",
       "    </tr>\n",
       "  </tbody>\n",
       "</table>\n",
       "</div>"
      ],
      "text/plain": [
       "   id                                              latex\n",
       "0   0        \\mathbb {C} \\to \\mathbb {C} ,z\\mapsto z^{n}\n",
       "1   1    \\max(a,b)=\\lim _{h\\to 0}h\\log(e^{a/h}+e^{b/h}).\n",
       "2   2                     p=1+\\operatorname {Re} \\alpha \n",
       "3   3  \\mathbb {A} _{L}\\cong \\mathbb {A} _{K}\\otimes ...\n",
       "4   4                  \\lim _{x\\to 0^{+}}\\ln x=-\\infty ."
      ]
     },
     "execution_count": 10,
     "metadata": {},
     "output_type": "execute_result"
    }
   ],
   "source": [
    "tasks_d = tasks[['id','latex']]\n",
    "tasks_d.head()"
   ]
  },
  {
   "cell_type": "code",
   "execution_count": 21,
   "id": "41f31e1d-2b12-4eac-bfd4-31f11c3e04b8",
   "metadata": {
    "execution": {
     "iopub.execute_input": "2022-06-20T21:38:19.931351Z",
     "iopub.status.busy": "2022-06-20T21:38:19.930817Z",
     "iopub.status.idle": "2022-06-20T21:38:19.943844Z",
     "shell.execute_reply": "2022-06-20T21:38:19.943421Z",
     "shell.execute_reply.started": "2022-06-20T21:38:19.931320Z"
    }
   },
   "outputs": [
    {
     "data": {
      "text/html": [
       "<div>\n",
       "<style scoped>\n",
       "    .dataframe tbody tr th:only-of-type {\n",
       "        vertical-align: middle;\n",
       "    }\n",
       "\n",
       "    .dataframe tbody tr th {\n",
       "        vertical-align: top;\n",
       "    }\n",
       "\n",
       "    .dataframe thead th {\n",
       "        text-align: right;\n",
       "    }\n",
       "</style>\n",
       "<table border=\"1\" class=\"dataframe\">\n",
       "  <thead>\n",
       "    <tr style=\"text-align: right;\">\n",
       "      <th></th>\n",
       "      <th>INPUT:id</th>\n",
       "      <th>OUTPUT:result</th>\n",
       "      <th>latex</th>\n",
       "    </tr>\n",
       "  </thead>\n",
       "  <tbody>\n",
       "    <tr>\n",
       "      <th>0</th>\n",
       "      <td>490</td>\n",
       "      <td>хм а эн равно скобка а эн плюс а эн минус а эн</td>\n",
       "      <td>m a_{n}=\\sum (a_{n}+|a_{n}|)-\\sum |a_{n}|</td>\n",
       "    </tr>\n",
       "    <tr>\n",
       "      <th>1</th>\n",
       "      <td>491</td>\n",
       "      <td>игрек равен а икс плюс бэ</td>\n",
       "      <td>\\mathbf {y} =A\\mathbf {x} +\\mathbf {b} .</td>\n",
       "    </tr>\n",
       "    <tr>\n",
       "      <th>2</th>\n",
       "      <td>492</td>\n",
       "      <td>кью один дробь кью икс</td>\n",
       "      <td>I_{\\mathbb {Q} }^{1}/\\mathbb {Q} ^{\\times }</td>\n",
       "    </tr>\n",
       "    <tr>\n",
       "      <th>3</th>\n",
       "      <td>493</td>\n",
       "      <td>т равно скобка зет у поделить на один</td>\n",
       "      <td>\\mathbb {T} :=\\{z\\in \\mathbb {C} :|z|=1\\}.</td>\n",
       "    </tr>\n",
       "    <tr>\n",
       "      <th>4</th>\n",
       "      <td>494</td>\n",
       "      <td>эф скобка а скобка равно одна вторая эф дробь ...</td>\n",
       "      <td>f(a)={\\frac {1}{2\\pi i}}\\oint _{C}{\\frac {f(z)...</td>\n",
       "    </tr>\n",
       "  </tbody>\n",
       "</table>\n",
       "</div>"
      ],
      "text/plain": [
       "   INPUT:id                                      OUTPUT:result  \\\n",
       "0       490     хм а эн равно скобка а эн плюс а эн минус а эн   \n",
       "1       491                          игрек равен а икс плюс бэ   \n",
       "2       492                             кью один дробь кью икс   \n",
       "3       493             т равно скобка зет у поделить на один    \n",
       "4       494  эф скобка а скобка равно одна вторая эф дробь ...   \n",
       "\n",
       "                                               latex  \n",
       "0          m a_{n}=\\sum (a_{n}+|a_{n}|)-\\sum |a_{n}|  \n",
       "1           \\mathbf {y} =A\\mathbf {x} +\\mathbf {b} .  \n",
       "2        I_{\\mathbb {Q} }^{1}/\\mathbb {Q} ^{\\times }  \n",
       "3         \\mathbb {T} :=\\{z\\in \\mathbb {C} :|z|=1\\}.  \n",
       "4  f(a)={\\frac {1}{2\\pi i}}\\oint _{C}{\\frac {f(z)...  "
      ]
     },
     "execution_count": 21,
     "metadata": {},
     "output_type": "execute_result"
    }
   ],
   "source": [
    "merged = df.merge(tasks_d, left_on='INPUT:id', right_on='id').drop(['id'],axis=1)\n",
    "merged['OUTPUT:result'] = merged['OUTPUT:result'].str.lower()\n",
    "merged.head()"
   ]
  },
  {
   "cell_type": "code",
   "execution_count": 16,
   "id": "a5289a88-1c2f-4438-ae39-ab6c89a2dfce",
   "metadata": {
    "execution": {
     "iopub.execute_input": "2022-06-20T21:36:01.470180Z",
     "iopub.status.busy": "2022-06-20T21:36:01.469314Z",
     "iopub.status.idle": "2022-06-20T21:36:01.477439Z",
     "shell.execute_reply": "2022-06-20T21:36:01.477067Z",
     "shell.execute_reply.started": "2022-06-20T21:36:01.470146Z"
    }
   },
   "outputs": [
    {
     "data": {
      "text/html": [
       "<div>\n",
       "<style scoped>\n",
       "    .dataframe tbody tr th:only-of-type {\n",
       "        vertical-align: middle;\n",
       "    }\n",
       "\n",
       "    .dataframe tbody tr th {\n",
       "        vertical-align: top;\n",
       "    }\n",
       "\n",
       "    .dataframe thead th {\n",
       "        text-align: right;\n",
       "    }\n",
       "</style>\n",
       "<table border=\"1\" class=\"dataframe\">\n",
       "  <thead>\n",
       "    <tr style=\"text-align: right;\">\n",
       "      <th></th>\n",
       "      <th>INPUT:id</th>\n",
       "      <th>OUTPUT:result</th>\n",
       "      <th>latex</th>\n",
       "    </tr>\n",
       "  </thead>\n",
       "  <tbody>\n",
       "    <tr>\n",
       "      <th>547</th>\n",
       "      <td>55</td>\n",
       "      <td>NaN</td>\n",
       "      <td>((a_{p})_{p},1)q=((b_{p})_{p},1).</td>\n",
       "    </tr>\n",
       "    <tr>\n",
       "      <th>548</th>\n",
       "      <td>56</td>\n",
       "      <td>NaN</td>\n",
       "      <td>\\delta (\\mathbf {r} ,\\,t)=\\delta (x,\\,t)</td>\n",
       "    </tr>\n",
       "    <tr>\n",
       "      <th>549</th>\n",
       "      <td>57</td>\n",
       "      <td>NaN</td>\n",
       "      <td>f={\\frac {v}{\\lambda }}={\\frac {nv}{2L}}.</td>\n",
       "    </tr>\n",
       "    <tr>\n",
       "      <th>550</th>\n",
       "      <td>58</td>\n",
       "      <td>NaN</td>\n",
       "      <td>\\mathbb {A} _{E}\\to \\mathbb {A} _{K}.</td>\n",
       "    </tr>\n",
       "    <tr>\n",
       "      <th>551</th>\n",
       "      <td>59</td>\n",
       "      <td>NaN</td>\n",
       "      <td>\\int _{a}^{b}f(x)\\,\\mathrm {d} x=F(b)-F(a).</td>\n",
       "    </tr>\n",
       "  </tbody>\n",
       "</table>\n",
       "</div>"
      ],
      "text/plain": [
       "     INPUT:id OUTPUT:result                                        latex\n",
       "547        55           NaN            ((a_{p})_{p},1)q=((b_{p})_{p},1).\n",
       "548        56           NaN     \\delta (\\mathbf {r} ,\\,t)=\\delta (x,\\,t)\n",
       "549        57           NaN    f={\\frac {v}{\\lambda }}={\\frac {nv}{2L}}.\n",
       "550        58           NaN        \\mathbb {A} _{E}\\to \\mathbb {A} _{K}.\n",
       "551        59           NaN  \\int _{a}^{b}f(x)\\,\\mathrm {d} x=F(b)-F(a)."
      ]
     },
     "execution_count": 16,
     "metadata": {},
     "output_type": "execute_result"
    }
   ],
   "source": [
    "merged.tail()"
   ]
  },
  {
   "cell_type": "code",
   "execution_count": null,
   "id": "42379b29-9ddb-4c45-9bdb-2485f966a4ad",
   "metadata": {},
   "outputs": [],
   "source": []
  },
  {
   "cell_type": "code",
   "execution_count": 22,
   "id": "fb1ace19-4558-48ae-8c62-c3c0b8157e05",
   "metadata": {
    "execution": {
     "iopub.execute_input": "2022-06-20T21:38:25.445388Z",
     "iopub.status.busy": "2022-06-20T21:38:25.439581Z",
     "iopub.status.idle": "2022-06-20T21:38:28.108216Z",
     "shell.execute_reply": "2022-06-20T21:38:28.107822Z",
     "shell.execute_reply.started": "2022-06-20T21:38:25.445343Z"
    }
   },
   "outputs": [
    {
     "name": "stdout",
     "output_type": "stream",
     "text": [
      "хм а эн равно скобка а эн плюс а эн минус а эн\n"
     ]
    },
    {
     "data": {
      "text/latex": [
       "$m a_{n}=\\sum (a_{n}+|a_{n}|)-\\sum |a_{n}|$"
      ],
      "text/plain": [
       "<IPython.core.display.Latex object>"
      ]
     },
     "metadata": {},
     "output_type": "display_data"
    },
    {
     "name": "stdout",
     "output_type": "stream",
     "text": [
      "\n",
      "игрек равен а икс плюс бэ\n"
     ]
    },
    {
     "data": {
      "text/latex": [
       "$\\mathbf {y} =A\\mathbf {x} +\\mathbf {b} .$"
      ],
      "text/plain": [
       "<IPython.core.display.Latex object>"
      ]
     },
     "metadata": {},
     "output_type": "display_data"
    },
    {
     "name": "stdout",
     "output_type": "stream",
     "text": [
      "\n",
      "кью один дробь кью икс\n"
     ]
    },
    {
     "data": {
      "text/latex": [
       "$I_{\\mathbb {Q} }^{1}/\\mathbb {Q} ^{\\times }$"
      ],
      "text/plain": [
       "<IPython.core.display.Latex object>"
      ]
     },
     "metadata": {},
     "output_type": "display_data"
    },
    {
     "name": "stdout",
     "output_type": "stream",
     "text": [
      "\n",
      "т равно скобка зет у поделить на один \n"
     ]
    },
    {
     "data": {
      "text/latex": [
       "$\\mathbb {T} :=\\{z\\in \\mathbb {C} :|z|=1\\}.$"
      ],
      "text/plain": [
       "<IPython.core.display.Latex object>"
      ]
     },
     "metadata": {},
     "output_type": "display_data"
    },
    {
     "name": "stdout",
     "output_type": "stream",
     "text": [
      "\n",
      "эф скобка а скобка равно одна вторая эф дробь эф минус ли зет\n"
     ]
    },
    {
     "data": {
      "text/latex": [
       "$f(a)={\\frac {1}{2\\pi i}}\\oint _{C}{\\frac {f(z)}{z-a}}dz,$"
      ],
      "text/plain": [
       "<IPython.core.display.Latex object>"
      ]
     },
     "metadata": {},
     "output_type": "display_data"
    },
    {
     "name": "stdout",
     "output_type": "stream",
     "text": [
      "\n",
      "зет скобка эр запятая тэ равно плюс минус писи дробь а\n"
     ]
    },
    {
     "data": {
      "text/latex": [
       "$Z(\\mathbf {r} ,\\,t)=\\pm {\\frac {\\rho c}{A}}.$"
      ],
      "text/plain": [
       "<IPython.core.display.Latex object>"
      ]
     },
     "metadata": {},
     "output_type": "display_data"
    },
    {
     "name": "stdout",
     "output_type": "stream",
     "text": [
      "\n",
      "скан скобка ви скобка \n"
     ]
    },
    {
     "data": {
      "text/latex": [
       "$\\operatorname {span} (\\mathbf {v} )$"
      ],
      "text/plain": [
       "<IPython.core.display.Latex object>"
      ]
     },
     "metadata": {},
     "output_type": "display_data"
    },
    {
     "name": "stdout",
     "output_type": "stream",
     "text": [
      "\n",
      "скобка два эн скобка дробь эн равно два эн скобка два эн минус один скобка равно скобка четыре эн минус два скобка знак вопроса \n"
     ]
    },
    {
     "data": {
      "text/latex": [
       "${\\frac {(2n)!}{n!}}=2^{n}(2n-1)!!=(4n-2)!!!!.$"
      ],
      "text/plain": [
       "<IPython.core.display.Latex object>"
      ]
     },
     "metadata": {},
     "output_type": "display_data"
    },
    {
     "name": "stdout",
     "output_type": "stream",
     "text": [
      "\n",
      "скобка акей скобка эн равно ае\n"
     ]
    },
    {
     "data": {
      "text/latex": [
       "$(\\mathbb {A} _{K})^{n}\\cong \\mathbb {A} _{E}.$"
      ],
      "text/plain": [
       "<IPython.core.display.Latex object>"
      ]
     },
     "metadata": {},
     "output_type": "display_data"
    },
    {
     "name": "stdout",
     "output_type": "stream",
     "text": [
      "\n",
      "аа скобка пи а скобка в квадрате \n"
     ]
    },
    {
     "data": {
      "text/latex": [
       "$\\mathbb {A} _{A}(P,\\alpha )^{\\times }.$"
      ],
      "text/plain": [
       "<IPython.core.display.Latex object>"
      ]
     },
     "metadata": {},
     "output_type": "display_data"
    },
    {
     "name": "stdout",
     "output_type": "stream",
     "text": [
      "\n",
      "выражение а один минус а два равняется эс два меньше либо равно эс два эм меньше либо равно эс два умножить на м плюс один меньше либо равно эс один равняется а один\n"
     ]
    },
    {
     "data": {
      "text/latex": [
       "$a_{1}-a_{2}=S_{2}\\leq S_{2m}\\leq S_{2m+1}\\leq S_{1}=a_{1}.$"
      ],
      "text/plain": [
       "<IPython.core.display.Latex object>"
      ]
     },
     "metadata": {},
     "output_type": "display_data"
    },
    {
     "name": "stdout",
     "output_type": "stream",
     "text": [
      "\n",
      "сорок два делить на пятьдесят шесть равно делению три умноженного на четырнадцать на четыре умноженное на четырнадцать равно трем четвертым  \n"
     ]
    },
    {
     "data": {
      "text/latex": [
       "${\\frac {42}{56}}={\\frac {3\\cdot 14}{4\\cdot 14}}={\\frac {3}{4}}.$"
      ],
      "text/plain": [
       "<IPython.core.display.Latex object>"
      ]
     },
     "metadata": {},
     "output_type": "display_data"
    },
    {
     "name": "stdout",
     "output_type": "stream",
     "text": [
      "\n",
      "икс от т = натуральный логарифм в степени тэ умноженное на логарифм от бесконечности до тэ натуральный лографм в степени минус у деленное на у элемент интегрирования у\n"
     ]
    },
    {
     "data": {
      "text/latex": [
       "$x(t)=e^{t}\\int _{t}^{\\infty }{\\frac {e^{-u}}{u}}\\,du.$"
      ],
      "text/plain": [
       "<IPython.core.display.Latex object>"
      ]
     },
     "metadata": {},
     "output_type": "display_data"
    },
    {
     "name": "stdout",
     "output_type": "stream",
     "text": [
      "\n",
      "сигма равняется двести шесть, двести шестьдесят 5ять арксекондс ди деленное на д  \n"
     ]
    },
    {
     "data": {
      "text/latex": [
       "$\\delta =206,265~(d/D)~\\mathrm {arcseconds} $"
      ],
      "text/plain": [
       "<IPython.core.display.Latex object>"
      ]
     },
     "metadata": {},
     "output_type": "display_data"
    },
    {
     "name": "stdout",
     "output_type": "stream",
     "text": [
      "\n",
      "а плюс б плюс цэ + дэ + ... + зет + одна третья зет равняется четыре третьих а \n"
     ]
    },
    {
     "data": {
      "text/latex": [
       "$A+B+C+D+\\cdots +Z+{\\frac {1}{3}}Z={\\frac {4}{3}}A.$"
      ],
      "text/plain": [
       "<IPython.core.display.Latex object>"
      ]
     },
     "metadata": {},
     "output_type": "display_data"
    },
    {
     "name": "stdout",
     "output_type": "stream",
     "text": [
      "\n",
      "а ка равняется а ка эс умноженное на а ка в степени эс \n"
     ]
    },
    {
     "data": {
      "text/latex": [
       "$\\mathbb {A} _{K}=\\mathbb {A} _{K,S}\\times \\mathbb {A} _{K}^{S}.$"
      ],
      "text/plain": [
       "<IPython.core.display.Latex object>"
      ]
     },
     "metadata": {},
     "output_type": "display_data"
    },
    {
     "name": "stdout",
     "output_type": "stream",
     "text": [
      "\n",
      "предел стремящийся к нулю разница цэ в степени а умножить икс минус один деленное на бэ умножить на икс равняется а деленное на бэ умножить на натуральный логарифм цэ\n"
     ]
    },
    {
     "data": {
      "text/latex": [
       "$\\lim _{x\\to 0}{\\frac {c^{ax}-1}{bx}}={\\frac {a}{b}}\\ln c$"
      ],
      "text/plain": [
       "<IPython.core.display.Latex object>"
      ]
     },
     "metadata": {},
     "output_type": "display_data"
    },
    {
     "name": "stdout",
     "output_type": "stream",
     "text": [
      "\n",
      "произведение ряда бета вэ в степени минус один по модулю равняется один\n"
     ]
    },
    {
     "data": {
      "text/latex": [
       "$\\prod _{v}|\\beta _{v}^{-1}|_{v}=1.$"
      ],
      "text/plain": [
       "<IPython.core.display.Latex object>"
      ]
     },
     "metadata": {},
     "output_type": "display_data"
    },
    {
     "name": "stdout",
     "output_type": "stream",
     "text": [
      "\n",
      "фи один,  фи два,  лямбда два минус лямбда один\n"
     ]
    },
    {
     "data": {
      "text/latex": [
       "$\\varphi _{1},\\varphi _{2},\\lambda _{2}-\\lambda _{1}$"
      ],
      "text/plain": [
       "<IPython.core.display.Latex object>"
      ]
     },
     "metadata": {},
     "output_type": "display_data"
    },
    {
     "name": "stdout",
     "output_type": "stream",
     "text": [
      "\n",
      "модуль эта меньше либо равен модулю произведения бета в степени минус один и а\n"
     ]
    },
    {
     "data": {
      "text/latex": [
       "$|\\eta |_{v}\\leq |\\beta _{v}^{-1}\\alpha _{v}|_{v}$"
      ],
      "text/plain": [
       "<IPython.core.display.Latex object>"
      ]
     },
     "metadata": {},
     "output_type": "display_data"
    },
    {
     "name": "stdout",
     "output_type": "stream",
     "text": [
      "\n",
      "синус а равно косинус а разделить на котангенс а равно тангенс а разделить на секанс а\n"
     ]
    },
    {
     "data": {
      "text/latex": [
       "$\\sin A={\\frac {\\cos A}{\\cot A}}={\\frac {\\tan A}{\\sec A}}$"
      ],
      "text/plain": [
       "<IPython.core.display.Latex object>"
      ]
     },
     "metadata": {},
     "output_type": "display_data"
    },
    {
     "name": "stdout",
     "output_type": "stream",
     "text": [
      "\n",
      "2 умножить на скобка открывается а от икс минус один минус икс скобка закрывается равно интеграл а от икс в квадрате по дэ икс минус икс запятая\n"
     ]
    },
    {
     "data": {
      "text/latex": [
       "$2(A(x)-1-x)=\\int A(x)^{2}\\,dx-x,$"
      ],
      "text/plain": [
       "<IPython.core.display.Latex object>"
      ]
     },
     "metadata": {},
     "output_type": "display_data"
    },
    {
     "name": "stdout",
     "output_type": "stream",
     "text": [
      "\n",
      "ка тэ в квадрате равно ка их в квадрате плюс ка игрек в квадрате больше или равно к в квадрате\n"
     ]
    },
    {
     "data": {
      "text/latex": [
       "$k_{T}^{2}=k_{x}^{2}+k_{y}^{2}\\geq k^{2}$"
      ],
      "text/plain": [
       "<IPython.core.display.Latex object>"
      ]
     },
     "metadata": {},
     "output_type": "display_data"
    },
    {
     "name": "stdout",
     "output_type": "stream",
     "text": [
      "\n",
      "вэ бэ равно вэ ноль плюс круглая скобка вэ ноль минус вэ ноль круглая скобка умножить на тэ в степени\n"
     ]
    },
    {
     "data": {
      "text/latex": [
       "$V_{b}=V_{0}+\\left({\\acute {V}}_{0}-V_{0}\\right){\\hat {T}}$"
      ],
      "text/plain": [
       "<IPython.core.display.Latex object>"
      ]
     },
     "metadata": {},
     "output_type": "display_data"
    },
    {
     "name": "stdout",
     "output_type": "stream",
     "text": [
      "\n",
      "зэт круглая скобка омега круглая скобка плюс и икс круглая скобка омега круглая скобка запятая\n"
     ]
    },
    {
     "data": {
      "text/latex": [
       "$Z(\\omega )=R(\\omega )+iX(\\omega ),$"
      ],
      "text/plain": [
       "<IPython.core.display.Latex object>"
      ]
     },
     "metadata": {},
     "output_type": "display_data"
    },
    {
     "name": "stdout",
     "output_type": "stream",
     "text": [
      "\n",
      "е и круглая скобка икс круглая скобка равно минус е один круглая скобка минус икс круглая скобка\n"
     ]
    },
    {
     "data": {
      "text/latex": [
       "$\\operatorname {Ei} (x)=-E_{1}(-x)$"
      ],
      "text/plain": [
       "<IPython.core.display.Latex object>"
      ]
     },
     "metadata": {},
     "output_type": "display_data"
    },
    {
     "name": "stdout",
     "output_type": "stream",
     "text": [
      "\n",
      "бэ два эн равно круглая скобка минус один в степени энминус один умножить на два энделённое на четыре в степени два эн минус два в степени два эн число после деления умножить нп а два эн минус один\n"
     ]
    },
    {
     "data": {
      "text/latex": [
       "$B_{2n}=(-1)^{n-1}{\\frac {2n}{4^{2n}-2^{2n}}}A_{2n-1}$"
      ],
      "text/plain": [
       "<IPython.core.display.Latex object>"
      ]
     },
     "metadata": {},
     "output_type": "display_data"
    },
    {
     "name": "stdout",
     "output_type": "stream",
     "text": [
      "\n",
      "игрек умножить на круглая скобка икс круглая скобка запятая  \n"
     ]
    },
    {
     "data": {
      "text/latex": [
       "$y(x,0)=f(x),\\qquad {\\frac {\\partial y(x,0)}{\\partial t}}=g(x).$"
      ],
      "text/plain": [
       "<IPython.core.display.Latex object>"
      ]
     },
     "metadata": {},
     "output_type": "display_data"
    },
    {
     "name": "stdout",
     "output_type": "stream",
     "text": [
      "\n",
      "рэ и равно рэ плюс рэ рэ и о\n"
     ]
    },
    {
     "data": {
      "text/latex": [
       "$\\mathbf {R} _{i}=\\mathbf {R} +{\\mathcal {R}}\\mathbf {r} _{io}$"
      ],
      "text/plain": [
       "<IPython.core.display.Latex object>"
      ]
     },
     "metadata": {},
     "output_type": "display_data"
    },
    {
     "name": "stdout",
     "output_type": "stream",
     "text": [
      "\n",
      "аш в степени круглые скобки зэта круглые скобки\n"
     ]
    },
    {
     "data": {
      "text/latex": [
       "${\\hat {h}}(\\xi )={\\hat {f}}(\\xi )\\cdot {\\hat {g}}(\\xi ).$"
      ],
      "text/plain": [
       "<IPython.core.display.Latex object>"
      ]
     },
     "metadata": {},
     "output_type": "display_data"
    },
    {
     "name": "stdout",
     "output_type": "stream",
     "text": [
      "\n",
      "ку двадцать три круглая скобка икс круглая скобка разделить на ку двадцать три\n"
     ]
    },
    {
     "data": {
      "text/latex": [
       "$\\mathbb {Q} _{23}(x)/\\mathbb {Q} _{23}$"
      ],
      "text/plain": [
       "<IPython.core.display.Latex object>"
      ]
     },
     "metadata": {},
     "output_type": "display_data"
    },
    {
     "name": "stdout",
     "output_type": "stream",
     "text": [
      "\n",
      "дэ умножить на дубль вэ равно минус \n"
     ]
    },
    {
     "data": {
      "text/latex": [
       "$dW=-{\\frac {1}{2}}dI\\cdot \\omega ^{2}$"
      ],
      "text/plain": [
       "<IPython.core.display.Latex object>"
      ]
     },
     "metadata": {},
     "output_type": "display_data"
    },
    {
     "name": "stdout",
     "output_type": "stream",
     "text": [
      "\n",
      "икс нн-ое от пэ минус один принадлежит множеству целых положительных чисел\n"
     ]
    },
    {
     "data": {
      "text/latex": [
       "$(x_{n})_{p}-1\\in \\mathbb {Z} _{p}$"
      ],
      "text/plain": [
       "<IPython.core.display.Latex object>"
      ]
     },
     "metadata": {},
     "output_type": "display_data"
    },
    {
     "name": "stdout",
     "output_type": "stream",
     "text": [
      "\n",
      "игрек равен функции эф от икс, которая равна сумме произведения а на икс и бэ\n"
     ]
    },
    {
     "data": {
      "text/latex": [
       "$\\mathbf {y} =f(\\mathbf {x} )=A\\mathbf {x} +\\mathbf {b} .$"
      ],
      "text/plain": [
       "<IPython.core.display.Latex object>"
      ]
     },
     "metadata": {},
     "output_type": "display_data"
    },
    {
     "name": "stdout",
     "output_type": "stream",
     "text": [
      "\n",
      "отношение единицы к функции пэ от икс минус функция кью от икс равна отношению разницы между единицей и произведением функций пэ от икс на кью от икс к функции пэ от икс\n"
     ]
    },
    {
     "data": {
      "text/latex": [
       "${\\frac {1}{p(x)}}-q(x)={\\frac {1-p(x)q(x)}{p(x)}}$"
      ],
      "text/plain": [
       "<IPython.core.display.Latex object>"
      ]
     },
     "metadata": {},
     "output_type": "display_data"
    },
    {
     "name": "stdout",
     "output_type": "stream",
     "text": [
      "\n",
      "функция эф с областью определения в точках а и б отображается в множестве  вещественных натуральных чисел\n"
     ]
    },
    {
     "data": {
      "text/latex": [
       "$f\\colon [a,b]\\to \\mathbb {R} ^{n}$"
      ],
      "text/plain": [
       "<IPython.core.display.Latex object>"
      ]
     },
     "metadata": {},
     "output_type": "display_data"
    },
    {
     "name": "stdout",
     "output_type": "stream",
     "text": [
      "\n",
      "икс в степени игрек, возведенный в степень зет, не равен иксу, возведенному в степень, равно игреку в степени зет\n"
     ]
    },
    {
     "data": {
      "text/latex": [
       "$(x^{\\wedge }y)^{\\wedge }z\\neq x^{\\wedge }(y^{\\wedge }z)$"
      ],
      "text/plain": [
       "<IPython.core.display.Latex object>"
      ]
     },
     "metadata": {},
     "output_type": "display_data"
    },
    {
     "name": "stdout",
     "output_type": "stream",
     "text": [
      "\n",
      "два умножить на интеграл от функции игрек от икс в точке ноль, умноженной на косинус от два пи кси икс по дэ икс в пределах от минус бесконечности до плюс бесконечности равно сумме \n"
     ]
    },
    {
     "data": {
      "text/latex": [
       "$2\\int _{-\\infty }^{\\infty }y(x,0)\\cos(2\\pi \\xi x)\\,dx=a_{+}+a_{-}$"
      ],
      "text/plain": [
       "<IPython.core.display.Latex object>"
      ]
     },
     "metadata": {},
     "output_type": "display_data"
    },
    {
     "name": "stdout",
     "output_type": "stream",
     "text": [
      "\n",
      "функция джей от переменных икс, кси и тэ определяется множество функций минус кси, икс, произведение тэ на экспоненту в степени минус 2 пи и икс кси\n"
     ]
    },
    {
     "data": {
      "text/latex": [
       "$j\\left(x,\\xi ,t\\right)=\\left(-\\xi ,x,te^{-2\\pi ix\\xi }\\right).$"
      ],
      "text/plain": [
       "<IPython.core.display.Latex object>"
      ]
     },
     "metadata": {},
     "output_type": "display_data"
    },
    {
     "name": "stdout",
     "output_type": "stream",
     "text": [
      "\n",
      "пять двенадцатых плюс шесть двенадцатых равно одиннадцать двенадцатых\n"
     ]
    },
    {
     "data": {
      "text/latex": [
       "${\\frac {5}{12}}+{\\frac {6}{12}}={\\frac {11}{12}}$"
      ],
      "text/plain": [
       "<IPython.core.display.Latex object>"
      ]
     },
     "metadata": {},
     "output_type": "display_data"
    },
    {
     "name": "stdout",
     "output_type": "stream",
     "text": [
      "\n",
      "функция эф от зет в точке эн определяется суммой суммой от ка, равному нулю до эн функции произведения а в точке ка на зет в степени ка\n"
     ]
    },
    {
     "data": {
      "text/latex": [
       "$f_{n}(z):=\\sum _{k=0}^{n}a_{k}z^{k}.$"
      ],
      "text/plain": [
       "<IPython.core.display.Latex object>"
      ]
     },
     "metadata": {},
     "output_type": "display_data"
    },
    {
     "name": "stdout",
     "output_type": "stream",
     "text": [
      "\n",
      "джи итое, умноженное на джи житое равно джи житое, умноженное на джи итое\n"
     ]
    },
    {
     "data": {
      "text/latex": [
       "$g_{i}\\cdot g_{j}=g_{j}\\cdot g_{i}$"
      ],
      "text/plain": [
       "<IPython.core.display.Latex object>"
      ]
     },
     "metadata": {},
     "output_type": "display_data"
    },
    {
     "name": "stdout",
     "output_type": "stream",
     "text": [
      "\n",
      "эр умножить на эр\n"
     ]
    },
    {
     "data": {
      "text/latex": [
       "$\\mathbb {R} \\times \\mathbb {R} $"
      ],
      "text/plain": [
       "<IPython.core.display.Latex object>"
      ]
     },
     "metadata": {},
     "output_type": "display_data"
    },
    {
     "name": "stdout",
     "output_type": "stream",
     "text": [
      "\n",
      "эль равно эр умножить на пэ \n"
     ]
    },
    {
     "data": {
      "text/latex": [
       "$\\mathbf {L} =\\mathbf {r} \\times \\mathbf {p} $"
      ],
      "text/plain": [
       "<IPython.core.display.Latex object>"
      ]
     },
     "metadata": {},
     "output_type": "display_data"
    },
    {
     "name": "stdout",
     "output_type": "stream",
     "text": [
      "\n",
      "эф от пэ один умножить на вектор эф от пэ два \n"
     ]
    },
    {
     "data": {
      "text/latex": [
       "${\\overrightarrow {f(p_{1})f(p_{2})}}$"
      ],
      "text/plain": [
       "<IPython.core.display.Latex object>"
      ]
     },
     "metadata": {},
     "output_type": "display_data"
    },
    {
     "name": "stdout",
     "output_type": "stream",
     "text": [
      "\n",
      "модуль суммы а плюс бэ равно эс умножить на сумму а плюс бэ равно эс умножить на а плюс эс умножить на бэ меньше или равно модуль а плюс модуль б \n"
     ]
    },
    {
     "data": {
      "text/latex": [
       "$|a+b|=s\\cdot (a+b)=s\\cdot a+s\\cdot b\\leq |a|+|b|$"
      ],
      "text/plain": [
       "<IPython.core.display.Latex object>"
      ]
     },
     "metadata": {},
     "output_type": "display_data"
    },
    {
     "name": "stdout",
     "output_type": "stream",
     "text": [
      "\n",
      "игрек от омега равно гамма от омега плюс и бета от омега\n"
     ]
    },
    {
     "data": {
      "text/latex": [
       "$Y(\\omega )=G(\\omega )+iB(\\omega ),$"
      ],
      "text/plain": [
       "<IPython.core.display.Latex object>"
      ]
     },
     "metadata": {},
     "output_type": "display_data"
    },
    {
     "name": "stdout",
     "output_type": "stream",
     "text": [
      "\n",
      "циркумфлекс ай, циркумфлекс джей, циркумфлекс кей\n"
     ]
    },
    {
     "data": {
      "text/latex": [
       "${\\hat {\\mathbf {i} }},{\\hat {\\mathbf {j} }},{\\hat {\\mathbf {k} }}$"
      ],
      "text/plain": [
       "<IPython.core.display.Latex object>"
      ]
     },
     "metadata": {},
     "output_type": "display_data"
    },
    {
     "name": "stdout",
     "output_type": "stream",
     "text": [
      "\n",
      "наибольший общий делитель чисел а и бэ умножить на наименьший общий множитель чисел а и бэ равно а умножить на бэ \n"
     ]
    },
    {
     "data": {
      "text/latex": [
       "$\\gcd(a,b)\\operatorname {lcm} (a,b)=ab.$"
      ],
      "text/plain": [
       "<IPython.core.display.Latex object>"
      ]
     },
     "metadata": {},
     "output_type": "display_data"
    },
    {
     "name": "stdout",
     "output_type": "stream",
     "text": [
      "\n",
      "арксинус икс приблизительно равно арктангенс икс приблизительно равно икс\n"
     ]
    },
    {
     "data": {
      "text/latex": [
       "$\\arcsin x\\approx \\arctan x\\approx x.$"
      ],
      "text/plain": [
       "<IPython.core.display.Latex object>"
      ]
     },
     "metadata": {},
     "output_type": "display_data"
    },
    {
     "name": "stdout",
     "output_type": "stream",
     "text": [
      "\n",
      "косинус а равно косинус бэ умножить на косинус цэ плюс синус бэ умножить на синус цэ умножить на косинус а\n"
     ]
    },
    {
     "data": {
      "text/latex": [
       "$\\cos a=\\cos b\\cos c+\\sin b\\sin c\\cos A.$"
      ],
      "text/plain": [
       "<IPython.core.display.Latex object>"
      ]
     },
     "metadata": {},
     "output_type": "display_data"
    },
    {
     "name": "stdout",
     "output_type": "stream",
     "text": [
      "\n",
      "бэ умножить на скобка открывается икс плюс е скобка закрывается минус квадрат суммы икс плюс е равно бэ умножить на икс минус икс в квадрате плюс бэ умножить на е минус два умножить на е умножить на икс минус е в квадрате\n"
     ]
    },
    {
     "data": {
      "text/latex": [
       "$b(x+e)-(x+e)^{2}=bx-x^{2}+be-2ex-e^{2}$"
      ],
      "text/plain": [
       "<IPython.core.display.Latex object>"
      ]
     },
     "metadata": {},
     "output_type": "display_data"
    },
    {
     "name": "stdout",
     "output_type": "stream",
     "text": [
      "\n",
      "предел отношения натурального логарифма один плюс икс на икс при икс стремящегося к нулю равно единице\n"
     ]
    },
    {
     "data": {
      "text/latex": [
       "$\\lim _{x\\to 0}{\\frac {\\ln(1+x)}{x}}=1$"
      ],
      "text/plain": [
       "<IPython.core.display.Latex object>"
      ]
     },
     "metadata": {},
     "output_type": "display_data"
    },
    {
     "name": "stdout",
     "output_type": "stream",
     "text": [
      "\n",
      "си тэ равно эр тэ, запятая тэта тэ, запятая фи тэ\n"
     ]
    },
    {
     "data": {
      "text/latex": [
       "$\\mathbf {C} (t)=(r(t),\\theta (t),\\phi (t))$"
      ],
      "text/plain": [
       "<IPython.core.display.Latex object>"
      ]
     },
     "metadata": {},
     "output_type": "display_data"
    },
    {
     "name": "stdout",
     "output_type": "stream",
     "text": [
      "\n",
      "произведение зет пи на зет пи\n"
     ]
    },
    {
     "data": {
      "text/latex": [
       "$\\mathbb {Z} _{p}\\times \\mathbb {Z} _{p}$"
      ],
      "text/plain": [
       "<IPython.core.display.Latex object>"
      ]
     },
     "metadata": {},
     "output_type": "display_data"
    },
    {
     "name": "stdout",
     "output_type": "stream",
     "text": [
      "\n",
      "сумма эль итое, где и принимает значение и равна сумме произведения квадрата эр итого на эм итое, где и принимает значение и \n"
     ]
    },
    {
     "data": {
      "text/latex": [
       "$\\sum _{i}I_{i}=\\sum _{i}r_{i}^{2}m_{i}$"
      ],
      "text/plain": [
       "<IPython.core.display.Latex object>"
      ]
     },
     "metadata": {},
     "output_type": "display_data"
    },
    {
     "name": "stdout",
     "output_type": "stream",
     "text": [
      "\n",
      "вектор бэ равен = вектору о с черточкой бэ\n"
     ]
    },
    {
     "data": {
      "text/latex": [
       "${\\vec {b}}={\\overrightarrow {O'B}}$"
      ],
      "text/plain": [
       "<IPython.core.display.Latex object>"
      ]
     },
     "metadata": {},
     "output_type": "display_data"
    },
    {
     "name": "stdout",
     "output_type": "stream",
     "text": [
      "\n",
      "дельта тэ равнобэ минус а деленное на эн равно тэ итое минус тэ итое минус один\n"
     ]
    },
    {
     "data": {
      "text/latex": [
       "$\\Delta t={\\frac {b-a}{N}}=t_{i}-t_{i-1}$"
      ],
      "text/plain": [
       "<IPython.core.display.Latex object>"
      ]
     },
     "metadata": {},
     "output_type": "display_data"
    },
    {
     "name": "stdout",
     "output_type": "stream",
     "text": [
      "\n",
      "игрек принадлежит множеству а кутое делить на зет\n"
     ]
    },
    {
     "data": {
      "text/latex": [
       "$y\\in \\mathbb {A} _{\\mathbb {Q} }/\\mathbb {Z} $"
      ],
      "text/plain": [
       "<IPython.core.display.Latex object>"
      ]
     },
     "metadata": {},
     "output_type": "display_data"
    },
    {
     "name": "stdout",
     "output_type": "stream",
     "text": [
      "\n",
      "скобка закрывается равно = производная функции эль от тэ по переменной тэ равен эр на пси тэ\n"
     ]
    },
    {
     "data": {
      "text/latex": [
       "$)={\\frac {d\\ell }{dt}}=r\\omega (t)$"
      ],
      "text/plain": [
       "<IPython.core.display.Latex object>"
      ]
     },
     "metadata": {},
     "output_type": "display_data"
    },
    {
     "name": "stdout",
     "output_type": "stream",
     "text": [
      "\n",
      "а равно интеграл от а до бэ скобка открывается эф от икс минус джи от икс скобка закрывается по дэ икс\n"
     ]
    },
    {
     "data": {
      "text/latex": [
       "$A=\\int _{a}^{b}(f(x)-g(x))\\,dx,$"
      ],
      "text/plain": [
       "<IPython.core.display.Latex object>"
      ]
     },
     "metadata": {},
     "output_type": "display_data"
    },
    {
     "name": "stdout",
     "output_type": "stream",
     "text": [
      "\n",
      "коммутант группы а равен скобка открывается коммутант группы а по дабл ю скобка закрывается) по дабл ю принадлежит множеству а эль\n"
     ]
    },
    {
     "data": {
      "text/latex": [
       "$a'=(a'_{w})_{w}\\in \\mathbb {A} _{L}$"
      ],
      "text/plain": [
       "<IPython.core.display.Latex object>"
      ]
     },
     "metadata": {},
     "output_type": "display_data"
    },
    {
     "name": "stdout",
     "output_type": "stream",
     "text": [
      "\n",
      "омега равно вэ синус фи деленная на эр\n"
     ]
    },
    {
     "data": {
      "text/latex": [
       "$\\omega ={\\frac {v\\sin(\\theta )}{r}}.$"
      ],
      "text/plain": [
       "<IPython.core.display.Latex object>"
      ]
     },
     "metadata": {},
     "output_type": "display_data"
    },
    {
     "name": "stdout",
     "output_type": "stream",
     "text": [
      "\n",
      "е один меньше или равно е два меньше или равно е энной\n"
     ]
    },
    {
     "data": {
      "text/latex": [
       "$e_{1}\\leq e_{2}\\leq \\cdots \\leq e_{n}$"
      ],
      "text/plain": [
       "<IPython.core.display.Latex object>"
      ]
     },
     "metadata": {},
     "output_type": "display_data"
    },
    {
     "name": "stdout",
     "output_type": "stream",
     "text": [
      "\n",
      "тильда фи деленная на цэ к стремится к ц ка\n"
     ]
    },
    {
     "data": {
      "text/latex": [
       "${\\widetilde {\\phi }}:C_{K}\\to \\operatorname {Cl} _{K}$"
      ],
      "text/plain": [
       "<IPython.core.display.Latex object>"
      ]
     },
     "metadata": {},
     "output_type": "display_data"
    },
    {
     "name": "stdout",
     "output_type": "stream",
     "text": [
      "\n",
      "модуль цэ ка меньше бесконечности\n"
     ]
    },
    {
     "data": {
      "text/latex": [
       "$|\\operatorname {Cl} _{K}|<\\infty .$"
      ],
      "text/plain": [
       "<IPython.core.display.Latex object>"
      ]
     },
     "metadata": {},
     "output_type": "display_data"
    },
    {
     "name": "stdout",
     "output_type": "stream",
     "text": [
      "\n",
      "интеграл бэ от а функции фэ икс дэ икс равно фэ от бэ минус фэ от а\n"
     ]
    },
    {
     "data": {
      "text/latex": [
       "$\\int _{a}^{b}f(x)\\,dx=F(b)-F(a).$"
      ],
      "text/plain": [
       "<IPython.core.display.Latex object>"
      ]
     },
     "metadata": {},
     "output_type": "display_data"
    },
    {
     "name": "stdout",
     "output_type": "stream",
     "text": [
      "\n",
      "одна четвертая плюс две четвертых равно единица плюс два деленная на четыре равно три четвертых\n"
     ]
    },
    {
     "data": {
      "text/latex": [
       "${\\frac {1}{4}}+{\\frac {2}{4}}={\\frac {1+2}{4}}={\\frac {3}{4}}$"
      ],
      "text/plain": [
       "<IPython.core.display.Latex object>"
      ]
     },
     "metadata": {},
     "output_type": "display_data"
    },
    {
     "name": "stdout",
     "output_type": "stream",
     "text": [
      "\n",
      "цэ равно минус одна шестая умножить единица деленная на 2 факториал равно минус одна двенадцатая\n"
     ]
    },
    {
     "data": {
      "text/latex": [
       "$c=-{\\frac {1}{6}}\\times {\\frac {1}{2!}}=-{\\frac {1}{12}}.$"
      ],
      "text/plain": [
       "<IPython.core.display.Latex object>"
      ]
     },
     "metadata": {},
     "output_type": "display_data"
    },
    {
     "name": "stdout",
     "output_type": "stream",
     "text": [
      "\n",
      "косинус цэ равен косинус а умножить на косинус бэ плюс синус а умножить на синус бэ  умножить на косинус цэ\n"
     ]
    },
    {
     "data": {
      "text/latex": [
       "$\\cos c=\\cos a\\cos b+\\sin a\\sin b\\cos C,\\!$"
      ],
      "text/plain": [
       "<IPython.core.display.Latex object>"
      ]
     },
     "metadata": {},
     "output_type": "display_data"
    },
    {
     "name": "stdout",
     "output_type": "stream",
     "text": [
      "\n",
      "цэ от икс равно 1 плюс корень квадратный из единица минус четыре умножить на икс деленная на два умножить на икс\n"
     ]
    },
    {
     "data": {
      "text/latex": [
       "$c(x)={\\frac {1+{\\sqrt {1-4x}}}{2x}}$"
      ],
      "text/plain": [
       "<IPython.core.display.Latex object>"
      ]
     },
     "metadata": {},
     "output_type": "display_data"
    },
    {
     "name": "stdout",
     "output_type": "stream",
     "text": [
      "\n",
      "функция эр стремится к эр где эф от икс равно эм умножить на икс плюс цэ\n"
     ]
    },
    {
     "data": {
      "text/latex": [
       "$f\\colon \\mathbb {R} \\to \\mathbb {R} ,\\;f(x)=mx+c$"
      ],
      "text/plain": [
       "<IPython.core.display.Latex object>"
      ]
     },
     "metadata": {},
     "output_type": "display_data"
    },
    {
     "name": "stdout",
     "output_type": "stream",
     "text": [
      "\n",
      "модуль эф скобка открывается тэ скобка закрывается меньше цэ е в степени а умноженное на модуль тэ\n"
     ]
    },
    {
     "data": {
      "text/latex": [
       "$\\vert f(t)\\vert <Ce^{a\\vert t\\vert }$"
      ],
      "text/plain": [
       "<IPython.core.display.Latex object>"
      ]
     },
     "metadata": {},
     "output_type": "display_data"
    },
    {
     "name": "stdout",
     "output_type": "stream",
     "text": [
      "\n",
      "лямбда равно степени 2 эль на эн точка с запятой эн равно один запятая два запятая три запятая многоточие\n"
     ]
    },
    {
     "data": {
      "text/latex": [
       "$\\lambda ={\\frac {2L}{n}};n=1,2,3,...$"
      ],
      "text/plain": [
       "<IPython.core.display.Latex object>"
      ]
     },
     "metadata": {},
     "output_type": "display_data"
    },
    {
     "name": "stdout",
     "output_type": "stream",
     "text": [
      "\n",
      "дименсион скобка открываетя ню скобка закрывается двоеточие равно ка меньше или равно дименсион скобка открывается дабл ю скобка закрывается двоеточие равно эль\n"
     ]
    },
    {
     "data": {
      "text/latex": [
       "$\\dim({\\mathcal {U}}):=k\\leq \\dim({\\mathcal {W}}):=l$"
      ],
      "text/plain": [
       "<IPython.core.display.Latex object>"
      ]
     },
     "metadata": {},
     "output_type": "display_data"
    },
    {
     "name": "stdout",
     "output_type": "stream",
     "text": [
      "\n",
      "дельта тэ равно дробь икс косинус тэта деленое на си\n"
     ]
    },
    {
     "data": {
      "text/latex": [
       "$\\Delta t={\\frac {x\\cos \\theta }{c}}$"
      ],
      "text/plain": [
       "<IPython.core.display.Latex object>"
      ]
     },
     "metadata": {},
     "output_type": "display_data"
    },
    {
     "name": "stdout",
     "output_type": "stream",
     "text": [
      "\n",
      "икс отображает игрек отображает икс минус игрек равно икс отображает скобка открывается игрек отображает икс минус игрек скобка закрывается\n"
     ]
    },
    {
     "data": {
      "text/latex": [
       "$x\\mapsto y\\mapsto x-y=x\\mapsto (y\\mapsto x-y)$"
      ],
      "text/plain": [
       "<IPython.core.display.Latex object>"
      ]
     },
     "metadata": {},
     "output_type": "display_data"
    },
    {
     "name": "stdout",
     "output_type": "stream",
     "text": [
      "\n",
      "а равно два предел от минус эр до эр корня квадратного от эр в квадрате минус икс в квадрате по дэ икс равно пи эр квадрат\n"
     ]
    },
    {
     "data": {
      "text/latex": [
       "$A\\;=\\;2\\int _{-r}^{r}{\\sqrt {r^{2}-x^{2}}}\\,dx\\;=\\;\\pi r^{2}.$"
      ],
      "text/plain": [
       "<IPython.core.display.Latex object>"
      ]
     },
     "metadata": {},
     "output_type": "display_data"
    },
    {
     "name": "stdout",
     "output_type": "stream",
     "text": [
      "\n",
      "эф порядка эн скобка открывается эф порядка икс запятая эф порядка игрек скобка закрывается\n"
     ]
    },
    {
     "data": {
      "text/latex": [
       "$\\Phi _{n}\\left(f_{X},f_{Y}\\right)$"
      ],
      "text/plain": [
       "<IPython.core.display.Latex object>"
      ]
     },
     "metadata": {},
     "output_type": "display_data"
    },
    {
     "name": "stdout",
     "output_type": "stream",
     "text": [
      "\n",
      "скобка открываетя эн порядка дроби эль на ка скобка открывается альфа скобка закрывается скобка закрывается в степени минус один равно эн порядка дроби эль на ка скобка открывается альфа в степени минус один скобка закрывается\n"
     ]
    },
    {
     "data": {
      "text/latex": [
       "$(N_{L/K}(\\alpha ))^{-1}=N_{L/K}(\\alpha ^{-1}).$"
      ],
      "text/plain": [
       "<IPython.core.display.Latex object>"
      ]
     },
     "metadata": {},
     "output_type": "display_data"
    },
    {
     "name": "stdout",
     "output_type": "stream",
     "text": [
      "\n",
      "ка в степени и синус тэта в степени и равно ка дробь синус тэта на эм точка\n"
     ]
    },
    {
     "data": {
      "text/latex": [
       "$k^{i}\\sin \\theta ^{i}=k{\\frac {\\sin \\theta }{M}}.$"
      ],
      "text/plain": [
       "<IPython.core.display.Latex object>"
      ]
     },
     "metadata": {},
     "output_type": "display_data"
    },
    {
     "name": "stdout",
     "output_type": "stream",
     "text": [
      "\n",
      "а скобка открывается икс скобка закрывается равно сумма от эн равно ноль до бесконечность а предел эн дроби икс в степени эн на факториал эн\n"
     ]
    },
    {
     "data": {
      "text/latex": [
       "$A(x)=\\sum _{n=0}^{\\infty }A_{n}{\\frac {x^{n}}{n!}}$"
      ],
      "text/plain": [
       "<IPython.core.display.Latex object>"
      ]
     },
     "metadata": {},
     "output_type": "display_data"
    },
    {
     "name": "stdout",
     "output_type": "stream",
     "text": [
      "\n",
      "математическая последовательность а\n"
     ]
    },
    {
     "data": {
      "text/latex": [
       "$a_{1},a_{2},a_{3},\\ldots ,a_{n}$"
      ],
      "text/plain": [
       "<IPython.core.display.Latex object>"
      ]
     },
     "metadata": {},
     "output_type": "display_data"
    },
    {
     "name": "stdout",
     "output_type": "stream",
     "text": [
      "\n",
      "у умножить на у в минус первой степени меньше чем эр умноженное на эр\n"
     ]
    },
    {
     "data": {
      "text/latex": [
       "$U\\times U^{-1}\\subset R\\times R$"
      ],
      "text/plain": [
       "<IPython.core.display.Latex object>"
      ]
     },
     "metadata": {},
     "output_type": "display_data"
    },
    {
     "name": "stdout",
     "output_type": "stream",
     "text": [
      "\n",
      "координаты джиэль два а ка\n"
     ]
    },
    {
     "data": {
      "text/latex": [
       "$\\operatorname {GL} (2,\\mathbb {A} _{K})$"
      ],
      "text/plain": [
       "<IPython.core.display.Latex object>"
      ]
     },
     "metadata": {},
     "output_type": "display_data"
    },
    {
     "name": "stdout",
     "output_type": "stream",
     "text": [
      "\n",
      "функция е равна а е е в степени функция е\n"
     ]
    },
    {
     "data": {
      "text/latex": [
       "${\\hat {f}}(\\xi )=A(\\xi )e^{i\\varphi (\\xi )}$"
      ],
      "text/plain": [
       "<IPython.core.display.Latex object>"
      ]
     },
     "metadata": {},
     "output_type": "display_data"
    },
    {
     "name": "stdout",
     "output_type": "stream",
     "text": [
      "\n",
      "модуль разности эс ка и эль меньше либо равно а ка плюс один\n"
     ]
    },
    {
     "data": {
      "text/latex": [
       "$\\left|S_{k}-L\\right|\\leq a_{k+1}\\!$"
      ],
      "text/plain": [
       "<IPython.core.display.Latex object>"
      ]
     },
     "metadata": {},
     "output_type": "display_data"
    },
    {
     "name": "stdout",
     "output_type": "stream",
     "text": [
      "\n",
      "а ка в степени икс равно эль ка\n"
     ]
    },
    {
     "data": {
      "text/latex": [
       "$\\mathbb {A} _{K}^{\\times }=I_{K}.$"
      ],
      "text/plain": [
       "<IPython.core.display.Latex object>"
      ]
     },
     "metadata": {},
     "output_type": "display_data"
    },
    {
     "name": "stdout",
     "output_type": "stream",
     "text": [
      "\n",
      "бета равно вэ вэ в у и ка в степени эль\n"
     ]
    },
    {
     "data": {
      "text/latex": [
       "$\\beta =(\\beta _{v})_{v}\\in I_{K}^{1}$"
      ],
      "text/plain": [
       "<IPython.core.display.Latex object>"
      ]
     },
     "metadata": {},
     "output_type": "display_data"
    },
    {
     "name": "stdout",
     "output_type": "stream",
     "text": [
      "\n",
      "эс два м плюс 1 равно эс два эм плюс а два эм плюс один минус ф два эм плюс два больше либо равно эс два эм\n"
     ]
    },
    {
     "data": {
      "text/latex": [
       "$S_{2(m+1)}=S_{2m}+a_{2m+1}-a_{2m+2}\\geq S_{2m}$"
      ],
      "text/plain": [
       "<IPython.core.display.Latex object>"
      ]
     },
     "metadata": {},
     "output_type": "display_data"
    },
    {
     "name": "stdout",
     "output_type": "stream",
     "text": [
      "\n",
      "икс один си икс эн плюс один\n"
     ]
    },
    {
     "data": {
      "text/latex": [
       "$\\mathbf {x} _{1},\\dotsc ,\\mathbf {x} _{n+1}$"
      ],
      "text/plain": [
       "<IPython.core.display.Latex object>"
      ]
     },
     "metadata": {},
     "output_type": "display_data"
    },
    {
     "name": "stdout",
     "output_type": "stream",
     "text": [
      "\n",
      "е равно е в в принадлежит множеству о икс\n"
     ]
    },
    {
     "data": {
      "text/latex": [
       "$\\xi =(\\xi _{v})_{v}\\in {\\widehat {O}}^{\\times }.$"
      ],
      "text/plain": [
       "<IPython.core.display.Latex object>"
      ]
     },
     "metadata": {},
     "output_type": "display_data"
    },
    {
     "name": "stdout",
     "output_type": "stream",
     "text": [
      "\n",
      "лимит икс стремиться к бесконечности икс в минус первой степени равен минус ноль\n"
     ]
    },
    {
     "data": {
      "text/latex": [
       "$\\lim _{x\\to -\\infty }{x^{-1}}=-0$"
      ],
      "text/plain": [
       "<IPython.core.display.Latex object>"
      ]
     },
     "metadata": {},
     "output_type": "display_data"
    },
    {
     "name": "stdout",
     "output_type": "stream",
     "text": [
      "\n",
      "а в минус первой степени равно альфа ноль икс\n"
     ]
    },
    {
     "data": {
      "text/latex": [
       "$(\\{{\\mathfrak {a}}\\})^{-1}=\\alpha {\\widehat {O}}^{\\times }$"
      ],
      "text/plain": [
       "<IPython.core.display.Latex object>"
      ]
     },
     "metadata": {},
     "output_type": "display_data"
    },
    {
     "name": "stdout",
     "output_type": "stream",
     "text": [
      "\n",
      "бэ один бэ два бэ три бэ эн\n"
     ]
    },
    {
     "data": {
      "text/latex": [
       "$b_{1},b_{2},b_{3},\\ldots ,b_{n}$"
      ],
      "text/plain": [
       "<IPython.core.display.Latex object>"
      ]
     },
     "metadata": {},
     "output_type": "display_data"
    },
    {
     "name": "stdout",
     "output_type": "stream",
     "text": [
      "\n",
      "а ц равно минус дабл вэ в квадрате умноженное на эр\n"
     ]
    },
    {
     "data": {
      "text/latex": [
       "$\\mathbf {a_{c}} =-\\omega ^{2}\\mathbf {r} \\;.$"
      ],
      "text/plain": [
       "<IPython.core.display.Latex object>"
      ]
     },
     "metadata": {},
     "output_type": "display_data"
    },
    {
     "name": "stdout",
     "output_type": "stream",
     "text": [
      "\n",
      "эф джи равно эм умноженное на джи\n"
     ]
    },
    {
     "data": {
      "text/latex": [
       "$\\mathbf {F_{g}} =m\\mathbf {g} $"
      ],
      "text/plain": [
       "<IPython.core.display.Latex object>"
      ]
     },
     "metadata": {},
     "output_type": "display_data"
    },
    {
     "name": "stdout",
     "output_type": "stream",
     "text": [
      "\n",
      "тэ равно о ка пэ\n"
     ]
    },
    {
     "data": {
      "text/latex": [
       "$T={\\mathcal {O}}_{K,{\\mathfrak {p}}}$"
      ],
      "text/plain": [
       "<IPython.core.display.Latex object>"
      ]
     },
     "metadata": {},
     "output_type": "display_data"
    },
    {
     "name": "stdout",
     "output_type": "stream",
     "text": [
      "\n",
      "коньюнкция а пэ е равна коньюнкции а е пэ\n"
     ]
    },
    {
     "data": {
      "text/latex": [
       "${\\widehat {APE}}={\\widehat {AEP}}.$"
      ],
      "text/plain": [
       "<IPython.core.display.Latex object>"
      ]
     },
     "metadata": {},
     "output_type": "display_data"
    },
    {
     "name": "stdout",
     "output_type": "stream",
     "text": [
      "\n",
      "коньюнкция епд равно коньюнкции ди пи си\n"
     ]
    },
    {
     "data": {
      "text/latex": [
       "${\\widehat {EPD}}={\\widehat {DPS}},$"
      ],
      "text/plain": [
       "<IPython.core.display.Latex object>"
      ]
     },
     "metadata": {},
     "output_type": "display_data"
    },
    {
     "name": "stdout",
     "output_type": "stream",
     "text": [
      "\n",
      "эм эр равно экспоненте по ай эм ай эр ай\n"
     ]
    },
    {
     "data": {
      "text/latex": [
       "$M\\mathbf {R} =\\sum _{i}m_{i}\\mathbf {R} _{i}.$"
      ],
      "text/plain": [
       "<IPython.core.display.Latex object>"
      ]
     },
     "metadata": {},
     "output_type": "display_data"
    },
    {
     "name": "stdout",
     "output_type": "stream",
     "text": [
      "\n",
      "функция зэт равна экспоненте эн равно нулю бесконечность ф эн зэт в степени эн\n"
     ]
    },
    {
     "data": {
      "text/latex": [
       "$f(z)=\\sum _{n=0}^{\\infty }a_{n}z^{n}$"
      ],
      "text/plain": [
       "<IPython.core.display.Latex object>"
      ]
     },
     "metadata": {},
     "output_type": "display_data"
    },
    {
     "name": "stdout",
     "output_type": "stream",
     "text": [
      "\n",
      "сумма эн ка ка равняется еденице равняется сумме эн плюс один деленное на 2\n"
     ]
    },
    {
     "data": {
      "text/latex": [
       "$\\sum _{k=1}^{n}k={\\frac {n(n+1)}{2}},$"
      ],
      "text/plain": [
       "<IPython.core.display.Latex object>"
      ]
     },
     "metadata": {},
     "output_type": "display_data"
    },
    {
     "name": "stdout",
     "output_type": "stream",
     "text": [
      "\n",
      "произведение пхи на эпсилон равняется произведению арго на произведение пхи эпсилон\n"
     ]
    },
    {
     "data": {
      "text/latex": [
       "$\\varphi (\\xi )=\\arg \\left({\\hat {f}}(\\xi )\\right),$"
      ],
      "text/plain": [
       "<IPython.core.display.Latex object>"
      ]
     },
     "metadata": {},
     "output_type": "display_data"
    },
    {
     "name": "stdout",
     "output_type": "stream",
     "text": [
      "\n",
      "произведение эй в ка на пи а степени х\n"
     ]
    },
    {
     "data": {
      "text/latex": [
       "$\\mathbb {A} _{K}(P)^{\\times }.$"
      ],
      "text/plain": [
       "<IPython.core.display.Latex object>"
      ]
     },
     "metadata": {},
     "output_type": "display_data"
    },
    {
     "name": "stdout",
     "output_type": "stream",
     "text": [
      "\n",
      "альфа на эпсилон и на альфа в ку\n"
     ]
    },
    {
     "data": {
      "text/latex": [
       "$\\alpha \\in \\mathbb {A} _{\\mathbb {Q} },$"
      ],
      "text/plain": [
       "<IPython.core.display.Latex object>"
      ]
     },
     "metadata": {},
     "output_type": "display_data"
    },
    {
     "name": "stdout",
     "output_type": "stream",
     "text": [
      "\n",
      "произведение лямбда в 1 степени на пи равняется лямда пи эн на ай 1 степени к\n"
     ]
    },
    {
     "data": {
      "text/latex": [
       "$\\Omega _{1}(P):=\\Omega (P)\\cap I_{K}^{1}.$"
      ],
      "text/plain": [
       "<IPython.core.display.Latex object>"
      ]
     },
     "metadata": {},
     "output_type": "display_data"
    },
    {
     "name": "stdout",
     "output_type": "stream",
     "text": [
      "\n",
      "у в минус первой помноженное на у в минус первой первой равняется произведению у в минус первой на у на эр\n"
     ]
    },
    {
     "data": {
      "text/latex": [
       "$U^{-1}\\times (U^{-1})^{-1}=U^{-1}\\times U\\subset R\\times R$"
      ],
      "text/plain": [
       "<IPython.core.display.Latex object>"
      ]
     },
     "metadata": {},
     "output_type": "display_data"
    },
    {
     "name": "stdout",
     "output_type": "stream",
     "text": [
      "\n",
      "а деленное на сэ в сумме с бэ деленное на сэ равняется сумме а и бэ деленное на сэ\n"
     ]
    },
    {
     "data": {
      "text/latex": [
       "${\\frac {a}{c}}+{\\frac {b}{c}}={\\frac {a+b}{c}}$"
      ],
      "text/plain": [
       "<IPython.core.display.Latex object>"
      ]
     },
     "metadata": {},
     "output_type": "display_data"
    },
    {
     "name": "stdout",
     "output_type": "stream",
     "text": [
      "\n",
      "це в эн равняется один на тэту умноженную на пхи и умноженную на дробь эн тета\n"
     ]
    },
    {
     "data": {
      "text/latex": [
       "$c_{n}={\\frac {1}{T}}{\\hat {f}}\\left({\\frac {n}{T}}\\right)$"
      ],
      "text/plain": [
       "<IPython.core.display.Latex object>"
      ]
     },
     "metadata": {},
     "output_type": "display_data"
    },
    {
     "name": "stdout",
     "output_type": "stream",
     "text": [
      "\n",
      "тета в эф на пхи равняется тета эф на пхи\n"
     ]
    },
    {
     "data": {
      "text/latex": [
       "${\\hat {T}}_{f}(\\varphi )=T_{f}\\left({\\hat {\\varphi }}\\right)$"
      ],
      "text/plain": [
       "<IPython.core.display.Latex object>"
      ]
     },
     "metadata": {},
     "output_type": "display_data"
    },
    {
     "name": "stdout",
     "output_type": "stream",
     "text": [
      "\n",
      "икс в степени эн плюс эй в еденице умноженное на х в степени эн минус один плюс множество эй в эн минус один в степени икс плюс эй эн равняется нулю\n"
     ]
    },
    {
     "data": {
      "text/latex": [
       "$x^{n}+a_{1}x^{n-1}+\\cdots +a_{n-1}x+a_{n}=0,$"
      ],
      "text/plain": [
       "<IPython.core.display.Latex object>"
      ]
     },
     "metadata": {},
     "output_type": "display_data"
    },
    {
     "name": "stdout",
     "output_type": "stream",
     "text": [
      "\n",
      "дэ ноль\n"
     ]
    },
    {
     "data": {
      "text/latex": [
       "$D_{0}(f)D_{0}\\left({\\hat {f}}\\right)\\geq {\\frac {1}{16\\pi ^{2}}}$"
      ],
      "text/plain": [
       "<IPython.core.display.Latex object>"
      ]
     },
     "metadata": {},
     "output_type": "display_data"
    },
    {
     "name": "stdout",
     "output_type": "stream",
     "text": [
      "\n",
      "черта точка черта один\n"
     ]
    },
    {
     "data": {
      "text/latex": [
       "$|\\cdot |_{1},\\ldots ,|\\cdot |_{N},$"
      ],
      "text/plain": [
       "<IPython.core.display.Latex object>"
      ]
     },
     "metadata": {},
     "output_type": "display_data"
    },
    {
     "name": "stdout",
     "output_type": "stream",
     "text": [
      "\n",
      "би равно два арктан\n"
     ]
    },
    {
     "data": {
      "text/latex": [
       "$\\delta =2\\arctan \\left({\\frac {d}{2D}}\\right),$"
      ],
      "text/plain": [
       "<IPython.core.display.Latex object>"
      ]
     },
     "metadata": {},
     "output_type": "display_data"
    },
    {
     "name": "stdout",
     "output_type": "stream",
     "text": [
      "\n",
      "косинус амин с равно\n"
     ]
    },
    {
     "data": {
      "text/latex": [
       "$\\cos a\\sin c=\\sin a\\,\\cos c\\,\\cos B+\\sin b\\,\\cos A$"
      ],
      "text/plain": [
       "<IPython.core.display.Latex object>"
      ]
     },
     "metadata": {},
     "output_type": "display_data"
    },
    {
     "name": "stdout",
     "output_type": "stream",
     "text": [
      "\n",
      "пять дробь двенадцать меньше одинадцать дробь двенадцать\n"
     ]
    },
    {
     "data": {
      "text/latex": [
       "${\\frac {5}{12}}<{\\frac {11}{12}}$"
      ],
      "text/plain": [
       "<IPython.core.display.Latex object>"
      ]
     },
     "metadata": {},
     "output_type": "display_data"
    },
    {
     "name": "stdout",
     "output_type": "stream",
     "text": [
      "\n",
      "четыре восемь\n"
     ]
    },
    {
     "data": {
      "text/latex": [
       "$4,8,12,16,20,24,28,32,36,40,44,48,52,56,60,64,68,72,76,...$"
      ],
      "text/plain": [
       "<IPython.core.display.Latex object>"
      ]
     },
     "metadata": {},
     "output_type": "display_data"
    },
    {
     "name": "stdout",
     "output_type": "stream",
     "text": [
      "\n",
      "ха равно\n"
     ]
    },
    {
     "data": {
      "text/latex": [
       "$H=\\mathbb {Q} (x_{1},\\ldots ,x_{n})$"
      ],
      "text/plain": [
       "<IPython.core.display.Latex object>"
      ]
     },
     "metadata": {},
     "output_type": "display_data"
    },
    {
     "name": "stdout",
     "output_type": "stream",
     "text": [
      "\n",
      "два\n"
     ]
    },
    {
     "data": {
      "text/latex": [
       "$2}={\\frac {1}{n-1}}\\sum _{i}(y_{i}-{\\bar {y}})^{2}$"
      ],
      "text/plain": [
       "<IPython.core.display.Latex object>"
      ]
     },
     "metadata": {},
     "output_type": "display_data"
    },
    {
     "name": "stdout",
     "output_type": "stream",
     "text": [
      "\n",
      "черта би вэ черта вэ\n"
     ]
    },
    {
     "data": {
      "text/latex": [
       "$|\\beta _{v}|_{v}\\leq |\\alpha _{v}|_{v}$"
      ],
      "text/plain": [
       "<IPython.core.display.Latex object>"
      ]
     },
     "metadata": {},
     "output_type": "display_data"
    },
    {
     "name": "stdout",
     "output_type": "stream",
     "text": [
      "\n",
      "минус три эс равно\n"
     ]
    },
    {
     "data": {
      "text/latex": [
       "$-3c=1-2+3-4+\\cdots ={\\frac {1}{(1+1)^{2}}}={\\frac {1}{4}}.$"
      ],
      "text/plain": [
       "<IPython.core.display.Latex object>"
      ]
     },
     "metadata": {},
     "output_type": "display_data"
    },
    {
     "name": "stdout",
     "output_type": "stream",
     "text": [
      "\n",
      "у умножить на у в минус первой степени принадлежит а в степени к умножить на а в степени к\n"
     ]
    },
    {
     "data": {
      "text/latex": [
       "$U\\times U^{-1}\\subset \\mathbb {A} _{K}\\times \\mathbb {A} _{K}$"
      ],
      "text/plain": [
       "<IPython.core.display.Latex object>"
      ]
     },
     "metadata": {},
     "output_type": "display_data"
    },
    {
     "name": "stdout",
     "output_type": "stream",
     "text": [
      "\n",
      "е г скобка открывается б в степени н точка запятая икс скобка закрывается равно скобка открывается  секанс икс плюс тангенс икс скобка закрывается е г скобка открывается а в степени н тоска запятая икс скобка закрывается точка \n"
     ]
    },
    {
     "data": {
      "text/latex": [
       "$EG(b_{n};x)=(\\sec x+\\tan x)\\,EG(a_{n};x).$"
      ],
      "text/plain": [
       "<IPython.core.display.Latex object>"
      ]
     },
     "metadata": {},
     "output_type": "display_data"
    },
    {
     "name": "stdout",
     "output_type": "stream",
     "text": [
      "\n",
      "игрек в степени один запятая игрек в степени два запятая игрек в степени три\n"
     ]
    },
    {
     "data": {
      "text/latex": [
       "$\\mathbf {y} _{1},\\mathbf {y} _{2},\\mathbf {y} _{3}$"
      ],
      "text/plain": [
       "<IPython.core.display.Latex object>"
      ]
     },
     "metadata": {},
     "output_type": "display_data"
    },
    {
     "name": "stdout",
     "output_type": "stream",
     "text": [
      "\n",
      "энный предел последовательности а в степени н плюс энный перел последовательности б в степени н равно энный предел последовательности скобка открывается а в степени н плюс б в степени н скобка закрывается точка\n"
     ]
    },
    {
     "data": {
      "text/latex": [
       "$\\lim _{n}a_{n}+\\lim _{n}b_{n}=\\lim _{n}(a_{n}+b_{n}).$"
      ],
      "text/plain": [
       "<IPython.core.display.Latex object>"
      ]
     },
     "metadata": {},
     "output_type": "display_data"
    },
    {
     "name": "stdout",
     "output_type": "stream",
     "text": [
      "\n",
      "о в степени в подмножество к в степени в\n"
     ]
    },
    {
     "data": {
      "text/latex": [
       "${\\mathcal {O}}_{\\nu }\\subset K_{\\nu }$"
      ],
      "text/plain": [
       "<IPython.core.display.Latex object>"
      ]
     },
     "metadata": {},
     "output_type": "display_data"
    },
    {
     "name": "stdout",
     "output_type": "stream",
     "text": [
      "\n",
      "ф скобка открывается икс скобка закрывается тильда бесконечное равенство н равное нолю на а в степени н ф в степени н скобка открывается икс скобка закрывается скобка открывается икс стремящаяся к л скобка закрывается точка\n"
     ]
    },
    {
     "data": {
      "text/latex": [
       "$f(x)\\sim \\sum _{n=0}^{\\infty }a_{n}\\varphi _{n}(x)\\ (x\\to L)\\ .$"
      ],
      "text/plain": [
       "<IPython.core.display.Latex object>"
      ]
     },
     "metadata": {},
     "output_type": "display_data"
    },
    {
     "name": "stdout",
     "output_type": "stream",
     "text": [
      "\n",
      "дабл ю равно в делить р запятая\n"
     ]
    },
    {
     "data": {
      "text/latex": [
       "$\\omega ={\\frac {v_{\\perp }}{r}},$"
      ],
      "text/plain": [
       "<IPython.core.display.Latex object>"
      ]
     },
     "metadata": {},
     "output_type": "display_data"
    },
    {
     "name": "stdout",
     "output_type": "stream",
     "text": [
      "\n",
      "скобка закрывается равно суммарная к принадлежность к з ф в скобка открывается к скобка закрывается е в степени к\n"
     ]
    },
    {
     "data": {
      "text/latex": [
       "$)=\\sum _{k\\in Z}{\\hat {f}}(k)e_{k}$"
      ],
      "text/plain": [
       "<IPython.core.display.Latex object>"
      ]
     },
     "metadata": {},
     "output_type": "display_data"
    },
    {
     "name": "stdout",
     "output_type": "stream",
     "text": [
      "\n",
      "р равно р скобка открывается у запятая в скобка закрывается запятая\n"
     ]
    },
    {
     "data": {
      "text/latex": [
       "$\\mathbf {r} =\\mathbf {r} (u,v),$"
      ],
      "text/plain": [
       "<IPython.core.display.Latex object>"
      ]
     },
     "metadata": {},
     "output_type": "display_data"
    },
    {
     "name": "stdout",
     "output_type": "stream",
     "text": [
      "\n",
      "в в степени и равно в плюс дабл ю р в степени и\n"
     ]
    },
    {
     "data": {
      "text/latex": [
       "$\\mathbf {V} _{i}=\\mathbf {V} +W\\mathbf {r} _{i}$"
      ],
      "text/plain": [
       "<IPython.core.display.Latex object>"
      ]
     },
     "metadata": {},
     "output_type": "display_data"
    },
    {
     "name": "stdout",
     "output_type": "stream",
     "text": [
      "\n",
      "эф скобка открывается эс скобка закрывается равно интеграл от нуля до бесконечности от эф скобка открывается тэ скобка закрывается е в степени скобка открывается минус эс тэ скобка закрывается по дэ тэ точка\n"
     ]
    },
    {
     "data": {
      "text/latex": [
       "$F(s)=\\int _{0}^{\\infty }f(t)e^{-st}\\,dt.$"
      ],
      "text/plain": [
       "<IPython.core.display.Latex object>"
      ]
     },
     "metadata": {},
     "output_type": "display_data"
    },
    {
     "name": "stdout",
     "output_type": "stream",
     "text": [
      "\n",
      "эф скобка открывается икс скобка закрывается минус гэ скобка открывается икс скобка закрывается равно а икс в квадрате плюс бэ икс плюс цэ равно а скобка открывается икс минус альфа скобка закрывается скобка открывается икс минус бета скобка закрывается\n"
     ]
    },
    {
     "data": {
      "text/latex": [
       "$f(x)-g(x)=ax^{2}+bx+c=a(x-\\alpha )(x-\\beta )$"
      ],
      "text/plain": [
       "<IPython.core.display.Latex object>"
      ]
     },
     "metadata": {},
     "output_type": "display_data"
    },
    {
     "name": "stdout",
     "output_type": "stream",
     "text": [
      "\n",
      "зэта второе тензорное произведение зэта второе тензорное произведение зэта второе\n"
     ]
    },
    {
     "data": {
      "text/latex": [
       "$\\mathbb {Z} _{2}\\oplus \\mathbb {Z} _{2}\\oplus \\mathbb {Z} _{2}$"
      ],
      "text/plain": [
       "<IPython.core.display.Latex object>"
      ]
     },
     "metadata": {},
     "output_type": "display_data"
    },
    {
     "name": "stdout",
     "output_type": "stream",
     "text": [
      "\n",
      "эр большое итое равно эр большое плюс эр малое итое\n"
     ]
    },
    {
     "data": {
      "text/latex": [
       "$\\mathbf {R} _{i}=\\mathbf {R} +\\mathbf {r} _{i}$"
      ],
      "text/plain": [
       "<IPython.core.display.Latex object>"
      ]
     },
     "metadata": {},
     "output_type": "display_data"
    },
    {
     "name": "stdout",
     "output_type": "stream",
     "text": [
      "\n",
      "скобка открывается у запятая вэ скобка закрывается принадлежит дэ большое является подмножеством эр большое в квадрате\n"
     ]
    },
    {
     "data": {
      "text/latex": [
       "$(u,v)\\in D\\subset \\mathbb {R} ^{2}$"
      ],
      "text/plain": [
       "<IPython.core.display.Latex object>"
      ]
     },
     "metadata": {},
     "output_type": "display_data"
    },
    {
     "name": "stdout",
     "output_type": "stream",
     "text": [
      "\n",
      "каппа умножить на мю равно макс скобка фигурная окрывается каппа запятая мю скобка фигурная закрывается точка\n"
     ]
    },
    {
     "data": {
      "text/latex": [
       "$\\kappa \\cdot \\mu =\\max\\{\\kappa ,\\mu \\}.$"
      ],
      "text/plain": [
       "<IPython.core.display.Latex object>"
      ]
     },
     "metadata": {},
     "output_type": "display_data"
    },
    {
     "name": "stdout",
     "output_type": "stream",
     "text": [
      "\n",
      "сигма ка от ка равно один до эн равно эн скобка открывается эн плюс один скобка закрывается разделить на 2 точка\n"
     ]
    },
    {
     "data": {
      "text/latex": [
       "$\\sum _{k=1}^{n}k={\\frac {n(n+1)}{2}}.$"
      ],
      "text/plain": [
       "<IPython.core.display.Latex object>"
      ]
     },
     "metadata": {},
     "output_type": "display_data"
    },
    {
     "name": "stdout",
     "output_type": "stream",
     "text": [
      "\n",
      "эф большое в кубе скобка открывается конъюнкция эф скобка закрывается равно эф\n"
     ]
    },
    {
     "data": {
      "text/latex": [
       "${\\mathcal {F}}^{3}({\\hat {f}})=f$"
      ],
      "text/plain": [
       "<IPython.core.display.Latex object>"
      ]
     },
     "metadata": {},
     "output_type": "display_data"
    },
    {
     "name": "stdout",
     "output_type": "stream",
     "text": [
      "\n",
      "эф верхний индекс звездочка скобка открывается гэ скобка закрывается равно черта сверхуэф скобка открывается гэ в степени минус один скобка закрывается запятая\n"
     ]
    },
    {
     "data": {
      "text/latex": [
       "$f^{*}(g)={\\overline {f\\left(g^{-1}\\right)}},$"
      ],
      "text/plain": [
       "<IPython.core.display.Latex object>"
      ]
     },
     "metadata": {},
     "output_type": "display_data"
    },
    {
     "name": "stdout",
     "output_type": "stream",
     "text": [
      "\n",
      "а большое нижний индекс е большое прямое произведение а большое нижний индекс е большое верхний индекс звездочка точка\n"
     ]
    },
    {
     "data": {
      "text/latex": [
       "$\\mathbb {A} _{E}\\times \\mathbb {A} _{E}^{\\star }.$"
      ],
      "text/plain": [
       "<IPython.core.display.Latex object>"
      ]
     },
     "metadata": {},
     "output_type": "display_data"
    },
    {
     "name": "stdout",
     "output_type": "stream",
     "text": [
      "\n",
      "множество эль включающее эр коньюнкция эс равно множеству бэ от эр до эс\n"
     ]
    },
    {
     "data": {
      "text/latex": [
       "$L(\\mathbf {r} \\wedge \\mathbf {s} )=B(\\mathbf {r} ,\\mathbf {s} )$"
      ],
      "text/plain": [
       "<IPython.core.display.Latex object>"
      ]
     },
     "metadata": {},
     "output_type": "display_data"
    },
    {
     "name": "stdout",
     "output_type": "stream",
     "text": [
      "\n",
      "множество коммутантов групры а равно игрек в седьмой степени плюс игрек в шестой степени плюс игрек в пятой степени плюс игрек в третьей степени плюс игрек во второй степени плюс один равно множество элементом которого является один один один ноль один один ноль один в двоичной системе исчисления\n"
     ]
    },
    {
     "data": {
      "text/latex": [
       "$\\{a'\\}=y^{7}+y^{6}+y^{5}+y^{3}+y^{2}+1=\\{11101101_{2}\\}$"
      ],
      "text/plain": [
       "<IPython.core.display.Latex object>"
      ]
     },
     "metadata": {},
     "output_type": "display_data"
    },
    {
     "name": "stdout",
     "output_type": "stream",
     "text": [
      "\n",
      "промежуток от не включая дельта а до не включая дельта б пересекается с промежутком от включая минус пи делить на два до включая пи делить на два \n"
     ]
    },
    {
     "data": {
      "text/latex": [
       "$(\\delta _{A},\\delta _{B})\\in [-\\pi /2,\\pi /2]$"
      ],
      "text/plain": [
       "<IPython.core.display.Latex object>"
      ]
     },
     "metadata": {},
     "output_type": "display_data"
    },
    {
     "name": "stdout",
     "output_type": "stream",
     "text": [
      "\n",
      "предел стремящийся к нулю числитель логарифм цэ скобка один плюс а умножить на икс скобка знаменатель бэ умножить на икс конец дроби равно а делить на б умноженное на натуральный логарифм цэ\n"
     ]
    },
    {
     "data": {
      "text/latex": [
       "$\\lim _{x\\to 0}{\\frac {\\log _{c}(1+ax)}{bx}}={\\frac {a}{b\\ln c}}$"
      ],
      "text/plain": [
       "<IPython.core.display.Latex object>"
      ]
     },
     "metadata": {},
     "output_type": "display_data"
    },
    {
     "name": "stdout",
     "output_type": "stream",
     "text": [
      "\n",
      "тэ по эф от фи равно интеграл по действительным числам в степени н по эф от икс умножить на фи от икс умножить на дэ икс\n"
     ]
    },
    {
     "data": {
      "text/latex": [
       "$T_{f}(\\varphi )=\\int _{\\mathbb {R} ^{n}}f(x)\\varphi (x)\\,dx$"
      ],
      "text/plain": [
       "<IPython.core.display.Latex object>"
      ]
     },
     "metadata": {},
     "output_type": "display_data"
    },
    {
     "name": "stdout",
     "output_type": "stream",
     "text": [
      "\n",
      "эль итое житое равно икс итое пи житое минус икс житое пи итое\n"
     ]
    },
    {
     "data": {
      "text/latex": [
       "$L_{ij}=x_{i}p_{j}-x_{j}p_{i}\\,.$"
      ],
      "text/plain": [
       "<IPython.core.display.Latex object>"
      ]
     },
     "metadata": {},
     "output_type": "display_data"
    },
    {
     "name": "stdout",
     "output_type": "stream",
     "text": [
      "\n",
      "икс от омега равно икс по эль от омега минус икс по цэ от омега\n"
     ]
    },
    {
     "data": {
      "text/latex": [
       "$x(\\omega )=x_{L}(\\omega )-x_{C}(\\omega ),$"
      ],
      "text/plain": [
       "<IPython.core.display.Latex object>"
      ]
     },
     "metadata": {},
     "output_type": "display_data"
    },
    {
     "name": "stdout",
     "output_type": "stream",
     "text": [
      "\n",
      "эр прямое произведение эм умножить на вэ равно нулю\n"
     ]
    },
    {
     "data": {
      "text/latex": [
       "$\\mathbf {R} \\times M\\mathbf {V} =\\mathbf {0} ,$"
      ],
      "text/plain": [
       "<IPython.core.display.Latex object>"
      ]
     },
     "metadata": {},
     "output_type": "display_data"
    },
    {
     "name": "stdout",
     "output_type": "stream",
     "text": [
      "\n",
      "пэ равно минус скобка пэ умножить на цэ в квадрате скобка частная производная дельта по икс\n"
     ]
    },
    {
     "data": {
      "text/latex": [
       "$p=-\\rho c^{2}{\\frac {\\partial \\delta }{\\partial x}},$"
      ],
      "text/plain": [
       "<IPython.core.display.Latex object>"
      ]
     },
     "metadata": {},
     "output_type": "display_data"
    },
    {
     "name": "stdout",
     "output_type": "stream",
     "text": [
      "\n",
      "дельта тетта равно тетта второе минус тетта первое\n"
     ]
    },
    {
     "data": {
      "text/latex": [
       "$\\Delta \\theta =\\theta _{2}-\\theta _{1}$"
      ],
      "text/plain": [
       "<IPython.core.display.Latex object>"
      ]
     },
     "metadata": {},
     "output_type": "display_data"
    },
    {
     "name": "stdout",
     "output_type": "stream",
     "text": [
      "\n",
      "эн равно два в степени эр три в степени эс пи один пи два троеточие пэ ка запятая\n"
     ]
    },
    {
     "data": {
      "text/latex": [
       "$n=2^{r}3^{s}p_{1}p_{2}\\cdots p_{k},$"
      ],
      "text/plain": [
       "<IPython.core.display.Latex object>"
      ]
     },
     "metadata": {},
     "output_type": "display_data"
    },
    {
     "name": "stdout",
     "output_type": "stream",
     "text": [
      "\n",
      "а дробь бэ плюс цэ дробь дэ равно а дэ плюс бэ цэ дробь бэ дэ\n"
     ]
    },
    {
     "data": {
      "text/latex": [
       "${\\frac {a}{b}}+{\\frac {c}{d}}={\\frac {ad+bc}{bd}}.$"
      ],
      "text/plain": [
       "<IPython.core.display.Latex object>"
      ]
     },
     "metadata": {},
     "output_type": "display_data"
    },
    {
     "name": "stdout",
     "output_type": "stream",
     "text": [
      "\n",
      "скобка икс запятая игрик скобка е ли ми эр в квадрате\n"
     ]
    },
    {
     "data": {
      "text/latex": [
       "$(x,y)\\in D\\subset \\mathbb {R} ^{2}$"
      ],
      "text/plain": [
       "<IPython.core.display.Latex object>"
      ]
     },
     "metadata": {},
     "output_type": "display_data"
    },
    {
     "name": "stdout",
     "output_type": "stream",
     "text": [
      "\n",
      "ку двоеточие а стрелка а дробь цэ\n"
     ]
    },
    {
     "data": {
      "text/latex": [
       "$Q\\colon \\mathbf {A} \\to \\mathbf {A} /\\mathbf {C} $"
      ],
      "text/plain": [
       "<IPython.core.display.Latex object>"
      ]
     },
     "metadata": {},
     "output_type": "display_data"
    },
    {
     "name": "stdout",
     "output_type": "stream",
     "text": [
      "\n",
      "скобка икс запятая игрик скобка разделить ай см эм скобка икс запятая игрик скобка равно ди равно три в степени дабл вэ скобка ди\n"
     ]
    },
    {
     "data": {
      "text/latex": [
       "$|\\{(x,y)\\;:\\;\\operatorname {lcm} (x,y)=D\\}|=3^{\\omega (D)},$"
      ],
      "text/plain": [
       "<IPython.core.display.Latex object>"
      ]
     },
     "metadata": {},
     "output_type": "display_data"
    },
    {
     "name": "stdout",
     "output_type": "stream",
     "text": [
      "\n",
      "ай умножить ай ку разделить на ка стрелка эр больше или равно нулю\n"
     ]
    },
    {
     "data": {
      "text/latex": [
       "$|\\cdot |_{\\sigma }:K\\to \\mathbb {R} _{\\geq 0}$"
      ],
      "text/plain": [
       "<IPython.core.display.Latex object>"
      ]
     },
     "metadata": {},
     "output_type": "display_data"
    },
    {
     "name": "stdout",
     "output_type": "stream",
     "text": [
      "\n",
      "эс в степени бесконечность минус бесконечность скобка эф скобка икс скобка скобка в квадрате умножить дэ икс равно одному\n"
     ]
    },
    {
     "data": {
      "text/latex": [
       "$\\int _{-\\infty }^{\\infty }|f(x)|^{2}\\,dx=1.$"
      ],
      "text/plain": [
       "<IPython.core.display.Latex object>"
      ]
     },
     "metadata": {},
     "output_type": "display_data"
    },
    {
     "name": "stdout",
     "output_type": "stream",
     "text": [
      "\n",
      "лим икс в минус первой степени равно минус бесконечность икс стрелка ноль в минусовой степени\n"
     ]
    },
    {
     "data": {
      "text/latex": [
       "$\\lim _{x\\to 0^{-}}{x^{-1}}=-\\infty $"
      ],
      "text/plain": [
       "<IPython.core.display.Latex object>"
      ]
     },
     "metadata": {},
     "output_type": "display_data"
    },
    {
     "name": "stdout",
     "output_type": "stream",
     "text": [
      "\n",
      "джи разделить на эр стрелка эр\n"
     ]
    },
    {
     "data": {
      "text/latex": [
       "$G:\\mathbb {R} \\to \\mathbb {R} $"
      ],
      "text/plain": [
       "<IPython.core.display.Latex object>"
      ]
     },
     "metadata": {},
     "output_type": "display_data"
    },
    {
     "name": "stdout",
     "output_type": "stream",
     "text": [
      "\n",
      "эф скобка пи скобка эф скобка ку скобка равно фи скобка пи ку скобка\n"
     ]
    },
    {
     "data": {
      "text/latex": [
       "${\\overrightarrow {f(P)~f(Q)}}=\\varphi ({\\overrightarrow {PQ}})$"
      ],
      "text/plain": [
       "<IPython.core.display.Latex object>"
      ]
     },
     "metadata": {},
     "output_type": "display_data"
    },
    {
     "name": "stdout",
     "output_type": "stream",
     "text": [
      "\n",
      "один плюс два плюс три плюс четыре плюс и так далее равно минус одна двенадцатая\n"
     ]
    },
    {
     "data": {
      "text/latex": [
       "$1+2+3+4+\\cdots =-{\\frac {1}{12}},$"
      ],
      "text/plain": [
       "<IPython.core.display.Latex object>"
      ]
     },
     "metadata": {},
     "output_type": "display_data"
    },
    {
     "name": "stdout",
     "output_type": "stream",
     "text": [
      "\n",
      "зет от ер омега равно плюс минус пи на це делить на а\n"
     ]
    },
    {
     "data": {
      "text/latex": [
       "$Z(\\mathbf {r} ,\\,\\omega )=\\pm {\\frac {\\rho c}{A}},$"
      ],
      "text/plain": [
       "<IPython.core.display.Latex object>"
      ]
     },
     "metadata": {},
     "output_type": "display_data"
    },
    {
     "name": "stdout",
     "output_type": "stream",
     "text": [
      "\n",
      "це эль катое равно джи катое делить на ка в степени икс\n"
     ]
    },
    {
     "data": {
      "text/latex": [
       "$\\operatorname {Cl} _{K}=J_{K}/K^{\\times }.$"
      ],
      "text/plain": [
       "<IPython.core.display.Latex object>"
      ]
     },
     "metadata": {},
     "output_type": "display_data"
    },
    {
     "name": "stdout",
     "output_type": "stream",
     "text": [
      "\n",
      "вэ скобка открывается а плюс бэ скобка закрывается меньше или равно максимум из ве от а ве от бэ\n"
     ]
    },
    {
     "data": {
      "text/latex": [
       "$v(a+b)\\leq \\max\\{v(a),v(b)\\}\\ $"
      ],
      "text/plain": [
       "<IPython.core.display.Latex object>"
      ]
     },
     "metadata": {},
     "output_type": "display_data"
    },
    {
     "name": "stdout",
     "output_type": "stream",
     "text": [
      "\n",
      "эн в степени минус альфа равно е в степени минус и на образ альфа на логорифм эн\n"
     ]
    },
    {
     "data": {
      "text/latex": [
       "$n^{-\\alpha }=e^{-i\\operatorname {Im} \\alpha \\log n}$"
      ],
      "text/plain": [
       "<IPython.core.display.Latex object>"
      ]
     },
     "metadata": {},
     "output_type": "display_data"
    },
    {
     "name": "stdout",
     "output_type": "stream",
     "text": [
      "\n",
      "вэ пэтое пэтое принадлежит области зэт\n"
     ]
    },
    {
     "data": {
      "text/latex": [
       "$(v_{p})_{p}\\in {\\widehat {\\mathbb {Z} }}$"
      ],
      "text/plain": [
       "<IPython.core.display.Latex object>"
      ]
     },
     "metadata": {},
     "output_type": "display_data"
    },
    {
     "name": "stdout",
     "output_type": "stream",
     "text": [
      "\n",
      "цэ катое  равно минимум из множества эр е рэтое равно е катое\n"
     ]
    },
    {
     "data": {
      "text/latex": [
       "$c_{k}=\\min\\{r\\mid e_{r}=e_{k}\\}$"
      ],
      "text/plain": [
       "<IPython.core.display.Latex object>"
      ]
     },
     "metadata": {},
     "output_type": "display_data"
    },
    {
     "name": "stdout",
     "output_type": "stream",
     "text": [
      "\n",
      "производная кси принадлежит области о в степени икс\n"
     ]
    },
    {
     "data": {
      "text/latex": [
       "$\\xi '\\in {\\widehat {O}}^{\\times }$"
      ],
      "text/plain": [
       "<IPython.core.display.Latex object>"
      ]
     },
     "metadata": {},
     "output_type": "display_data"
    },
    {
     "name": "stdout",
     "output_type": "stream",
     "text": [
      "\n",
      "сумма ка в степени два от ка равно один до пяти равно один в квадрате плюс два в квадрате плюс три в квадрате плюс четыре в квадрате плюс пять в квадрате равно пятьдесят пять\n"
     ]
    },
    {
     "data": {
      "text/latex": [
       "$\\sum _{k=1}^{5}k^{2}=1^{2}+2^{2}+3^{2}+4^{2}+5^{2}=55.$"
      ],
      "text/plain": [
       "<IPython.core.display.Latex object>"
      ]
     },
     "metadata": {},
     "output_type": "display_data"
    },
    {
     "name": "stdout",
     "output_type": "stream",
     "text": [
      "\n",
      "а летое равно тензорное произведение а катое на ка эль\n"
     ]
    },
    {
     "data": {
      "text/latex": [
       "$\\mathbb {A} _{L}=\\mathbb {A} _{K}\\otimes _{K}L$"
      ],
      "text/plain": [
       "<IPython.core.display.Latex object>"
      ]
     },
     "metadata": {},
     "output_type": "display_data"
    },
    {
     "name": "stdout",
     "output_type": "stream",
     "text": [
      "\n",
      "цэ итое равно бэ итое умножить на скобка открывается два минус отношение два плюс один к и плюс один скобка закрывается\n"
     ]
    },
    {
     "data": {
      "text/latex": [
       "$C_{i}=B_{i}\\left(2-{\\frac {2i+1}{i+1}}\\right),$"
      ],
      "text/plain": [
       "<IPython.core.display.Latex object>"
      ]
     },
     "metadata": {},
     "output_type": "display_data"
    },
    {
     "name": "stdout",
     "output_type": "stream",
     "text": [
      "\n",
      "слэш двоеточие из а два в а три\n"
     ]
    },
    {
     "data": {
      "text/latex": [
       "$I\\colon \\mathbf {A} _{2}\\to \\mathbf {A} _{3}$"
      ],
      "text/plain": [
       "<IPython.core.display.Latex object>"
      ]
     },
     "metadata": {},
     "output_type": "display_data"
    },
    {
     "name": "stdout",
     "output_type": "stream",
     "text": [
      "\n",
      "дэ ка равно максимуму эр при е эр равно е ка\n"
     ]
    },
    {
     "data": {
      "text/latex": [
       "$d_{k}=\\max\\{r\\mid e_{r}=e_{k}^{\\,}\\}$"
      ],
      "text/plain": [
       "<IPython.core.display.Latex object>"
      ]
     },
     "metadata": {},
     "output_type": "display_data"
    },
    {
     "name": "stdout",
     "output_type": "stream",
     "text": [
      "\n",
      "ка равно эр умножить на скобка открывается пэ минус е умноженное на а скобка закрывается\n"
     ]
    },
    {
     "data": {
      "text/latex": [
       "$\\mathbf {K} =\\mathbf {r} \\times (\\mathbf {P} -e\\mathbf {A} )$"
      ],
      "text/plain": [
       "<IPython.core.display.Latex object>"
      ]
     },
     "metadata": {},
     "output_type": "display_data"
    },
    {
     "name": "stdout",
     "output_type": "stream",
     "text": [
      "\n",
      "пи эр скобка открывается эр плюс корень квадратный из суммы эр в квадрате и аш в квадрате скобка закрывается\n"
     ]
    },
    {
     "data": {
      "text/latex": [
       "$\\pi r\\left(r+{\\sqrt {r^{2}+h^{2}}}\\right)$"
      ],
      "text/plain": [
       "<IPython.core.display.Latex object>"
      ]
     },
     "metadata": {},
     "output_type": "display_data"
    },
    {
     "name": "stdout",
     "output_type": "stream",
     "text": [
      "\n",
      "о пересекается с о ка в пэ\n"
     ]
    },
    {
     "data": {
      "text/latex": [
       "${\\mathfrak {o}}\\cap {\\mathcal {O}}_{K}={\\mathfrak {p}}$"
      ],
      "text/plain": [
       "<IPython.core.display.Latex object>"
      ]
     },
     "metadata": {},
     "output_type": "display_data"
    },
    {
     "name": "stdout",
     "output_type": "stream",
     "text": [
      "\n",
      "джи равно эф умножить на фи в степени минус один делить на значения цэ и дэ из множества эр эн\n"
     ]
    },
    {
     "data": {
      "text/latex": [
       "$g=f\\circ \\varphi ^{-1}:[c,d]\\to \\mathbb {R} ^{n}$"
      ],
      "text/plain": [
       "<IPython.core.display.Latex object>"
      ]
     },
     "metadata": {},
     "output_type": "display_data"
    },
    {
     "name": "stdout",
     "output_type": "stream",
     "text": [
      "\n",
      "е со звёздочкой принадлежит а е со звездочкой\n"
     ]
    },
    {
     "data": {
      "text/latex": [
       "$e^{\\star }\\in \\mathbb {A} _{E}^{\\star }$"
      ],
      "text/plain": [
       "<IPython.core.display.Latex object>"
      ]
     },
     "metadata": {},
     "output_type": "display_data"
    },
    {
     "name": "stdout",
     "output_type": "stream",
     "text": [
      "\n",
      "сумма от эн малого равное нулю до бесконечности эн малое умножить на эф умножить на скобка открывается эн малое делить на на эн большое\n"
     ]
    },
    {
     "data": {
      "text/latex": [
       "$\\sum _{n=0}^{\\infty }nf\\left({\\frac {n}{N}}\\right),$"
      ],
      "text/plain": [
       "<IPython.core.display.Latex object>"
      ]
     },
     "metadata": {},
     "output_type": "display_data"
    },
    {
     "name": "stdout",
     "output_type": "stream",
     "text": [
      "\n",
      "омега один плюс омега два равно омега два плюс омега один\n"
     ]
    },
    {
     "data": {
      "text/latex": [
       "$\\omega _{1}+\\omega _{2}=\\omega _{2}+\\omega _{1}$"
      ],
      "text/plain": [
       "<IPython.core.display.Latex object>"
      ]
     },
     "metadata": {},
     "output_type": "display_data"
    },
    {
     "name": "stdout",
     "output_type": "stream",
     "text": [
      "\n",
      "векторная величина эф скобка открывается пэ три скобка закрывается фи скобка открывается пэ четыре скобка закрывается\n"
     ]
    },
    {
     "data": {
      "text/latex": [
       "${\\overrightarrow {f(p_{3})f(p_{4})}}$"
      ],
      "text/plain": [
       "<IPython.core.display.Latex object>"
      ]
     },
     "metadata": {},
     "output_type": "display_data"
    },
    {
     "name": "stdout",
     "output_type": "stream",
     "text": [
      "\n",
      "ипсилон равено скобка открывается ипсилон вэ скобка закрывается вэ принадлежит к множеству эль ка\n"
     ]
    },
    {
     "data": {
      "text/latex": [
       "$\\gamma =(\\gamma _{v})_{v}\\in I_{K}.$"
      ],
      "text/plain": [
       "<IPython.core.display.Latex object>"
      ]
     },
     "metadata": {},
     "output_type": "display_data"
    },
    {
     "name": "stdout",
     "output_type": "stream",
     "text": [
      "\n",
      "гээль скобка открывается два запятая а ку рациональное число скобка закрывается\n"
     ]
    },
    {
     "data": {
      "text/latex": [
       "$\\operatorname {GL} (2,\\mathbb {A} _{\\mathbb {Q} })$"
      ],
      "text/plain": [
       "<IPython.core.display.Latex object>"
      ]
     },
     "metadata": {},
     "output_type": "display_data"
    },
    {
     "name": "stdout",
     "output_type": "stream",
     "text": [
      "\n",
      "оператор эпэдэ равно оператор дэпээс\n"
     ]
    },
    {
     "data": {
      "text/latex": [
       "${\\widehat {EPD}}={\\widehat {DPS}}$"
      ],
      "text/plain": [
       "<IPython.core.display.Latex object>"
      ]
     },
     "metadata": {},
     "output_type": "display_data"
    },
    {
     "name": "stdout",
     "output_type": "stream",
     "text": [
      "\n",
      "пи деление дабл ю функция а ку рациональное число деление ку рациональное число\n"
     ]
    },
    {
     "data": {
      "text/latex": [
       "$\\pi :W\\to \\mathbb {A} _{\\mathbb {Q} }/\\mathbb {Q} $"
      ],
      "text/plain": [
       "<IPython.core.display.Latex object>"
      ]
     },
     "metadata": {},
     "output_type": "display_data"
    },
    {
     "name": "stdout",
     "output_type": "stream",
     "text": [
      "\n",
      "рэаэсдээр действительные числа дэтэ\n"
     ]
    },
    {
     "data": {
      "text/latex": [
       "$rac {d\\mathbf {r} }{dt}}=\\mathbf {v} $"
      ],
      "text/plain": [
       "<IPython.core.display.Latex object>"
      ]
     },
     "metadata": {},
     "output_type": "display_data"
    },
    {
     "name": "stdout",
     "output_type": "stream",
     "text": [
      "\n",
      "вэ является элементом  оператора зет целое число\n"
     ]
    },
    {
     "data": {
      "text/latex": [
       "$V\\subset {\\widehat {\\mathbb {Z} }}$"
      ],
      "text/plain": [
       "<IPython.core.display.Latex object>"
      ]
     },
     "metadata": {},
     "output_type": "display_data"
    },
    {
     "name": "stdout",
     "output_type": "stream",
     "text": [
      "\n",
      "эс ка равно сумма ка эн равен один скобка открывается минус один скобка закрывается в степени эн минус один а эн\n"
     ]
    },
    {
     "data": {
      "text/latex": [
       "$S_{k}=\\sum _{n=1}^{k}(-1)^{n-1}a_{n}$"
      ],
      "text/plain": [
       "<IPython.core.display.Latex object>"
      ]
     },
     "metadata": {},
     "output_type": "display_data"
    },
    {
     "name": "stdout",
     "output_type": "stream",
     "text": [
      "\n",
      "треугольник тэ меньше чем бэ скобка открывается э скобка закрывается\n"
     ]
    },
    {
     "data": {
      "text/latex": [
       "$\\Delta t<\\delta (\\varepsilon )$"
      ],
      "text/plain": [
       "<IPython.core.display.Latex object>"
      ]
     },
     "metadata": {},
     "output_type": "display_data"
    },
    {
     "name": "stdout",
     "output_type": "stream",
     "text": [
      "\n",
      "а плюс бэ равно  множество элементов ку плюс рэ таких что верно ку принадлежит а запятая рэ принадлежит бэ точка\n"
     ]
    },
    {
     "data": {
      "text/latex": [
       "$a+b=\\{q+r\\mid q\\in a,r\\in b\\}.$"
      ],
      "text/plain": [
       "<IPython.core.display.Latex object>"
      ]
     },
     "metadata": {},
     "output_type": "display_data"
    },
    {
     "name": "stdout",
     "output_type": "stream",
     "text": [
      "\n",
      "а равно икс нулевое меньше икс первого меньше икс второго и так далее меньше икс с индексом эн равно бэ\n"
     ]
    },
    {
     "data": {
      "text/latex": [
       "$a=x_{0}<x_{1}<x_{2}<\\dots <x_{n}=b,$"
      ],
      "text/plain": [
       "<IPython.core.display.Latex object>"
      ]
     },
     "metadata": {},
     "output_type": "display_data"
    },
    {
     "name": "stdout",
     "output_type": "stream",
     "text": [
      "\n",
      "эф равно ку скобка открывается а один и так далее а эн скобка закрывается\n"
     ]
    },
    {
     "data": {
      "text/latex": [
       "$F=\\mathbb {Q} (a_{1},\\ldots ,a_{n})$"
      ],
      "text/plain": [
       "<IPython.core.display.Latex object>"
      ]
     },
     "metadata": {},
     "output_type": "display_data"
    },
    {
     "name": "stdout",
     "output_type": "stream",
     "text": [
      "\n",
      "предел а с индексом эн при стремлении эн к бесконечности равен нулю\n"
     ]
    },
    {
     "data": {
      "text/latex": [
       "$\\lim _{n\\rightarrow \\infty }a_{n}=0$"
      ],
      "text/plain": [
       "<IPython.core.display.Latex object>"
      ]
     },
     "metadata": {},
     "output_type": "display_data"
    },
    {
     "name": "stdout",
     "output_type": "stream",
     "text": [
      "\n",
      "эс с индексом скобка открывается два эм плюс один скобка закрывается равно сумма от одного до скобка открывается два эм плюс один скобка закрывается умножить на минус один в степени скобка открывается эн минус один скобка закрывается умножить на а с индексом эн\n"
     ]
    },
    {
     "data": {
      "text/latex": [
       "$S_{2m+1}=\\sum _{n=1}^{2m+1}(-1)^{n-1}a_{n}$"
      ],
      "text/plain": [
       "<IPython.core.display.Latex object>"
      ]
     },
     "metadata": {},
     "output_type": "display_data"
    },
    {
     "name": "stdout",
     "output_type": "stream",
     "text": [
      "\n",
      "пэ равно эм вэ равно пэ минус е а\n"
     ]
    },
    {
     "data": {
      "text/latex": [
       "$\\mathbf {p} =m\\mathbf {v} =\\mathbf {P} -e\\mathbf {A} $"
      ],
      "text/plain": [
       "<IPython.core.display.Latex object>"
      ]
     },
     "metadata": {},
     "output_type": "display_data"
    },
    {
     "name": "stdout",
     "output_type": "stream",
     "text": [
      "\n",
      "среднеквадратичное значение напряжения равно корень из скобка открывается четыре ка с индексом бета тэ эр дельта эф\n"
     ]
    },
    {
     "data": {
      "text/latex": [
       "$v_{\\rm {RMS}}={\\sqrt {4k_{\\rm {B}}TR\\Delta f}},$"
      ],
      "text/plain": [
       "<IPython.core.display.Latex object>"
      ]
     },
     "metadata": {},
     "output_type": "display_data"
    },
    {
     "name": "stdout",
     "output_type": "stream",
     "text": [
      "\n",
      "скобка открывается пэ в степени эм умножить на множество с индексом пэ скобка закрывается эм принадлежит множеству\n"
     ]
    },
    {
     "data": {
      "text/latex": [
       "$(p^{m}\\mathbb {Z} _{p})_{m\\in \\mathbb {N} }$"
      ],
      "text/plain": [
       "<IPython.core.display.Latex object>"
      ]
     },
     "metadata": {},
     "output_type": "display_data"
    },
    {
     "name": "stdout",
     "output_type": "stream",
     "text": [
      "\n",
      "тензорное произведение ка и ку \n"
     ]
    },
    {
     "data": {
      "text/latex": [
       "$K\\otimes _{\\mathbb {Q} }\\mathbb {Q} _{p}$"
      ],
      "text/plain": [
       "<IPython.core.display.Latex object>"
      ]
     },
     "metadata": {},
     "output_type": "display_data"
    },
    {
     "name": "stdout",
     "output_type": "stream",
     "text": [
      "\n",
      "альфа и ка в степени икс\n"
     ]
    },
    {
     "data": {
      "text/latex": [
       "${\\mathfrak {a}}_{i}K^{\\times },$"
      ],
      "text/plain": [
       "<IPython.core.display.Latex object>"
      ]
     },
     "metadata": {},
     "output_type": "display_data"
    },
    {
     "name": "stdout",
     "output_type": "stream",
     "text": [
      "\n",
      "эф нулевое скобка открывается эф с индексом икс запятая эф с индексом игрек\n"
     ]
    },
    {
     "data": {
      "text/latex": [
       "$\\Phi _{o}\\left(f_{X},f_{Y}\\right)$"
      ],
      "text/plain": [
       "<IPython.core.display.Latex object>"
      ]
     },
     "metadata": {},
     "output_type": "display_data"
    },
    {
     "name": "stdout",
     "output_type": "stream",
     "text": [
      "\n",
      "эф принадлежит а импликация бэ\n"
     ]
    },
    {
     "data": {
      "text/latex": [
       "$f\\colon {\\mathcal {A}}\\to {\\mathcal {B}}$"
      ],
      "text/plain": [
       "<IPython.core.display.Latex object>"
      ]
     },
     "metadata": {},
     "output_type": "display_data"
    },
    {
     "name": "stdout",
     "output_type": "stream",
     "text": [
      "\n",
      "скобка открывается пэ импликация скобка открывается ку импликация эр скобка закрывается скобка закрывается равносильно скобка открывается ку импликация скобка открывается пэ импликация эр скобка закрывается скобка закрывается\n"
     ]
    },
    {
     "data": {
      "text/latex": [
       "$(P\\to (Q\\to R))\\leftrightarrow (Q\\to (P\\to R))$"
      ],
      "text/plain": [
       "<IPython.core.display.Latex object>"
      ]
     },
     "metadata": {},
     "output_type": "display_data"
    },
    {
     "name": "stdout",
     "output_type": "stream",
     "text": [
      "\n",
      "фигурная скобка открывается омега порядка один и так далее омега порядка эн фигурная скобка закрывается\n"
     ]
    },
    {
     "data": {
      "text/latex": [
       "$\\{\\omega _{1},\\ldots ,\\omega _{n}\\}$"
      ],
      "text/plain": [
       "<IPython.core.display.Latex object>"
      ]
     },
     "metadata": {},
     "output_type": "display_data"
    },
    {
     "name": "stdout",
     "output_type": "stream",
     "text": [
      "\n",
      "альфа порядка рациональные числа делить на целые числа\n"
     ]
    },
    {
     "data": {
      "text/latex": [
       "$\\mathbb {A} _{\\mathbb {Q} }/\\mathbb {Z} $"
      ],
      "text/plain": [
       "<IPython.core.display.Latex object>"
      ]
     },
     "metadata": {},
     "output_type": "display_data"
    },
    {
     "name": "stdout",
     "output_type": "stream",
     "text": [
      "\n",
      "мнимая часть альфа умножить на логарифм от эн\n"
     ]
    },
    {
     "data": {
      "text/latex": [
       "$\\operatorname {Im} \\alpha \\log n$"
      ],
      "text/plain": [
       "<IPython.core.display.Latex object>"
      ]
     },
     "metadata": {},
     "output_type": "display_data"
    },
    {
     "name": "stdout",
     "output_type": "stream",
     "text": [
      "\n",
      "бета порядка бесконечности принадлежит рациональным числам\n"
     ]
    },
    {
     "data": {
      "text/latex": [
       "$\\beta _{\\infty }\\in \\mathbb {Q} $"
      ],
      "text/plain": [
       "<IPython.core.display.Latex object>"
      ]
     },
     "metadata": {},
     "output_type": "display_data"
    },
    {
     "name": "stdout",
     "output_type": "stream",
     "text": [
      "\n",
      "эль порядка зэта равно сигма и порядка зэта и по и умножить на омега порядка зэта и\n"
     ]
    },
    {
     "data": {
      "text/latex": [
       "$L_{z}=\\sum _{i}{I_{z}}_{i}\\cdot {\\omega _{z}}_{i}$"
      ],
      "text/plain": [
       "<IPython.core.display.Latex object>"
      ]
     },
     "metadata": {},
     "output_type": "display_data"
    },
    {
     "name": "stdout",
     "output_type": "stream",
     "text": [
      "\n",
      "фи скобка открылась кси ка в степени икс скобка закрылась равно о ка в степени икс запятая\n"
     ]
    },
    {
     "data": {
      "text/latex": [
       "$\\phi (\\xi K^{\\times })=OK^{\\times },$"
      ],
      "text/plain": [
       "<IPython.core.display.Latex object>"
      ]
     },
     "metadata": {},
     "output_type": "display_data"
    },
    {
     "name": "stdout",
     "output_type": "stream",
     "text": [
      "\n",
      "сигма скобка открылась минус один скобка закрылась в степени эн делить на эн плюс скобка открылась минус один скобка закрылась в степени эн где эн равно два\n"
     ]
    },
    {
     "data": {
      "text/latex": [
       "$\\sum _{n=2}^{\\infty }{\\dfrac {(-1)^{n}}{n+(-1)^{n}}}$"
      ],
      "text/plain": [
       "<IPython.core.display.Latex object>"
      ]
     },
     "metadata": {},
     "output_type": "display_data"
    },
    {
     "name": "stdout",
     "output_type": "stream",
     "text": [
      "\n",
      "альфа равно скобка открылась альфа порядка вэ скобка закрылась порядка вэ принадлежит и порядка ка\n"
     ]
    },
    {
     "data": {
      "text/latex": [
       "$\\alpha =(\\alpha _{v})_{v}\\in I_{K}$"
      ],
      "text/plain": [
       "<IPython.core.display.Latex object>"
      ]
     },
     "metadata": {},
     "output_type": "display_data"
    },
    {
     "name": "stdout",
     "output_type": "stream",
     "text": [
      "\n",
      "у равно произведение у пэ для всех пэ от нуля до n умножить на произведение зэт пэ для всех пэ от n и выше\n"
     ]
    },
    {
     "data": {
      "text/latex": [
       "$U=\\prod _{p\\leq N}U_{p}\\times \\prod _{p>N}\\mathbb {Z} _{p}$"
      ],
      "text/plain": [
       "<IPython.core.display.Latex object>"
      ]
     },
     "metadata": {},
     "output_type": "display_data"
    },
    {
     "name": "stdout",
     "output_type": "stream",
     "text": [
      "\n",
      "и ка в степени один по определению равно множеству элементов удовлетворяющих условию икс является элементом множества и ка разделить на икс равно единице равноциклической группе\n"
     ]
    },
    {
     "data": {
      "text/latex": [
       "$I_{K}^{1}:=\\{x\\in I_{K}:|x|=1\\}=\\ker(|\\cdot |).$"
      ],
      "text/plain": [
       "<IPython.core.display.Latex object>"
      ]
     },
     "metadata": {},
     "output_type": "display_data"
    },
    {
     "name": "stdout",
     "output_type": "stream",
     "text": [
      "\n",
      "сумма минус один в степени эн,где эн равно от единицы до бесконечности умножить на косинус в кквадрате эн деленное на эн в квадрате\n"
     ]
    },
    {
     "data": {
      "text/latex": [
       "$\\sum _{n=1}^{\\infty }(-1)^{n}{\\dfrac {\\cos ^{2}n}{n^{2}}}.$"
      ],
      "text/plain": [
       "<IPython.core.display.Latex object>"
      ]
     },
     "metadata": {},
     "output_type": "display_data"
    },
    {
     "name": "stdout",
     "output_type": "stream",
     "text": [
      "\n",
      "эр е множество всех пределов последовательностей на множество икс\n"
     ]
    },
    {
     "data": {
      "text/latex": [
       "$\\operatorname {Re} \\left\\{x\\right\\}$"
      ],
      "text/plain": [
       "<IPython.core.display.Latex object>"
      ]
     },
     "metadata": {},
     "output_type": "display_data"
    },
    {
     "name": "stdout",
     "output_type": "stream",
     "text": [
      "\n",
      "натуральные числа эн1,эн2,эн3 и т.д.\n"
     ]
    },
    {
     "data": {
      "text/latex": [
       "$(\\aleph _{1},\\aleph _{2},\\aleph _{3},\\ldots ).$"
      ],
      "text/plain": [
       "<IPython.core.display.Latex object>"
      ]
     },
     "metadata": {},
     "output_type": "display_data"
    },
    {
     "name": "stdout",
     "output_type": "stream",
     "text": [
      "\n",
      "икс умножить на игрек равно а в степени эм умножить на а в степени эн равно а в степени эм плюс эн равно а в степени эн умножить на а в степени эм равно игрек умножить на икс\n"
     ]
    },
    {
     "data": {
      "text/latex": [
       "$xy=a^{m}a^{n}=a^{m+n}=a^{n}a^{m}=yx$"
      ],
      "text/plain": [
       "<IPython.core.display.Latex object>"
      ]
     },
     "metadata": {},
     "output_type": "display_data"
    },
    {
     "name": "stdout",
     "output_type": "stream",
     "text": [
      "\n",
      "аш икс  равно эф умножить на джи умножить на икс равно интеграл от минус бесконечность до плюс бесконечность функции эф от игрек умножить на джи умножитьт на разницу икс и игрек умн.на дэ умн на игрек\n"
     ]
    },
    {
     "data": {
      "text/latex": [
       "$h(x)=(f*g)(x)=\\int _{-\\infty }^{\\infty }f(y)g(x-y)\\,dy,$"
      ],
      "text/plain": [
       "<IPython.core.display.Latex object>"
      ]
     },
     "metadata": {},
     "output_type": "display_data"
    },
    {
     "name": "stdout",
     "output_type": "stream",
     "text": [
      "\n",
      "зэт пэ является элементом множества зэт,икс пэ является элементом множества эн\n"
     ]
    },
    {
     "data": {
      "text/latex": [
       "$z_{p}\\in \\mathbb {Z} ,x_{p}\\in \\mathbb {N} $"
      ],
      "text/plain": [
       "<IPython.core.display.Latex object>"
      ]
     },
     "metadata": {},
     "output_type": "display_data"
    },
    {
     "name": "stdout",
     "output_type": "stream",
     "text": [
      "\n",
      "лямбда по определению равна игрек в степени один деленное на эн\n"
     ]
    },
    {
     "data": {
      "text/latex": [
       "$\\lambda :=|\\gamma |^{\\frac {1}{n}}$"
      ],
      "text/plain": [
       "<IPython.core.display.Latex object>"
      ]
     },
     "metadata": {},
     "output_type": "display_data"
    },
    {
     "name": "stdout",
     "output_type": "stream",
     "text": [
      "\n",
      "абсолютная величина точка пэ разделить на ка относящееся к вещественному числу эр все это больше или равно нулю\n"
     ]
    },
    {
     "data": {
      "text/latex": [
       "$|\\cdot |_{\\mathfrak {p}}:K\\to \\mathbb {R} _{\\geq 0}$"
      ],
      "text/plain": [
       "<IPython.core.display.Latex object>"
      ]
     },
     "metadata": {},
     "output_type": "display_data"
    },
    {
     "name": "stdout",
     "output_type": "stream",
     "text": [
      "\n",
      "цэ большое стрелка вправо це большое запятая зэта стрелка вправо с чертой зэта верхний регистр эн\n"
     ]
    },
    {
     "data": {
      "text/latex": [
       "$\\mathbb {C} \\to \\mathbb {C} ,z\\mapsto z^{n}$"
      ],
      "text/plain": [
       "<IPython.core.display.Latex object>"
      ]
     },
     "metadata": {},
     "output_type": "display_data"
    },
    {
     "name": "stdout",
     "output_type": "stream",
     "text": [
      "\n",
      "максимум скобка открывается а запятая бэ скобка закрывается равно предел при аш стремящемся к нулю аш логарифм скобка открывается е в степени а деленное на аш плюс е в степени бэ деленное на аш скобка закрывается точка\n"
     ]
    },
    {
     "data": {
      "text/latex": [
       "$\\max(a,b)=\\lim _{h\\to 0}h\\log(e^{a/h}+e^{b/h}).$"
      ],
      "text/plain": [
       "<IPython.core.display.Latex object>"
      ]
     },
     "metadata": {},
     "output_type": "display_data"
    },
    {
     "name": "stdout",
     "output_type": "stream",
     "text": [
      "\n",
      "пэ равно один плюс действительная часть альфа\n"
     ]
    },
    {
     "data": {
      "text/latex": [
       "$p=1+\\operatorname {Re} \\alpha $"
      ],
      "text/plain": [
       "<IPython.core.display.Latex object>"
      ]
     },
     "metadata": {},
     "output_type": "display_data"
    },
    {
     "name": "stdout",
     "output_type": "stream",
     "text": [
      "\n",
      "а большое нижний регистр эль большое соответствует а большое нижний регистр ка большое тензорное произведение эль большое нижний регистр слева ка большое\n"
     ]
    },
    {
     "data": {
      "text/latex": [
       "$\\mathbb {A} _{L}\\cong \\mathbb {A} _{K}\\otimes _{K}L$"
      ],
      "text/plain": [
       "<IPython.core.display.Latex object>"
      ]
     },
     "metadata": {},
     "output_type": "display_data"
    },
    {
     "name": "stdout",
     "output_type": "stream",
     "text": [
      "\n",
      "предел при х стремящемся к нулю верхний регистр плюс логарифм натуральный икс равно минус бесконечность точка\n"
     ]
    },
    {
     "data": {
      "text/latex": [
       "$\\lim _{x\\to 0^{+}}\\ln x=-\\infty .$"
      ],
      "text/plain": [
       "<IPython.core.display.Latex object>"
      ]
     },
     "metadata": {},
     "output_type": "display_data"
    },
    {
     "name": "stdout",
     "output_type": "stream",
     "text": [
      "\n",
      "сумма ряда один разделить на ка в степени пэ при ка равном от одного до бесконечности запятая\n"
     ]
    },
    {
     "data": {
      "text/latex": [
       "$\\sum _{k=1}^{\\infty }\\;{\\frac {1}{k^{p}}},$"
      ],
      "text/plain": [
       "<IPython.core.display.Latex object>"
      ]
     },
     "metadata": {},
     "output_type": "display_data"
    },
    {
     "name": "stdout",
     "output_type": "stream",
     "text": [
      "\n",
      "икс итое умножить на икс житое\n"
     ]
    },
    {
     "data": {
      "text/latex": [
       "$\\mathbf {x} _{i}\\cdot \\mathbf {x} _{j}$"
      ],
      "text/plain": [
       "<IPython.core.display.Latex object>"
      ]
     },
     "metadata": {},
     "output_type": "display_data"
    },
    {
     "name": "stdout",
     "output_type": "stream",
     "text": [
      "\n",
      "скобка угловая открывается е запятая производная е скобка угловая закрывается равно хи скобка открывается квадратная скобка открывается е запятая е верхний регистр звездочка квадратная скобка закрывается скобка закрывается\n"
     ]
    },
    {
     "data": {
      "text/latex": [
       "$\\langle e,e'\\rangle =\\chi ([e,e^{\\star }])$"
      ],
      "text/plain": [
       "<IPython.core.display.Latex object>"
      ]
     },
     "metadata": {},
     "output_type": "display_data"
    },
    {
     "name": "stdout",
     "output_type": "stream",
     "text": [
      "\n",
      "дэ равно степень скобка открывается эф в нижнем регистре ламбда скобка закрывается\n"
     ]
    },
    {
     "data": {
      "text/latex": [
       "$d={\\rm {degree}}(f_{\\lambda })$"
      ],
      "text/plain": [
       "<IPython.core.display.Latex object>"
      ]
     },
     "metadata": {},
     "output_type": "display_data"
    },
    {
     "name": "stdout",
     "output_type": "stream",
     "text": [
      "\n",
      "цэ большое скобка открывается тэ скобка закрывается равно скобка открывается эр скобка открывается тэ скобка закрывается запятая тхэта большое скобка открывается тэ скобка закрывается скобка закрывается\n"
     ]
    },
    {
     "data": {
      "text/latex": [
       "$\\mathbf {C} (t)=(r(t),\\theta (t))$"
      ],
      "text/plain": [
       "<IPython.core.display.Latex object>"
      ]
     },
     "metadata": {},
     "output_type": "display_data"
    },
    {
     "name": "stdout",
     "output_type": "stream",
     "text": [
      "\n",
      "ай ка равняется ай ка в степени х\n"
     ]
    },
    {
     "data": {
      "text/latex": [
       "$I_{K}:=\\mathbb {A} _{K}^{\\times }.$"
      ],
      "text/plain": [
       "<IPython.core.display.Latex object>"
      ]
     },
     "metadata": {},
     "output_type": "display_data"
    },
    {
     "name": "stdout",
     "output_type": "stream",
     "text": [
      "\n",
      "синус бэ косинус а, синус бэ синус а, косинус бэ\n"
     ]
    },
    {
     "data": {
      "text/latex": [
       "$(\\sin b\\cos A,\\,\\sin b\\sin A,\\,\\cos b)$"
      ],
      "text/plain": [
       "<IPython.core.display.Latex object>"
      ]
     },
     "metadata": {},
     "output_type": "display_data"
    },
    {
     "name": "stdout",
     "output_type": "stream",
     "text": [
      "\n",
      "аи лямбда и эпсилон\n"
     ]
    },
    {
     "data": {
      "text/latex": [
       "$\\{(a_{i},\\lambda _{i})\\}_{i\\in I}$"
      ],
      "text/plain": [
       "<IPython.core.display.Latex object>"
      ]
     },
     "metadata": {},
     "output_type": "display_data"
    },
    {
     "name": "stdout",
     "output_type": "stream",
     "text": [
      "\n",
      "вэ равняется пэ ка вэ\n"
     ]
    },
    {
     "data": {
      "text/latex": [
       "$V:={\\prod _{v\\neq v_{0}}}^{'}K_{v}.$"
      ],
      "text/plain": [
       "<IPython.core.display.Latex object>"
      ]
     },
     "metadata": {},
     "output_type": "display_data"
    },
    {
     "name": "stdout",
     "output_type": "stream",
     "text": [
      "\n",
      "фэ в нулевой сэ ф один сэ фэ ка\n"
     ]
    },
    {
     "data": {
      "text/latex": [
       "$F_{0}\\subseteq F_{1}\\subseteq \\cdots \\subseteq F_{k}$"
      ],
      "text/plain": [
       "<IPython.core.display.Latex object>"
      ]
     },
     "metadata": {},
     "output_type": "display_data"
    },
    {
     "name": "stdout",
     "output_type": "stream",
     "text": [
      "\n",
      "эм равняется дэ обьектив\n"
     ]
    },
    {
     "data": {
      "text/latex": [
       "$/M=D_{\\mathrm {Objective} }/{D_{\\mathrm {Ramsden} }$"
      ],
      "text/plain": [
       "<IPython.core.display.Latex object>"
      ]
     },
     "metadata": {},
     "output_type": "display_data"
    },
    {
     "name": "stdout",
     "output_type": "stream",
     "text": [
      "\n",
      "джи о плюс х в о плюс пси икс\n"
     ]
    },
    {
     "data": {
      "text/latex": [
       "$g\\colon (O+{\\vec {x}})\\mapsto (O'+\\varphi ({\\vec {x}}))$"
      ],
      "text/plain": [
       "<IPython.core.display.Latex object>"
      ]
     },
     "metadata": {},
     "output_type": "display_data"
    },
    {
     "name": "stdout",
     "output_type": "stream",
     "text": [
      "\n",
      "произведение бэ пэ е равняется произведению е пэ дэ\n"
     ]
    },
    {
     "data": {
      "text/latex": [
       "${\\widehat {BPE}}={\\widehat {EPD}}.$"
      ],
      "text/plain": [
       "<IPython.core.display.Latex object>"
      ]
     },
     "metadata": {},
     "output_type": "display_data"
    },
    {
     "name": "stdout",
     "output_type": "stream",
     "text": [
      "\n",
      "лим эф икс игрек равняется эль\n"
     ]
    },
    {
     "data": {
      "text/latex": [
       "$\\lim _{(x,y)\\to (p,q)}f(x,y)=L$"
      ],
      "text/plain": [
       "<IPython.core.display.Latex object>"
      ]
     },
     "metadata": {},
     "output_type": "display_data"
    },
    {
     "name": "stdout",
     "output_type": "stream",
     "text": [
      "\n",
      "эм альфа бэтта равняется разности произведений икс пи бэтта альфа\n"
     ]
    },
    {
     "data": {
      "text/latex": [
       "$M_{\\alpha \\beta }=X_{\\alpha }P_{\\beta }-X_{\\beta }P_{\\alpha }$"
      ],
      "text/plain": [
       "<IPython.core.display.Latex object>"
      ]
     },
     "metadata": {},
     "output_type": "display_data"
    },
    {
     "name": "stdout",
     "output_type": "stream",
     "text": [
      "\n",
      "множество ка равно множество ка тензорное произведение ка в ка\n"
     ]
    },
    {
     "data": {
      "text/latex": [
       "$\\mathbb {A} _{K}=\\mathbb {A} _{K}\\otimes _{K}K$"
      ],
      "text/plain": [
       "<IPython.core.display.Latex object>"
      ]
     },
     "metadata": {},
     "output_type": "display_data"
    },
    {
     "name": "stdout",
     "output_type": "stream",
     "text": [
      "\n",
      "альфа равно произведению  дэ деленная на дэ умножить на тэ умножить на вэ деленная на эр\n"
     ]
    },
    {
     "data": {
      "text/latex": [
       "$\\alpha ={\\frac {d}{dt}}\\left({\\frac {v_{\\perp }}{r}}\\right).$"
      ],
      "text/plain": [
       "<IPython.core.display.Latex object>"
      ]
     },
     "metadata": {},
     "output_type": "display_data"
    },
    {
     "name": "stdout",
     "output_type": "stream",
     "text": [
      "\n",
      "модуль эс два умножить на эм минус эл равно эл минус эс два умножить на эм меньше или равно эс два умножить на эм плюс один минус эс  два умножить на эм\n"
     ]
    },
    {
     "data": {
      "text/latex": [
       "$\\left|S_{2m}-L\\right|=L-S_{2m}\\leq S_{2m+1}-S_{2m}=a_{2m+1}$"
      ],
      "text/plain": [
       "<IPython.core.display.Latex object>"
      ]
     },
     "metadata": {},
     "output_type": "display_data"
    },
    {
     "name": "stdout",
     "output_type": "stream",
     "text": [
      "\n",
      "наименьшее общее кратное множества а бэ равно произведению множества а бэ\n"
     ]
    },
    {
     "data": {
      "text/latex": [
       "$\\operatorname {lcm} (a,b)=\\prod _{p}p^{\\max(a_{p},b_{p})}.$"
      ],
      "text/plain": [
       "<IPython.core.display.Latex object>"
      ]
     },
     "metadata": {},
     "output_type": "display_data"
    },
    {
     "name": "stdout",
     "output_type": "stream",
     "text": [
      "\n",
      "эл равно эр истина пэ\n"
     ]
    },
    {
     "data": {
      "text/latex": [
       "$\\mathbf {L} =\\mathbf {r} \\wedge \\mathbf {p} \\,,$"
      ],
      "text/plain": [
       "<IPython.core.display.Latex object>"
      ]
     },
     "metadata": {},
     "output_type": "display_data"
    },
    {
     "name": "stdout",
     "output_type": "stream",
     "text": [
      "\n",
      "множество а равно игрек в седьмой плюс игрек в шестой плюс игрек в третьей плюс игрек равно множество один один ноль ноль один ноль\n"
     ]
    },
    {
     "data": {
      "text/latex": [
       "$\\{a\\}=y^{7}+y^{6}+y^{3}+y=\\{11001010_{2}\\}$"
      ],
      "text/plain": [
       "<IPython.core.display.Latex object>"
      ]
     },
     "metadata": {},
     "output_type": "display_data"
    },
    {
     "name": "stdout",
     "output_type": "stream",
     "text": [
      "\n",
      "а равно плюс минус произведения пэ вэ где пэ меньше бесконечности\n"
     ]
    },
    {
     "data": {
      "text/latex": [
       "$a=\\pm \\prod _{p<\\infty }p^{v_{p}},$"
      ],
      "text/plain": [
       "<IPython.core.display.Latex object>"
      ]
     },
     "metadata": {},
     "output_type": "display_data"
    },
    {
     "name": "stdout",
     "output_type": "stream",
     "text": [
      "\n",
      "фи от лямбды равно интеграл фэ от икс умножить на е в степени икс умножить лямбда умножить икс умножить на дэ умножить на икс\n"
     ]
    },
    {
     "data": {
      "text/latex": [
       "$\\phi (\\lambda )=\\int _{-\\infty }^{\\infty }f(x)e^{i\\lambda x}\\,dx.$"
      ],
      "text/plain": [
       "<IPython.core.display.Latex object>"
      ]
     },
     "metadata": {},
     "output_type": "display_data"
    },
    {
     "name": "stdout",
     "output_type": "stream",
     "text": [
      "\n",
      "множество пэ\n"
     ]
    },
    {
     "data": {
      "text/latex": [
       "${\\mathfrak {p}}_{1},\\ldots ,{\\mathfrak {p}}_{n}.$"
      ],
      "text/plain": [
       "<IPython.core.display.Latex object>"
      ]
     },
     "metadata": {},
     "output_type": "display_data"
    },
    {
     "name": "stdout",
     "output_type": "stream",
     "text": [
      "\n",
      "сумма множества эл деленная на к равно множеству эл деленная на ка\n"
     ]
    },
    {
     "data": {
      "text/latex": [
       "$\\sum _{w|v}[L_{w}:K_{v}]=[L:K].$"
      ],
      "text/plain": [
       "<IPython.core.display.Latex object>"
      ]
     },
     "metadata": {},
     "output_type": "display_data"
    },
    {
     "name": "stdout",
     "output_type": "stream",
     "text": [
      "\n",
      "бэ икс минус икс в квадрате бэ икс минус икс в квадрате плюс бэ е минус икс е умноженное на два минус е в квадрате\n"
     ]
    },
    {
     "data": {
      "text/latex": [
       "$bx-x^{2}\\backsim bx-x^{2}+be-2ex-e^{2}.$"
      ],
      "text/plain": [
       "<IPython.core.display.Latex object>"
      ]
     },
     "metadata": {},
     "output_type": "display_data"
    },
    {
     "name": "stdout",
     "output_type": "stream",
     "text": [
      "\n",
      "произведение эф джи икс равняется эф джи икс и равняется три икс плюс семь умноженное на два плюс один и равняется шесть икс плюс 15\n"
     ]
    },
    {
     "data": {
      "text/latex": [
       "$(f\\circ g)(x)=f(g(x))=2(3x+7)+1=6x+15$"
      ],
      "text/plain": [
       "<IPython.core.display.Latex object>"
      ]
     },
     "metadata": {},
     "output_type": "display_data"
    },
    {
     "name": "stdout",
     "output_type": "stream",
     "text": [
      "\n",
      "зет ль пэ ка зет\n"
     ]
    },
    {
     "data": {
      "text/latex": [
       "$\\mathbb {Z} /p^{k}\\mathbb {Z} $"
      ],
      "text/plain": [
       "<IPython.core.display.Latex object>"
      ]
     },
     "metadata": {},
     "output_type": "display_data"
    },
    {
     "name": "stdout",
     "output_type": "stream",
     "text": [
      "\n",
      "множество в минус первой степени ка\n"
     ]
    },
    {
     "data": {
      "text/latex": [
       "$\\sum _{k=0}^{\\infty }(-1)^{k}k!$"
      ],
      "text/plain": [
       "<IPython.core.display.Latex object>"
      ]
     },
     "metadata": {},
     "output_type": "display_data"
    },
    {
     "name": "stdout",
     "output_type": "stream",
     "text": [
      "\n",
      "а в ка ка вэ\n"
     ]
    },
    {
     "data": {
      "text/latex": [
       "$\\mathbb {A} _{K}\\twoheadrightarrow K_{v}.$"
      ],
      "text/plain": [
       "<IPython.core.display.Latex object>"
      ]
     },
     "metadata": {},
     "output_type": "display_data"
    },
    {
     "name": "stdout",
     "output_type": "stream",
     "text": [
      "\n",
      "пэ один на пэ 2\n"
     ]
    },
    {
     "data": {
      "text/latex": [
       "${\\overrightarrow {p_{1}p_{2}}}$"
      ],
      "text/plain": [
       "<IPython.core.display.Latex object>"
      ]
     },
     "metadata": {},
     "output_type": "display_data"
    },
    {
     "name": "stdout",
     "output_type": "stream",
     "text": [
      "\n",
      "пэ вэ равняется икс эпси о икс вэ меньше 1\n"
     ]
    },
    {
     "data": {
      "text/latex": [
       "${\\mathfrak {p}}_{v}:=\\{x\\in O:|x|_{v}<1\\}.$"
      ],
      "text/plain": [
       "<IPython.core.display.Latex object>"
      ]
     },
     "metadata": {},
     "output_type": "display_data"
    },
    {
     "name": "stdout",
     "output_type": "stream",
     "text": [
      "\n",
      "фэ пэ равняется эс пси ку е два пи дэ ку\n"
     ]
    },
    {
     "data": {
      "text/latex": [
       "$\\phi (p)=\\int \\psi (q)e^{2\\pi i{\\frac {pq}{h}}}\\,dq.$"
      ],
      "text/plain": [
       "<IPython.core.display.Latex object>"
      ]
     },
     "metadata": {},
     "output_type": "display_data"
    },
    {
     "name": "stdout",
     "output_type": "stream",
     "text": [
      "\n",
      "эф равно сэ на сэ\n"
     ]
    },
    {
     "data": {
      "text/latex": [
       "${\\mathbf {w}}={\\overrightarrow {c\\sigma (c)}}$"
      ],
      "text/plain": [
       "<IPython.core.display.Latex object>"
      ]
     },
     "metadata": {},
     "output_type": "display_data"
    },
    {
     "name": "stdout",
     "output_type": "stream",
     "text": [
      "\n",
      "эф равно вэ разделить на пи кубических корень из три дэ на 8 ноль восемьдесят пять дэ в третьей степени\n"
     ]
    },
    {
     "data": {
      "text/latex": [
       "$f={\\frac {v}{\\pi }}{\\sqrt {\\frac {3d}{8(0.85)D^{3}}}}$"
      ],
      "text/plain": [
       "<IPython.core.display.Latex object>"
      ]
     },
     "metadata": {},
     "output_type": "display_data"
    },
    {
     "name": "stdout",
     "output_type": "stream",
     "text": [
      "\n",
      "множество бэ икс равно скобка открывается единица, икс, икс в квадрате, троеточие, икс в степени эн минус один скобка закрывается\n"
     ]
    },
    {
     "data": {
      "text/latex": [
       "$B_{x}=\\{1,x,x^{2},\\ldots ,x^{n-1}\\}$"
      ],
      "text/plain": [
       "<IPython.core.display.Latex object>"
      ]
     },
     "metadata": {},
     "output_type": "display_data"
    },
    {
     "name": "stdout",
     "output_type": "stream",
     "text": [
      "\n",
      "предел е в степени а икс минус один деленное на бэ икс при икс стремящемся к нулю равно а деленное на бэ\n"
     ]
    },
    {
     "data": {
      "text/latex": [
       "$\\lim _{x\\to 0}{\\frac {e^{ax}-1}{bx}}={\\frac {a}{b}}$"
      ],
      "text/plain": [
       "<IPython.core.display.Latex object>"
      ]
     },
     "metadata": {},
     "output_type": "display_data"
    },
    {
     "name": "stdout",
     "output_type": "stream",
     "text": [
      "\n",
      "единица является элементом множества а кутого\n"
     ]
    },
    {
     "data": {
      "text/latex": [
       "$1\\in \\mathbb {A} _{\\mathbb {Q} }.$"
      ],
      "text/plain": [
       "<IPython.core.display.Latex object>"
      ]
     },
     "metadata": {},
     "output_type": "display_data"
    },
    {
     "name": "stdout",
     "output_type": "stream",
     "text": [
      "\n",
      "ка игрековое равно произведению ка на синус тэта на синус фи\n"
     ]
    },
    {
     "data": {
      "text/latex": [
       "$k_{y}=k\\sin \\theta \\sin \\varphi \\,$"
      ],
      "text/plain": [
       "<IPython.core.display.Latex object>"
      ]
     },
     "metadata": {},
     "output_type": "display_data"
    },
    {
     "name": "stdout",
     "output_type": "stream",
     "text": [
      "\n",
      "гэ, эс, дэ скобка открывается а запятая бэ скобка закрывается равно произведению пэ в степени минимум скобка открывается а пэтое запятая бэ пэтое скобка закрывается для всех значений пэ \n"
     ]
    },
    {
     "data": {
      "text/latex": [
       "$\\gcd(a,b)=\\prod _{p}p^{\\min(a_{p},b_{p})}$"
      ],
      "text/plain": [
       "<IPython.core.display.Latex object>"
      ]
     },
     "metadata": {},
     "output_type": "display_data"
    },
    {
     "name": "stdout",
     "output_type": "stream",
     "text": [
      "\n",
      "прямое произведение всех групп от ка один до ка эн\n"
     ]
    },
    {
     "data": {
      "text/latex": [
       "$K_{1}\\times \\cdots \\times K_{N}.$"
      ],
      "text/plain": [
       "<IPython.core.display.Latex object>"
      ]
     },
     "metadata": {},
     "output_type": "display_data"
    },
    {
     "name": "stdout",
     "output_type": "stream",
     "text": [
      "\n",
      "омега равно производной функции фи от тэ равно по переменной тэ равно вэ с перевернутым тэ делить на эр\n"
     ]
    },
    {
     "data": {
      "text/latex": [
       "$\\omega ={\\frac {d\\phi }{dt}}={\\frac {v_{\\perp }}{r}}.$"
      ],
      "text/plain": [
       "<IPython.core.display.Latex object>"
      ]
     },
     "metadata": {},
     "output_type": "display_data"
    },
    {
     "name": "stdout",
     "output_type": "stream",
     "text": [
      "\n",
      "сумма квадратов ка икс ка игрек ка зэт равно квадрату ка\n"
     ]
    },
    {
     "data": {
      "text/latex": [
       "$k_{x}^{2}+k_{y}^{2}+k_{z}^{2}=k^{2}$"
      ],
      "text/plain": [
       "<IPython.core.display.Latex object>"
      ]
     },
     "metadata": {},
     "output_type": "display_data"
    },
    {
     "name": "stdout",
     "output_type": "stream",
     "text": [
      "\n",
      "сумма \n"
     ]
    },
    {
     "data": {
      "text/latex": [
       "$\\sum _{n=1}^{\\infty }1=+\\infty \\,,$"
      ],
      "text/plain": [
       "<IPython.core.display.Latex object>"
      ]
     },
     "metadata": {},
     "output_type": "display_data"
    },
    {
     "name": "stdout",
     "output_type": "stream",
     "text": [
      "\n",
      "область определения функции дэ нулевое равно интегралу от минус бесконечности до плюс бесконечности произведения икс в квадрате на квадрат модуля функции эф от икс по дэ икс \n"
     ]
    },
    {
     "data": {
      "text/latex": [
       "$D_{0}(f)=\\int _{-\\infty }^{\\infty }x^{2}|f(x)|^{2}\\,dx.$"
      ],
      "text/plain": [
       "<IPython.core.display.Latex object>"
      ]
     },
     "metadata": {},
     "output_type": "display_data"
    },
    {
     "name": "stdout",
     "output_type": "stream",
     "text": [
      "\n",
      "зэ от омеги равно эр от омеги плюс и икс от омеги\n"
     ]
    },
    {
     "data": {
      "text/latex": [
       "$z(\\omega )=r(\\omega )+ix(\\omega ),$"
      ],
      "text/plain": [
       "<IPython.core.display.Latex object>"
      ]
     },
     "metadata": {},
     "output_type": "display_data"
    },
    {
     "name": "stdout",
     "output_type": "stream",
     "text": [
      "\n",
      "экспонента о умножить на корень квадратный из эн логарифма эн\n"
     ]
    },
    {
     "data": {
      "text/latex": [
       "$\\exp \\left(O\\left({\\sqrt {n\\log n}}\\right)\\right)$"
      ],
      "text/plain": [
       "<IPython.core.display.Latex object>"
      ]
     },
     "metadata": {},
     "output_type": "display_data"
    },
    {
     "name": "stdout",
     "output_type": "stream",
     "text": [
      "\n",
      "о умножить на ку умножить на корень из минус пяти\n"
     ]
    },
    {
     "data": {
      "text/latex": [
       "$O_{\\mathbf {Q} ({\\sqrt {-5}})}$"
      ],
      "text/plain": [
       "<IPython.core.display.Latex object>"
      ]
     },
     "metadata": {},
     "output_type": "display_data"
    },
    {
     "name": "stdout",
     "output_type": "stream",
     "text": [
      "\n",
      "а принадлежит к джи от ка\n"
     ]
    },
    {
     "data": {
      "text/latex": [
       "${\\mathfrak {a}}\\in J_{K},(\\cdot )$"
      ],
      "text/plain": [
       "<IPython.core.display.Latex object>"
      ]
     },
     "metadata": {},
     "output_type": "display_data"
    },
    {
     "name": "stdout",
     "output_type": "stream",
     "text": [
      "\n",
      "эф разделить на эс умножить на эс стремится к эс\n"
     ]
    },
    {
     "data": {
      "text/latex": [
       "$\\,f\\colon S\\times S\\rightarrow S.$"
      ],
      "text/plain": [
       "<IPython.core.display.Latex object>"
      ]
     },
     "metadata": {},
     "output_type": "display_data"
    },
    {
     "name": "stdout",
     "output_type": "stream",
     "text": [
      "\n",
      "о в вэ приблизительно умножить\n"
     ]
    },
    {
     "data": {
      "text/latex": [
       "${\\widetilde {O_{v}}}^{\\times }.$"
      ],
      "text/plain": [
       "<IPython.core.display.Latex object>"
      ]
     },
     "metadata": {},
     "output_type": "display_data"
    },
    {
     "name": "stdout",
     "output_type": "stream",
     "text": [
      "\n",
      "эф от сигма равно эф от модуля сигмы умножить на пэ от сигмы\n"
     ]
    },
    {
     "data": {
      "text/latex": [
       "${\\hat {f}}(\\xi )=F_{0}(|\\xi |)P(\\xi )$"
      ],
      "text/plain": [
       "<IPython.core.display.Latex object>"
      ]
     },
     "metadata": {},
     "output_type": "display_data"
    },
    {
     "name": "stdout",
     "output_type": "stream",
     "text": [
      "\n",
      "а деленная на бэ разделить на цэ равно а разделить в скобках бэ деленная на цэ\n"
     ]
    },
    {
     "data": {
      "text/latex": [
       "$(A\\backslash B)\\backslash C\\neq A\\backslash (B\\backslash C)$"
      ],
      "text/plain": [
       "<IPython.core.display.Latex object>"
      ]
     },
     "metadata": {},
     "output_type": "display_data"
    },
    {
     "name": "stdout",
     "output_type": "stream",
     "text": [
      "\n",
      "ка плюс у равно множество ка у\n"
     ]
    },
    {
     "data": {
      "text/latex": [
       "$\\kappa +\\mu =\\max\\{\\kappa ,\\mu \\}\\,.$"
      ],
      "text/plain": [
       "<IPython.core.display.Latex object>"
      ]
     },
     "metadata": {},
     "output_type": "display_data"
    },
    {
     "name": "stdout",
     "output_type": "stream",
     "text": [
      "\n",
      "множество а\n"
     ]
    },
    {
     "data": {
      "text/latex": [
       "${\\mathfrak {a}}_{1},\\ldots ,{\\mathfrak {a}}_{h}$"
      ],
      "text/plain": [
       "<IPython.core.display.Latex object>"
      ]
     },
     "metadata": {},
     "output_type": "display_data"
    },
    {
     "name": "stdout",
     "output_type": "stream",
     "text": [
      "\n",
      "а равняется эф е\n"
     ]
    },
    {
     "data": {
      "text/latex": [
       "$A(\\xi )=\\left|{\\hat {f}}(\\xi )\\right|,$"
      ],
      "text/plain": [
       "<IPython.core.display.Latex object>"
      ]
     },
     "metadata": {},
     "output_type": "display_data"
    },
    {
     "name": "stdout",
     "output_type": "stream",
     "text": [
      "\n",
      "пэ эф равно е в м эф эм в минус один эф м минус один плюс е один ф плюс е один эф плюс е в нулевой равняется нулю\n"
     ]
    },
    {
     "data": {
      "text/latex": [
       "$p(f)=e_{m}f^{m}+e_{m-1}f^{m-1}+\\cdots +e_{1}f+e_{0}=0$"
      ],
      "text/plain": [
       "<IPython.core.display.Latex object>"
      ]
     },
     "metadata": {},
     "output_type": "display_data"
    },
    {
     "name": "stdout",
     "output_type": "stream",
     "text": [
      "\n",
      "сумма множеств зет ка\n"
     ]
    },
    {
     "data": {
      "text/latex": [
       "$\\bigoplus _{i=1}^{u}\\ \\mathbb {Z} _{k_{i}}$"
      ],
      "text/plain": [
       "<IPython.core.display.Latex object>"
      ]
     },
     "metadata": {},
     "output_type": "display_data"
    },
    {
     "name": "stdout",
     "output_type": "stream",
     "text": [
      "\n",
      "произведение множеств икс сэ на тэ\n"
     ]
    },
    {
     "data": {
      "text/latex": [
       "$\\left|\\left(\\mathbf {x} \\circ \\mathbf {C} \\right)'(t)\\right|.$"
      ],
      "text/plain": [
       "<IPython.core.display.Latex object>"
      ]
     },
     "metadata": {},
     "output_type": "display_data"
    },
    {
     "name": "stdout",
     "output_type": "stream",
     "text": [
      "\n",
      "радиан в квадрате на дэ зэ в квадрате\n"
     ]
    },
    {
     "data": {
      "text/latex": [
       "$rac {\\partial ^{2}}{\\partial z^{2}}}A(\\mathbf {r} )$"
      ],
      "text/plain": [
       "<IPython.core.display.Latex object>"
      ]
     },
     "metadata": {},
     "output_type": "display_data"
    },
    {
     "name": "stdout",
     "output_type": "stream",
     "text": [
      "\n",
      "дэ равняется произведению двух тангенсов лямда на два\n"
     ]
    },
    {
     "data": {
      "text/latex": [
       "$d\\equiv 2D\\tan \\left({\\frac {\\delta }{2}}\\right).$"
      ],
      "text/plain": [
       "<IPython.core.display.Latex object>"
      ]
     },
     "metadata": {},
     "output_type": "display_data"
    },
    {
     "name": "stdout",
     "output_type": "stream",
     "text": [
      "\n",
      "фи в игрек джи семь джи\n"
     ]
    },
    {
     "data": {
      "text/latex": [
       "$\\oint _{\\gamma }g(\\zeta )\\,d\\zeta $"
      ],
      "text/plain": [
       "<IPython.core.display.Latex object>"
      ]
     },
     "metadata": {},
     "output_type": "display_data"
    },
    {
     "name": "stdout",
     "output_type": "stream",
     "text": [
      "\n",
      "тэ эр лик альфа\n"
     ]
    },
    {
     "data": {
      "text/latex": [
       "$\\operatorname {Tr} _{L/K}(\\alpha )$"
      ],
      "text/plain": [
       "<IPython.core.display.Latex object>"
      ]
     },
     "metadata": {},
     "output_type": "display_data"
    },
    {
     "name": "stdout",
     "output_type": "stream",
     "text": [
      "\n",
      "а в эс ка равняется пи ка вэ в вэ эс\n"
     ]
    },
    {
     "data": {
      "text/latex": [
       "$\\mathbb {A} _{K}^{S}:={\\prod _{v\\notin S}}^{'}K_{v}$"
      ],
      "text/plain": [
       "<IPython.core.display.Latex object>"
      ]
     },
     "metadata": {},
     "output_type": "display_data"
    },
    {
     "name": "stdout",
     "output_type": "stream",
     "text": [
      "\n",
      "лим эф икс равняется лим джи икс равно нолю\n"
     ]
    },
    {
     "data": {
      "text/latex": [
       "$\\lim _{x\\to c}f(x)=\\lim _{x\\to c}g(x)=0,$"
      ],
      "text/plain": [
       "<IPython.core.display.Latex object>"
      ]
     },
     "metadata": {},
     "output_type": "display_data"
    },
    {
     "name": "stdout",
     "output_type": "stream",
     "text": [
      "\n",
      "предел эф от икс где икс стремится к цэ равен плюс минус пределу джи от икс где икс стремится к цэ равен плюс минус бесконечности\n"
     ]
    },
    {
     "data": {
      "text/latex": [
       "$\\lim _{x\\to c}f(x)=\\pm \\lim _{x\\to c}g(x)=\\pm \\infty $"
      ],
      "text/plain": [
       "<IPython.core.display.Latex object>"
      ]
     },
     "metadata": {},
     "output_type": "display_data"
    },
    {
     "name": "stdout",
     "output_type": "stream",
     "text": [
      "\n",
      "дельта равно два арксинуса от скобка дэ по акт делить на два оператора дифференцирования дэ скобка\n"
     ]
    },
    {
     "data": {
      "text/latex": [
       "$\\delta =2\\arcsin \\left({\\frac {d_{\\mathrm {act} }}{2D}}\\right)$"
      ],
      "text/plain": [
       "<IPython.core.display.Latex object>"
      ]
     },
     "metadata": {},
     "output_type": "display_data"
    },
    {
     "name": "stdout",
     "output_type": "stream",
     "text": [
      "\n",
      "эн по а умножить на эн по бэ равно косинус тета\n"
     ]
    },
    {
     "data": {
      "text/latex": [
       "$\\mathbf {n_{A}} .\\mathbf {n_{B}} =\\cos \\theta $"
      ],
      "text/plain": [
       "<IPython.core.display.Latex object>"
      ]
     },
     "metadata": {},
     "output_type": "display_data"
    },
    {
     "name": "stdout",
     "output_type": "stream",
     "text": [
      "\n",
      "а равно скобка а по вэ скобка по вэ принадлежащее к множеству а по эль\n"
     ]
    },
    {
     "data": {
      "text/latex": [
       "$a=(a_{w})_{w}\\in \\mathbb {A} _{L}$"
      ],
      "text/plain": [
       "<IPython.core.display.Latex object>"
      ]
     },
     "metadata": {},
     "output_type": "display_data"
    },
    {
     "name": "stdout",
     "output_type": "stream",
     "text": [
      "\n",
      "игрек равно игрек нулевое плюс игрек первое умножить на тета плюс игрек второе умножить на тета в квадрате\n"
     ]
    },
    {
     "data": {
      "text/latex": [
       "$y=y_{0}+y_{1}\\theta +y_{2}\\theta ^{2}$"
      ],
      "text/plain": [
       "<IPython.core.display.Latex object>"
      ]
     },
     "metadata": {},
     "output_type": "display_data"
    },
    {
     "name": "stdout",
     "output_type": "stream",
     "text": [
      "\n",
      "альфа равно скобка альфа по вэ скобка по вэ принадлежащее множеству а по кей\n"
     ]
    },
    {
     "data": {
      "text/latex": [
       "$\\alpha =(\\alpha _{v})_{v}\\in \\mathbb {A} _{K}$"
      ],
      "text/plain": [
       "<IPython.core.display.Latex object>"
      ]
     },
     "metadata": {},
     "output_type": "display_data"
    },
    {
     "name": "stdout",
     "output_type": "stream",
     "text": [
      "\n",
      "скобка кей от икс умножить на корень пэтой степени от икс скобка является нестрогим надмножеством кей от икс\n"
     ]
    },
    {
     "data": {
      "text/latex": [
       "$K(X)({\\sqrt[{p}]{X}})\\supset K(X)$"
      ],
      "text/plain": [
       "<IPython.core.display.Latex object>"
      ]
     },
     "metadata": {},
     "output_type": "display_data"
    },
    {
     "name": "stdout",
     "output_type": "stream",
     "text": [
      "\n",
      "пси от эр множить на е в степени скобка и умножить на омега умножить на тэ скобка\n"
     ]
    },
    {
     "data": {
      "text/latex": [
       "$\\psi (\\mathbf {r} )e^{i\\omega t}$"
      ],
      "text/plain": [
       "<IPython.core.display.Latex object>"
      ]
     },
     "metadata": {},
     "output_type": "display_data"
    },
    {
     "name": "stdout",
     "output_type": "stream",
     "text": [
      "\n",
      "интеграл по гамма от джи от дзета по дэ дзета равно эф от бэ минус эф от а\n"
     ]
    },
    {
     "data": {
      "text/latex": [
       "$\\int _{\\gamma }g(\\zeta )\\,d\\zeta =f(b)-f(a).$"
      ],
      "text/plain": [
       "<IPython.core.display.Latex object>"
      ]
     },
     "metadata": {},
     "output_type": "display_data"
    },
    {
     "name": "stdout",
     "output_type": "stream",
     "text": [
      "\n",
      "икс первое запятая икс второе запятая икс третье\n"
     ]
    },
    {
     "data": {
      "text/latex": [
       "$\\mathbf {x} _{1},\\mathbf {x} _{2},\\mathbf {x} _{3}$"
      ],
      "text/plain": [
       "<IPython.core.display.Latex object>"
      ]
     },
     "metadata": {},
     "output_type": "display_data"
    },
    {
     "name": "stdout",
     "output_type": "stream",
     "text": [
      "\n",
      "фэ равно вэ деленная на два пи умножить на корень из а деленная на вэ нулевое умножить на эл\n"
     ]
    },
    {
     "data": {
      "text/latex": [
       "$f={\\frac {v}{2\\pi }}{\\sqrt {\\frac {A}{V_{0}L_{eq}}}}$"
      ],
      "text/plain": [
       "<IPython.core.display.Latex object>"
      ]
     },
     "metadata": {},
     "output_type": "display_data"
    },
    {
     "name": "stdout",
     "output_type": "stream",
     "text": [
      "\n",
      "а минус эр относится к множеству целых чисел умножить на множество действительных чисел \n"
     ]
    },
    {
     "data": {
      "text/latex": [
       "$\\alpha -r\\in {\\widehat {\\mathbb {Z} }}\\times \\mathbb {R} .$"
      ],
      "text/plain": [
       "<IPython.core.display.Latex object>"
      ]
     },
     "metadata": {},
     "output_type": "display_data"
    },
    {
     "name": "stdout",
     "output_type": "stream",
     "text": [
      "\n",
      "ку умножить на а умножить на о умножить на бэ равно эр умножить на косинус фи в квадрате\n"
     ]
    },
    {
     "data": {
      "text/latex": [
       "$\\mathbf {OA} \\cdot \\mathbf {OB} =R^{2}\\cos \\theta $"
      ],
      "text/plain": [
       "<IPython.core.display.Latex object>"
      ]
     },
     "metadata": {},
     "output_type": "display_data"
    },
    {
     "name": "stdout",
     "output_type": "stream",
     "text": [
      "\n",
      "пэ от тэ равно пэ нулевое плюс вэ от бэ умножить на тэ от тэ плюс одна вторая а от о умножить на тэ от тэ в квадрате\n"
     ]
    },
    {
     "data": {
      "text/latex": [
       "$P_{t}=P_{0}+V_{b}T_{t}+{\\frac {1}{2}}{\\acute {A}}_{0}T_{t}^{2}$"
      ],
      "text/plain": [
       "<IPython.core.display.Latex object>"
      ]
     },
     "metadata": {},
     "output_type": "display_data"
    },
    {
     "name": "stdout",
     "output_type": "stream",
     "text": [
      "\n",
      "интеграл модуль икс в эс умножить на дэ в икс умножить на икс равно сигма от эс\n"
     ]
    },
    {
     "data": {
      "text/latex": [
       "$\\int _{\\widehat {\\mathbb {Z} }}|x|^{s}d^{\\times }x=\\zeta (s),$"
      ],
      "text/plain": [
       "<IPython.core.display.Latex object>"
      ]
     },
     "metadata": {},
     "output_type": "display_data"
    },
    {
     "name": "stdout",
     "output_type": "stream",
     "text": [
      "\n",
      "предел эн стремится к бесконечности сумма эф от и\n"
     ]
    },
    {
     "data": {
      "text/latex": [
       "$\\lim _{n\\to \\infty }\\sum _{i=s}^{n}f(i)$"
      ],
      "text/plain": [
       "<IPython.core.display.Latex object>"
      ]
     },
     "metadata": {},
     "output_type": "display_data"
    },
    {
     "name": "stdout",
     "output_type": "stream",
     "text": [
      "\n",
      "произведение у от вэ умножить на произведение о от икс\n"
     ]
    },
    {
     "data": {
      "text/latex": [
       "$\\prod _{v\\in E}U_{v}\\times \\prod _{v\\notin E}O_{v}^{\\times },$"
      ],
      "text/plain": [
       "<IPython.core.display.Latex object>"
      ]
     },
     "metadata": {},
     "output_type": "display_data"
    },
    {
     "name": "stdout",
     "output_type": "stream",
     "text": [
      "\n",
      "кватернионы умножить на кватернионы\n"
     ]
    },
    {
     "data": {
      "text/latex": [
       "$\\mathbb {H} \\times \\mathbb {H} $"
      ],
      "text/plain": [
       "<IPython.core.display.Latex object>"
      ]
     },
     "metadata": {},
     "output_type": "display_data"
    },
    {
     "name": "stdout",
     "output_type": "stream",
     "text": [
      "\n",
      "интеграл от модуля икс умножить на дэ икс равно икс умножить на модуль икс деленная на два плюс цэ\n"
     ]
    },
    {
     "data": {
      "text/latex": [
       "$\\int \\left|x\\right|dx={\\frac {x\\left|x\\right|}{2}}+C,$"
      ],
      "text/plain": [
       "<IPython.core.display.Latex object>"
      ]
     },
     "metadata": {},
     "output_type": "display_data"
    },
    {
     "name": "stdout",
     "output_type": "stream",
     "text": [
      "\n",
      "фи во второй степени умножить на эф умножить на икс равно эф от минус икс\n"
     ]
    },
    {
     "data": {
      "text/latex": [
       "$({\\mathcal {F}}^{2}f)(x)=f(-x)$"
      ],
      "text/plain": [
       "<IPython.core.display.Latex object>"
      ]
     },
     "metadata": {},
     "output_type": "display_data"
    },
    {
     "name": "stdout",
     "output_type": "stream",
     "text": [
      "\n",
      "косинус а равно косинус бэ умножить на косинус цэ плюс синус бэ умножить на синус цэ умножить на косинус а\n"
     ]
    },
    {
     "data": {
      "text/latex": [
       "$\\cos a=\\cos b\\cos c+\\sin b\\sin c\\cos A,\\!$"
      ],
      "text/plain": [
       "<IPython.core.display.Latex object>"
      ]
     },
     "metadata": {},
     "output_type": "display_data"
    },
    {
     "name": "stdout",
     "output_type": "stream",
     "text": [
      "\n",
      "эн в степени минус а равно е в степени минус а логарифм от эн \n"
     ]
    },
    {
     "data": {
      "text/latex": [
       "$n^{-\\alpha }=e^{-\\alpha \\log(n)}$"
      ],
      "text/plain": [
       "<IPython.core.display.Latex object>"
      ]
     },
     "metadata": {},
     "output_type": "display_data"
    },
    {
     "name": "stdout",
     "output_type": "stream",
     "text": [
      "\n",
      "модуль е равно супремум модуля е дельта, дельта принадлежит множеству сигма\n"
     ]
    },
    {
     "data": {
      "text/latex": [
       "$\\|E\\|=\\sup _{\\sigma \\in \\Sigma }\\left\\|E_{\\sigma }\\right\\|$"
      ],
      "text/plain": [
       "<IPython.core.display.Latex object>"
      ]
     },
     "metadata": {},
     "output_type": "display_data"
    },
    {
     "name": "stdout",
     "output_type": "stream",
     "text": [
      "\n",
      "эр равно эр косинус фи, эр синус фи\n"
     ]
    },
    {
     "data": {
      "text/latex": [
       "$\\mathbf {r} =(r\\cos(\\varphi ),r\\sin(\\varphi ))$"
      ],
      "text/plain": [
       "<IPython.core.display.Latex object>"
      ]
     },
     "metadata": {},
     "output_type": "display_data"
    },
    {
     "name": "stdout",
     "output_type": "stream",
     "text": [
      "\n",
      "ка вэ стремится к а ка\n"
     ]
    },
    {
     "data": {
      "text/latex": [
       "$K_{v}\\hookrightarrow \\mathbb {A} _{K}.$"
      ],
      "text/plain": [
       "<IPython.core.display.Latex object>"
      ]
     },
     "metadata": {},
     "output_type": "display_data"
    },
    {
     "name": "stdout",
     "output_type": "stream",
     "text": [
      "\n",
      "эф равно числитель вэ умножить на дэ знаменатель пи конец дроби умножить на корень квадратный числитель три знаменатель восемь умножить на эль е кью умножить на дэ в кубе конец дроби\n"
     ]
    },
    {
     "data": {
      "text/latex": [
       "$f={\\frac {vd}{\\pi }}{\\sqrt {\\frac {3}{8L_{eq}D^{3}}}}$"
      ],
      "text/plain": [
       "<IPython.core.display.Latex object>"
      ]
     },
     "metadata": {},
     "output_type": "display_data"
    },
    {
     "name": "stdout",
     "output_type": "stream",
     "text": [
      "\n",
      "производная альфа равно альфа умножить на а в минус первой степени принадлежит множеству ай ка эс\n"
     ]
    },
    {
     "data": {
      "text/latex": [
       "$\\alpha '=\\alpha a^{-1}\\in I_{K,S},$"
      ],
      "text/plain": [
       "<IPython.core.display.Latex object>"
      ]
     },
     "metadata": {},
     "output_type": "display_data"
    },
    {
     "name": "stdout",
     "output_type": "stream",
     "text": [
      "\n",
      "числитель два эм факториал умножить на два эн факториал знаменатель факториал суммы эм плюс эн умножить на эм факториал умножить на эн факториал\n"
     ]
    },
    {
     "data": {
      "text/latex": [
       "${\\frac {(2m)!(2n)!}{(m+n)!m!n!}}$"
      ],
      "text/plain": [
       "<IPython.core.display.Latex object>"
      ]
     },
     "metadata": {},
     "output_type": "display_data"
    },
    {
     "name": "stdout",
     "output_type": "stream",
     "text": [
      "\n",
      "функция фи с областью определения циркумфлекс зе умножить на кью и областью значения эм\n"
     ]
    },
    {
     "data": {
      "text/latex": [
       "$\\Phi :{\\widehat {\\mathbb {Z} }}\\times \\mathbb {Q} \\to M.$"
      ],
      "text/plain": [
       "<IPython.core.display.Latex object>"
      ]
     },
     "metadata": {},
     "output_type": "display_data"
    },
    {
     "name": "stdout",
     "output_type": "stream",
     "text": [
      "\n",
      "функция цэ от икс равно сумма эн от нуля до бесконечности цэ по эн умножить на икс в степени эн\n"
     ]
    },
    {
     "data": {
      "text/latex": [
       "$c(x)=\\sum _{n=0}^{\\infty }C_{n}x^{n}.$"
      ],
      "text/plain": [
       "<IPython.core.display.Latex object>"
      ]
     },
     "metadata": {},
     "output_type": "display_data"
    },
    {
     "name": "stdout",
     "output_type": "stream",
     "text": [
      "\n",
      "а равно тэ ноль меньше тэ один троеточие меньше тэ эн минус один меньше тэ эн равно бэ\n"
     ]
    },
    {
     "data": {
      "text/latex": [
       "$a=t_{0}<t_{1}<\\dots <t_{N-1}<t_{N}=b$"
      ],
      "text/plain": [
       "<IPython.core.display.Latex object>"
      ]
     },
     "metadata": {},
     "output_type": "display_data"
    },
    {
     "name": "stdout",
     "output_type": "stream",
     "text": [
      "\n",
      "икс равен примерно равен плюс икс и\n"
     ]
    },
    {
     "data": {
      "text/latex": [
       "$X\\cong \\bigoplus _{i\\in I}X_{i}$"
      ],
      "text/plain": [
       "<IPython.core.display.Latex object>"
      ]
     },
     "metadata": {},
     "output_type": "display_data"
    },
    {
     "name": "stdout",
     "output_type": "stream",
     "text": [
      "\n",
      "а ка равно примерно равно ка вэ икс а в первой степени ка скобка открывается вэ скобка закрывается запятая\n"
     ]
    },
    {
     "data": {
      "text/latex": [
       "$\\mathbb {A} _{K}\\cong K_{v}\\times \\mathbb {A} _{K}'(v),$"
      ],
      "text/plain": [
       "<IPython.core.display.Latex object>"
      ]
     },
     "metadata": {},
     "output_type": "display_data"
    },
    {
     "name": "stdout",
     "output_type": "stream",
     "text": [
      "\n",
      "эр эс эн равно а эр плюс фигурная скобка открывается а плюс дэ фигурная скобка закрывается эр во второй степени плюс фигурная скобка открывается а плюс два дэ фигурная скобка закрывается эр в третьей степени плюс троеточие плюс фигурная скобка открывается а плюс скобка открывается эн минус один скобка закрывается дэ фигурная скобка закрывается эр в степени эн\n"
     ]
    },
    {
     "data": {
      "text/latex": [
       "$rS_{n}=ar+[a+d]r^{2}+[a+2d]r^{3}+\\cdots +[a+(n-1)d]r^{n}.$"
      ],
      "text/plain": [
       "<IPython.core.display.Latex object>"
      ]
     },
     "metadata": {},
     "output_type": "display_data"
    },
    {
     "name": "stdout",
     "output_type": "stream",
     "text": [
      "\n",
      "а а примерно равно а ка умножить ка а\n"
     ]
    },
    {
     "data": {
      "text/latex": [
       "$\\mathbb {A} _{A}\\cong \\mathbb {A} _{K}\\otimes _{K}A.$"
      ],
      "text/plain": [
       "<IPython.core.display.Latex object>"
      ]
     },
     "metadata": {},
     "output_type": "display_data"
    },
    {
     "name": "stdout",
     "output_type": "stream",
     "text": [
      "\n",
      "ка вэ равно ку пи скобка открывается о вэ скобка закрывается\n"
     ]
    },
    {
     "data": {
      "text/latex": [
       "$K_{v}=\\mathbb {Q} _{p}(\\theta _{v})$"
      ],
      "text/plain": [
       "<IPython.core.display.Latex object>"
      ]
     },
     "metadata": {},
     "output_type": "display_data"
    },
    {
     "name": "stdout",
     "output_type": "stream",
     "text": [
      "\n",
      "зэ пэ плюс троеточие плюс зэ пэ запятая\n"
     ]
    },
    {
     "data": {
      "text/latex": [
       "$\\mathbf {Z} _{p}\\oplus \\cdots \\oplus \\mathbf {Z} _{p},$"
      ],
      "text/plain": [
       "<IPython.core.display.Latex object>"
      ]
     },
     "metadata": {},
     "output_type": "display_data"
    },
    {
     "name": "stdout",
     "output_type": "stream",
     "text": [
      "\n",
      "пэ зэ и в квадрате дробь два эм и\n"
     ]
    },
    {
     "data": {
      "text/latex": [
       "${\\frac {{{p_{z}}_{i}}^{2}}{{2m}_{i}}}$"
      ],
      "text/plain": [
       "<IPython.core.display.Latex object>"
      ]
     },
     "metadata": {},
     "output_type": "display_data"
    },
    {
     "name": "stdout",
     "output_type": "stream",
     "text": [
      "\n",
      "эпсилон эн эф скобка открывается эн скобка закрывается равно эпсилон эн эф скобка открывается эн скобка закрывается точка\n"
     ]
    },
    {
     "data": {
      "text/latex": [
       "$\\sum _{n}{\\hat {f}}(n)=\\sum _{n}f(n).$"
      ],
      "text/plain": [
       "<IPython.core.display.Latex object>"
      ]
     },
     "metadata": {},
     "output_type": "display_data"
    },
    {
     "name": "stdout",
     "output_type": "stream",
     "text": [
      "\n",
      "эф разделить на эр стрелка си\n"
     ]
    },
    {
     "data": {
      "text/latex": [
       "$f:\\mathbb {R} \\to \\mathbb {C} $"
      ],
      "text/plain": [
       "<IPython.core.display.Latex object>"
      ]
     },
     "metadata": {},
     "output_type": "display_data"
    },
    {
     "name": "stdout",
     "output_type": "stream",
     "text": [
      "\n",
      "а равно а от пэ умножить на пэ принадлежит к рациональным числам\n"
     ]
    },
    {
     "data": {
      "text/latex": [
       "$\\alpha =(\\alpha _{p})_{p}\\in \\mathbb {A} _{\\mathbb {Q} },$"
      ],
      "text/plain": [
       "<IPython.core.display.Latex object>"
      ]
     },
     "metadata": {},
     "output_type": "display_data"
    },
    {
     "name": "stdout",
     "output_type": "stream",
     "text": [
      "\n",
      "пэ относится к ку как ку относится к пэ\n"
     ]
    },
    {
     "data": {
      "text/latex": [
       "$(P\\leftrightarrow Q)\\leftrightarrow (Q\\leftrightarrow P)$"
      ],
      "text/plain": [
       "<IPython.core.display.Latex object>"
      ]
     },
     "metadata": {},
     "output_type": "display_data"
    },
    {
     "name": "stdout",
     "output_type": "stream",
     "text": [
      "\n",
      "предел синус икс деленый на икс где икс стремится к нулю равен единице\n"
     ]
    },
    {
     "data": {
      "text/latex": [
       "$\\lim _{x\\to 0}{\\frac {\\sin x}{x}}=1$"
      ],
      "text/plain": [
       "<IPython.core.display.Latex object>"
      ]
     },
     "metadata": {},
     "output_type": "display_data"
    },
    {
     "name": "stdout",
     "output_type": "stream",
     "text": [
      "\n",
      "эф от икс фи от икс равно джи от икс фи от икс\n"
     ]
    },
    {
     "data": {
      "text/latex": [
       "$f(X,\\varphi (X))=g(X,\\varphi (X)).$"
      ],
      "text/plain": [
       "<IPython.core.display.Latex object>"
      ]
     },
     "metadata": {},
     "output_type": "display_data"
    },
    {
     "name": "stdout",
     "output_type": "stream",
     "text": [
      "\n",
      "джи умножить на эф умножить на икс равно три умножить на два икс плюс один плюс семь\n"
     ]
    },
    {
     "data": {
      "text/latex": [
       "$(g\\circ f)(x)=g(f(x))=3(2x+1)+7=6x+10$"
      ],
      "text/plain": [
       "<IPython.core.display.Latex object>"
      ]
     },
     "metadata": {},
     "output_type": "display_data"
    },
    {
     "name": "stdout",
     "output_type": "stream",
     "text": [
      "\n",
      "целые числа соответствуют множество ноль пять десять эксклюзивное множество ноль три шесть девять двенадцать\n"
     ]
    },
    {
     "data": {
      "text/latex": [
       "$\\mathbb {Z} _{15}\\cong \\{0,5,10\\}\\oplus \\{0,3,6,9,12\\}$"
      ],
      "text/plain": [
       "<IPython.core.display.Latex object>"
      ]
     },
     "metadata": {},
     "output_type": "display_data"
    },
    {
     "name": "stdout",
     "output_type": "stream",
     "text": [
      "\n",
      "е один е два е три\n"
     ]
    },
    {
     "data": {
      "text/latex": [
       "$\\mathbf {e} _{1},\\mathbf {e} _{2},\\mathbf {e} _{3}$"
      ],
      "text/plain": [
       "<IPython.core.display.Latex object>"
      ]
     },
     "metadata": {},
     "output_type": "display_data"
    },
    {
     "name": "stdout",
     "output_type": "stream",
     "text": [
      "\n",
      "ку умножить на корень квадратный из минус дэ где дэ больше или равен единицы\n"
     ]
    },
    {
     "data": {
      "text/latex": [
       "$\\mathbf {Q} {\\sqrt {-d}},d\\geq 1$"
      ],
      "text/plain": [
       "<IPython.core.display.Latex object>"
      ]
     },
     "metadata": {},
     "output_type": "display_data"
    },
    {
     "name": "stdout",
     "output_type": "stream",
     "text": [
      "\n",
      "к меньше или равно эсфэ от двух в ка\n"
     ]
    },
    {
     "data": {
      "text/latex": [
       "$\\kappa <\\operatorname {cf} (2^{\\kappa })$"
      ],
      "text/plain": [
       "<IPython.core.display.Latex object>"
      ]
     },
     "metadata": {},
     "output_type": "display_data"
    },
    {
     "name": "stdout",
     "output_type": "stream",
     "text": [
      "\n",
      "ка равно рациональные числа от икс разделить на икс в шестой минус два равно рациональные числа от фи\n"
     ]
    },
    {
     "data": {
      "text/latex": [
       "$K=\\mathbb {Q} [x]/(x^{6}-2)=\\mathbb {Q} (\\theta )$"
      ],
      "text/plain": [
       "<IPython.core.display.Latex object>"
      ]
     },
     "metadata": {},
     "output_type": "display_data"
    },
    {
     "name": "stdout",
     "output_type": "stream",
     "text": [
      "\n",
      "о равно дэ эль равно дэ эль на ви равно дэ эль на ви плюс эль на дэ вэ\n"
     ]
    },
    {
     "data": {
      "text/latex": [
       "$0=dL=d(I\\cdot \\omega )=dI\\cdot \\omega +I\\cdot d\\omega $"
      ],
      "text/plain": [
       "<IPython.core.display.Latex object>"
      ]
     },
     "metadata": {},
     "output_type": "display_data"
    },
    {
     "name": "stdout",
     "output_type": "stream",
     "text": [
      "\n",
      "сэ в ай равно дроби одного на ай плюс 1 умноженное на два ай\n"
     ]
    },
    {
     "data": {
      "text/latex": [
       "$C_{i}={\\frac {1}{i+1}}{\\binom {2i}{i}}.$"
      ],
      "text/plain": [
       "<IPython.core.display.Latex object>"
      ]
     },
     "metadata": {},
     "output_type": "display_data"
    },
    {
     "name": "stdout",
     "output_type": "stream",
     "text": [
      "\n",
      "у на тэ в нулевой равно у на тэ в первой\n"
     ]
    },
    {
     "data": {
      "text/latex": [
       "${\\vec {u}}(t_{0})={\\vec {u}}(t_{1})$"
      ],
      "text/plain": [
       "<IPython.core.display.Latex object>"
      ]
     },
     "metadata": {},
     "output_type": "display_data"
    },
    {
     "name": "stdout",
     "output_type": "stream",
     "text": [
      "\n",
      "деление эф на эр стремиться к эр\n"
     ]
    },
    {
     "data": {
      "text/latex": [
       "$F:\\mathbb {R} \\to \\mathbb {R} $"
      ],
      "text/plain": [
       "<IPython.core.display.Latex object>"
      ]
     },
     "metadata": {},
     "output_type": "display_data"
    },
    {
     "name": "stdout",
     "output_type": "stream",
     "text": [
      "\n",
      "произведение зет эр эс равно плюс минус пи си на а\n"
     ]
    },
    {
     "data": {
      "text/latex": [
       "$Z(\\mathbf {r} ,\\,s)=\\pm {\\frac {\\rho c}{A}},$"
      ],
      "text/plain": [
       "<IPython.core.display.Latex object>"
      ]
     },
     "metadata": {},
     "output_type": "display_data"
    },
    {
     "name": "stdout",
     "output_type": "stream",
     "text": [
      "\n",
      "кон лик альфа эпсилон ай в эль\n"
     ]
    },
    {
     "data": {
      "text/latex": [
       "$\\operatorname {con} _{L/K}(\\alpha )\\in I_{L}$"
      ],
      "text/plain": [
       "<IPython.core.display.Latex object>"
      ]
     },
     "metadata": {},
     "output_type": "display_data"
    },
    {
     "name": "stdout",
     "output_type": "stream",
     "text": [
      "\n",
      "а в дабалью равно а вэ эпсилон ка икс ви сэ эль икс ви\n"
     ]
    },
    {
     "data": {
      "text/latex": [
       "$a'_{w}=a_{v}\\in K_{v}^{\\times }\\subset L_{w}^{\\times }$"
      ],
      "text/plain": [
       "<IPython.core.display.Latex object>"
      ]
     },
     "metadata": {},
     "output_type": "display_data"
    },
    {
     "name": "stdout",
     "output_type": "stream",
     "text": [
      "\n",
      "дробь один на один минус дабалью равна сумме дабалью в эн где н равно нолю\n"
     ]
    },
    {
     "data": {
      "text/latex": [
       "${\\frac {1}{1-w}}=\\sum _{n=0}^{\\infty }w^{n}.$"
      ],
      "text/plain": [
       "<IPython.core.display.Latex object>"
      ]
     },
     "metadata": {},
     "output_type": "display_data"
    },
    {
     "name": "stdout",
     "output_type": "stream",
     "text": [
      "\n",
      "е джи на а в эн икс равно сумме а в эн икс эн на эн где н равно 0\n"
     ]
    },
    {
     "data": {
      "text/latex": [
       "$EG(a_{n};x)=\\sum _{n=0}^{\\infty }a_{n}{\\frac {x^{n}}{n!}}.$"
      ],
      "text/plain": [
       "<IPython.core.display.Latex object>"
      ]
     },
     "metadata": {},
     "output_type": "display_data"
    },
    {
     "name": "stdout",
     "output_type": "stream",
     "text": [
      "\n",
      "эс равно сэ ку в триста шестьдесят градусов\n"
     ]
    },
    {
     "data": {
      "text/latex": [
       "$s={\\frac {C\\theta }{360^{\\circ }}}.$"
      ],
      "text/plain": [
       "<IPython.core.display.Latex object>"
      ]
     },
     "metadata": {},
     "output_type": "display_data"
    },
    {
     "name": "stdout",
     "output_type": "stream",
     "text": [
      "\n",
      "два в степени скобка открывается один во второй степени скобка закрывается не равно скобка открывается два в первой степени скобка закрывается во второй степени\n"
     ]
    },
    {
     "data": {
      "text/latex": [
       "$2^{(1^{2})}\\,\\neq \\,(2^{1})^{2}$"
      ],
      "text/plain": [
       "<IPython.core.display.Latex object>"
      ]
     },
     "metadata": {},
     "output_type": "display_data"
    },
    {
     "name": "stdout",
     "output_type": "stream",
     "text": [
      "\n",
      "логарифм скобка открывается а плюс бэ скобка закрывается примерно равно максимум скобка открывается логарифм а запятая логарифм бэ скобка закрывается запятая\n"
     ]
    },
    {
     "data": {
      "text/latex": [
       "$\\log(a+b)\\approx \\max(\\log a,\\log b),$"
      ],
      "text/plain": [
       "<IPython.core.display.Latex object>"
      ]
     },
     "metadata": {},
     "output_type": "display_data"
    },
    {
     "name": "stdout",
     "output_type": "stream",
     "text": [
      "\n",
      "а тэ эф\n"
     ]
    },
    {
     "data": {
      "text/latex": [
       "$at {f}}(k)={\\frac {1}{|T|}}\\int _{[0,1)}f(y)e^{-2\\pi iky}dy$"
      ],
      "text/plain": [
       "<IPython.core.display.Latex object>"
      ]
     },
     "metadata": {},
     "output_type": "display_data"
    },
    {
     "name": "stdout",
     "output_type": "stream",
     "text": [
      "\n",
      "скобка открывается эр запятая скобка открывается а пэ двойная скобка е эр умножить на зе\n"
     ]
    },
    {
     "data": {
      "text/latex": [
       "$(r,(a_{p}))\\in \\mathbf {R} \\times {\\hat {\\mathbf {Z} }}$"
      ],
      "text/plain": [
       "<IPython.core.display.Latex object>"
      ]
     },
     "metadata": {},
     "output_type": "display_data"
    },
    {
     "name": "stdout",
     "output_type": "stream",
     "text": [
      "\n",
      "игрик скобка открывается дабл ю скобка закрывается равно джи скобка открывается дабл ю скобка закрывается плюс и бэ скобка открывается дабл ю скобка закрывается запятая\n"
     ]
    },
    {
     "data": {
      "text/latex": [
       "$y(\\omega )=g(\\omega )+ib(\\omega ),$"
      ],
      "text/plain": [
       "<IPython.core.display.Latex object>"
      ]
     },
     "metadata": {},
     "output_type": "display_data"
    },
    {
     "name": "stdout",
     "output_type": "stream",
     "text": [
      "\n",
      "а ку и ку запятая\n"
     ]
    },
    {
     "data": {
      "text/latex": [
       "$\\mathbb {A} _{\\mathbb {Q} }/\\mathbb {Q} ,$"
      ],
      "text/plain": [
       "<IPython.core.display.Latex object>"
      ]
     },
     "metadata": {},
     "output_type": "display_data"
    },
    {
     "name": "stdout",
     "output_type": "stream",
     "text": [
      "\n",
      "шесть запятая двенадцать запятая восемнадцать запятая двадцать четыре запятая тридцать запятая тридцать шесть запятая сорок два запятая сорок восемь запятая пятьдесят четыре запятая шестьдесят запятая шестьдесят шесть запятая семьдесят два запятая многоточие\n"
     ]
    },
    {
     "data": {
      "text/latex": [
       "$6,12,18,24,30,36,42,48,54,60,66,72,...$"
      ],
      "text/plain": [
       "<IPython.core.display.Latex object>"
      ]
     },
     "metadata": {},
     "output_type": "display_data"
    },
    {
     "name": "stdout",
     "output_type": "stream",
     "text": [
      "\n",
      "о равно зэ три кубический корень из двух\n"
     ]
    },
    {
     "data": {
      "text/latex": [
       "$\\theta =\\zeta _{3}{\\sqrt[{3}]{2}}$"
      ],
      "text/plain": [
       "<IPython.core.display.Latex object>"
      ]
     },
     "metadata": {},
     "output_type": "display_data"
    },
    {
     "name": "stdout",
     "output_type": "stream",
     "text": [
      "\n",
      "е эм и эр и равно ноль\n"
     ]
    },
    {
     "data": {
      "text/latex": [
       "$\\sum _{i}m_{i}\\mathbf {r} _{i}=\\mathbf {0} $"
      ],
      "text/plain": [
       "<IPython.core.display.Latex object>"
      ]
     },
     "metadata": {},
     "output_type": "display_data"
    },
    {
     "name": "stdout",
     "output_type": "stream",
     "text": [
      "\n",
      "эф равно эф в бесконечности умножить на фи\n"
     ]
    },
    {
     "data": {
      "text/latex": [
       "$\\Phi ={\\tilde {\\Phi }}\\circ \\Psi .$"
      ],
      "text/plain": [
       "<IPython.core.display.Latex object>"
      ]
     },
     "metadata": {},
     "output_type": "display_data"
    },
    {
     "name": "stdout",
     "output_type": "stream",
     "text": [
      "\n",
      "фи примерно равно корень квадратный из дельта икс в квадрате плюс дельта игрек в квадрате\n"
     ]
    },
    {
     "data": {
      "text/latex": [
       "$\\theta \\approx {\\sqrt {\\delta x^{2}+\\delta y^{2}}}$"
      ],
      "text/plain": [
       "<IPython.core.display.Latex object>"
      ]
     },
     "metadata": {},
     "output_type": "display_data"
    },
    {
     "name": "stdout",
     "output_type": "stream",
     "text": [
      "\n",
      "бэ от эн плюс один равно 2 умножить на сумму вэ от и на цэ от эн минус и\n"
     ]
    },
    {
     "data": {
      "text/latex": [
       "$B_{n+1}=2\\sum _{i=0}^{n}B_{i}C_{n-i}.$"
      ],
      "text/plain": [
       "<IPython.core.display.Latex object>"
      ]
     },
     "metadata": {},
     "output_type": "display_data"
    },
    {
     "name": "stdout",
     "output_type": "stream",
     "text": [
      "\n",
      "наименьший общий знаменатель от множества а бэ равно модуль а умножить на бэ разделить на джи эс дэ от множества а бэ\n"
     ]
    },
    {
     "data": {
      "text/latex": [
       "$\\operatorname {lcm} (a,b)={\\frac {|ab|}{\\gcd(a,b)}}.$"
      ],
      "text/plain": [
       "<IPython.core.display.Latex object>"
      ]
     },
     "metadata": {},
     "output_type": "display_data"
    },
    {
     "name": "stdout",
     "output_type": "stream",
     "text": [
      "\n",
      "пять двенадцатых плюс одиннадцать восемнадцатых\n"
     ]
    },
    {
     "data": {
      "text/latex": [
       "${\\frac {5}{12}}+{\\frac {11}{18}}$"
      ],
      "text/plain": [
       "<IPython.core.display.Latex object>"
      ]
     },
     "metadata": {},
     "output_type": "display_data"
    },
    {
     "name": "stdout",
     "output_type": "stream",
     "text": [
      "\n",
      "равно синус цэ умножить на синус бэ умножить на косинус а плюс косинус цэ умножить на косинус бэ\n"
     ]
    },
    {
     "data": {
      "text/latex": [
       "${}=\\sin c\\sin b\\cos A+\\cos c\\cos b$"
      ],
      "text/plain": [
       "<IPython.core.display.Latex object>"
      ]
     },
     "metadata": {},
     "output_type": "display_data"
    },
    {
     "name": "stdout",
     "output_type": "stream",
     "text": [
      "\n",
      "эф разделить на о плюс икс относится к вэ плюс фи от икс\n"
     ]
    },
    {
     "data": {
      "text/latex": [
       "$f\\colon (O+{\\vec {x}})\\mapsto (B+\\varphi ({\\vec {x}}))$"
      ],
      "text/plain": [
       "<IPython.core.display.Latex object>"
      ]
     },
     "metadata": {},
     "output_type": "display_data"
    },
    {
     "name": "stdout",
     "output_type": "stream",
     "text": [
      "\n",
      "аут от пэ примерно равно джи эл от эн фэ пэ\n"
     ]
    },
    {
     "data": {
      "text/latex": [
       "$\\operatorname {Aut} (P)\\cong \\mathrm {GL} (n,\\mathbf {F} _{p}),$"
      ],
      "text/plain": [
       "<IPython.core.display.Latex object>"
      ]
     },
     "metadata": {},
     "output_type": "display_data"
    },
    {
     "name": "stdout",
     "output_type": "stream",
     "text": [
      "\n",
      "дэ деленная на дэ икс интеграл фэ от тэ умножить на дэтэ равно эф от икс\n"
     ]
    },
    {
     "data": {
      "text/latex": [
       "${\\frac {d}{dx}}\\int _{a}^{x}f(t)\\,dt=f(x).$"
      ],
      "text/plain": [
       "<IPython.core.display.Latex object>"
      ]
     },
     "metadata": {},
     "output_type": "display_data"
    },
    {
     "name": "stdout",
     "output_type": "stream",
     "text": [
      "\n",
      "ай эл равно проиизведение эл икс вэ\n"
     ]
    },
    {
     "data": {
      "text/latex": [
       "$I_{L}={\\prod _{v}}^{'}L_{v}^{\\times }.$"
      ],
      "text/plain": [
       "<IPython.core.display.Latex object>"
      ]
     },
     "metadata": {},
     "output_type": "display_data"
    },
    {
     "name": "stdout",
     "output_type": "stream",
     "text": [
      "\n",
      "джи равно джи один равно е джи два джи энное\n"
     ]
    },
    {
     "data": {
      "text/latex": [
       "$G=\\{g_{1}=e,g_{2},\\dots ,g_{n}\\}$"
      ],
      "text/plain": [
       "<IPython.core.display.Latex object>"
      ]
     },
     "metadata": {},
     "output_type": "display_data"
    },
    {
     "name": "stdout",
     "output_type": "stream",
     "text": [
      "\n",
      "эф двоеточие а большое нижний регистр ка большое стрелка це большое\n"
     ]
    },
    {
     "data": {
      "text/latex": [
       "$f:\\mathbb {A} _{K}\\to \\mathbb {C} $"
      ],
      "text/plain": [
       "<IPython.core.display.Latex object>"
      ]
     },
     "metadata": {},
     "output_type": "display_data"
    },
    {
     "name": "stdout",
     "output_type": "stream",
     "text": [
      "\n",
      "эм равно числитель эф скобка окрывается а плюс аш скобка закрывается минус эф скобка открывается а скобка закрывается знаменатель скобка окрывается а плюс аш скобка закрывается минус а равно числитель эф скобка окрывается а плюс аш скобка закрывается минус эф скобка открывается а скобка закрывается знаменатель аш точка\n"
     ]
    },
    {
     "data": {
      "text/latex": [
       "$m={\\frac {f(a+h)-f(a)}{(a+h)-a}}={\\frac {f(a+h)-f(a)}{h}}.$"
      ],
      "text/plain": [
       "<IPython.core.display.Latex object>"
      ]
     },
     "metadata": {},
     "output_type": "display_data"
    },
    {
     "name": "stdout",
     "output_type": "stream",
     "text": [
      "\n",
      "цэ скобка открывается икс скобка закрывается равно числитель один минус корень один минус четыре икс знаменатель два икс\n"
     ]
    },
    {
     "data": {
      "text/latex": [
       "$c(x)={\\frac {1-{\\sqrt {1-4x}}}{2x}}$"
      ],
      "text/plain": [
       "<IPython.core.display.Latex object>"
      ]
     },
     "metadata": {},
     "output_type": "display_data"
    },
    {
     "name": "stdout",
     "output_type": "stream",
     "text": [
      "\n",
      "производная эль по тэ равно 2 эм эр производная эр по тэ равно 2 эр пэнижний регистр две вертикальные черты\n"
     ]
    },
    {
     "data": {
      "text/latex": [
       "${\\frac {dI}{dt}}=2mr{\\frac {dr}{dt}}=2rp_{||}$"
      ],
      "text/plain": [
       "<IPython.core.display.Latex object>"
      ]
     },
     "metadata": {},
     "output_type": "display_data"
    },
    {
     "name": "stdout",
     "output_type": "stream",
     "text": [
      "\n",
      "ку большое является подмножеством а большое нижний регистр ку большое\n"
     ]
    },
    {
     "data": {
      "text/latex": [
       "$\\mathbb {Q} \\subset \\mathbb {A} _{\\mathbb {Q} }$"
      ],
      "text/plain": [
       "<IPython.core.display.Latex object>"
      ]
     },
     "metadata": {},
     "output_type": "display_data"
    },
    {
     "name": "stdout",
     "output_type": "stream",
     "text": [
      "\n",
      "а большое нижний регистр ку большое тензорное произведение ка большое нижний регистр справа ку большое точка\n"
     ]
    },
    {
     "data": {
      "text/latex": [
       "$\\mathbb {A} _{\\mathbb {Q} }\\otimes _{\\mathbb {Q} }K.$"
      ],
      "text/plain": [
       "<IPython.core.display.Latex object>"
      ]
     },
     "metadata": {},
     "output_type": "display_data"
    },
    {
     "name": "stdout",
     "output_type": "stream",
     "text": [
      "\n",
      "бета по модулю равно произведение по вэ бета нижний регистр по мудулю нижний регистр вэ равно один запятая\n"
     ]
    },
    {
     "data": {
      "text/latex": [
       "$|\\beta |=\\prod _{v}|\\beta _{v}|_{v}=1,$"
      ],
      "text/plain": [
       "<IPython.core.display.Latex object>"
      ]
     },
     "metadata": {},
     "output_type": "display_data"
    },
    {
     "name": "stdout",
     "output_type": "stream",
     "text": [
      "\n",
      "эр большое верхний регистр плюс эквивалентно скобка открывается ноль запятая бесконечность скобка закрывается\n"
     ]
    },
    {
     "data": {
      "text/latex": [
       "$\\mathbb {R} ^{+}\\equiv \\left(0,\\infty \\right)$"
      ],
      "text/plain": [
       "<IPython.core.display.Latex object>"
      ]
     },
     "metadata": {},
     "output_type": "display_data"
    },
    {
     "name": "stdout",
     "output_type": "stream",
     "text": [
      "\n",
      "эф верхний регистр снежинка скобка открывается гэ скобка закрывается равно черта сверху эф скобка открывается гэ в степени минус один скобка закрывается точка\n"
     ]
    },
    {
     "data": {
      "text/latex": [
       "$f^{*}(g)={\\overline {f\\left(g^{-1}\\right)}}.$"
      ],
      "text/plain": [
       "<IPython.core.display.Latex object>"
      ]
     },
     "metadata": {},
     "output_type": "display_data"
    },
    {
     "name": "stdout",
     "output_type": "stream",
     "text": [
      "\n",
      "пэ нижний регистр три вектор пэ нижний регистр четыре\n"
     ]
    },
    {
     "data": {
      "text/latex": [
       "${\\overrightarrow {p_{3}p_{4}}}$"
      ],
      "text/plain": [
       "<IPython.core.display.Latex object>"
      ]
     },
     "metadata": {},
     "output_type": "display_data"
    },
    {
     "name": "stdout",
     "output_type": "stream",
     "text": [
      "\n",
      "пос равно пэ тэ плюс скобка открывается пэ тэ минус пэ тэ скобка закрывается умножить на циркумфлекс тэ\n"
     ]
    },
    {
     "data": {
      "text/latex": [
       "$Pos=P_{t}+\\left({\\acute {P}}_{t}-P_{t}\\right){\\hat {T}}$"
      ],
      "text/plain": [
       "<IPython.core.display.Latex object>"
      ]
     },
     "metadata": {},
     "output_type": "display_data"
    },
    {
     "name": "stdout",
     "output_type": "stream",
     "text": [
      "\n",
      "функция вэ от тэ равно вэ нулевое плюс а умножить на тэ\n"
     ]
    },
    {
     "data": {
      "text/latex": [
       "$\\mathbf {v} (t)=\\mathbf {v} _{0}+\\mathbf {a} t$"
      ],
      "text/plain": [
       "<IPython.core.display.Latex object>"
      ]
     },
     "metadata": {},
     "output_type": "display_data"
    },
    {
     "name": "stdout",
     "output_type": "stream",
     "text": [
      "\n",
      "производная функции гамма от тэ принадлежит множеству тэ гамма от тэ умножить на эм\n"
     ]
    },
    {
     "data": {
      "text/latex": [
       "$\\gamma '(t)\\in T_{\\gamma (t)}M$"
      ],
      "text/plain": [
       "<IPython.core.display.Latex object>"
      ]
     },
     "metadata": {},
     "output_type": "display_data"
    },
    {
     "name": "stdout",
     "output_type": "stream",
     "text": [
      "\n",
      "эль один ка равно модуль в минус первой степени умножить на множество один\n"
     ]
    },
    {
     "data": {
      "text/latex": [
       "$I_{K}^{1}=|\\cdot |^{-1}(\\{1\\}),$"
      ],
      "text/plain": [
       "<IPython.core.display.Latex object>"
      ]
     },
     "metadata": {},
     "output_type": "display_data"
    },
    {
     "name": "stdout",
     "output_type": "stream",
     "text": [
      "\n",
      "эс ка равно сумма минус один в степени эн умноженное на а эн, где эн принимает значение от нудя до ка\n"
     ]
    },
    {
     "data": {
      "text/latex": [
       "$S_{k}=\\sum _{n=0}^{k}(-1)^{n}a_{n}\\!$"
      ],
      "text/plain": [
       "<IPython.core.display.Latex object>"
      ]
     },
     "metadata": {},
     "output_type": "display_data"
    },
    {
     "name": "stdout",
     "output_type": "stream",
     "text": [
      "\n",
      "ка икс равно ка умножить на синус тхэта умножить на косинус фи \n"
     ]
    },
    {
     "data": {
      "text/latex": [
       "$k_{x}=k\\sin \\theta \\cos \\varphi \\,$"
      ],
      "text/plain": [
       "<IPython.core.display.Latex object>"
      ]
     },
     "metadata": {},
     "output_type": "display_data"
    },
    {
     "name": "stdout",
     "output_type": "stream",
     "text": [
      "\n",
      "эс равно множество элементов эф лямбда удовлетворяющих условию лямбда принадлежит множеству лямбда\n"
     ]
    },
    {
     "data": {
      "text/latex": [
       "$S=\\{f_{\\lambda }|\\lambda \\in \\Lambda \\}$"
      ],
      "text/plain": [
       "<IPython.core.display.Latex object>"
      ]
     },
     "metadata": {},
     "output_type": "display_data"
    },
    {
     "name": "stdout",
     "output_type": "stream",
     "text": [
      "\n",
      "функция сигнум от икс равно модуль икс разделить на икс равно икс разделить на модуль икс\n"
     ]
    },
    {
     "data": {
      "text/latex": [
       "$\\operatorname {sgn}(x)={\\frac {|x|}{x}}={\\frac {x}{|x|}}.$"
      ],
      "text/plain": [
       "<IPython.core.display.Latex object>"
      ]
     },
     "metadata": {},
     "output_type": "display_data"
    },
    {
     "name": "stdout",
     "output_type": "stream",
     "text": [
      "\n",
      "икс принадлежит  множеству а кью делить на зет\n"
     ]
    },
    {
     "data": {
      "text/latex": [
       "$x\\in \\mathbb {A} _{\\mathbb {Q} }/\\mathbb {Z} .$"
      ],
      "text/plain": [
       "<IPython.core.display.Latex object>"
      ]
     },
     "metadata": {},
     "output_type": "display_data"
    },
    {
     "name": "stdout",
     "output_type": "stream",
     "text": [
      "\n",
      "эр и эс принадлежит лямбда в квадрате умножить на вэ\n"
     ]
    },
    {
     "data": {
      "text/latex": [
       "$\\mathbf {r} \\wedge \\mathbf {s} \\in \\Lambda ^{2}V$"
      ],
      "text/plain": [
       "<IPython.core.display.Latex object>"
      ]
     },
     "metadata": {},
     "output_type": "display_data"
    },
    {
     "name": "stdout",
     "output_type": "stream",
     "text": [
      "\n",
      "от игрека один до цэ умножить на игрек эн плюс один\n"
     ]
    },
    {
     "data": {
      "text/latex": [
       "$\\mathbf {y} _{1},\\dotsc ,\\mathbf {y} _{n+1}$"
      ],
      "text/plain": [
       "<IPython.core.display.Latex object>"
      ]
     },
     "metadata": {},
     "output_type": "display_data"
    },
    {
     "name": "stdout",
     "output_type": "stream",
     "text": [
      "\n",
      "матрица а ка эс разделить равно произведению ка вэ где вэ является элементом множества эс\n"
     ]
    },
    {
     "data": {
      "text/latex": [
       "$\\mathbb {A} _{K,S}:={\\prod _{v\\in S}}^{'}K_{v}.$"
      ],
      "text/plain": [
       "<IPython.core.display.Latex object>"
      ]
     },
     "metadata": {},
     "output_type": "display_data"
    },
    {
     "name": "stdout",
     "output_type": "stream",
     "text": [
      "\n",
      "функция от минус эпсилон равно функция сопряжённая с эпсилон\n"
     ]
    },
    {
     "data": {
      "text/latex": [
       "${\\hat {f}}(-\\xi )={\\hat {f}}^{*}(\\xi ).$"
      ],
      "text/plain": [
       "<IPython.core.display.Latex object>"
      ]
     },
     "metadata": {},
     "output_type": "display_data"
    },
    {
     "name": "stdout",
     "output_type": "stream",
     "text": [
      "\n",
      "и пэ тэ эс тэ игрек эль е функция от а соответствуетфункции суммы а и эпсилон\n"
     ]
    },
    {
     "data": {
      "text/latex": [
       "$\\scriptstyle f(A){\\sim }f(A+E)$"
      ],
      "text/plain": [
       "<IPython.core.display.Latex object>"
      ]
     },
     "metadata": {},
     "output_type": "display_data"
    },
    {
     "name": "stdout",
     "output_type": "stream",
     "text": [
      "\n",
      "сумма а эр в степени ка где ка от нуля до бесконечности\n"
     ]
    },
    {
     "data": {
      "text/latex": [
       "$\\sum _{k=0}^{\\infty }ar^{k}={\\frac {a}{1-r}}.$"
      ],
      "text/plain": [
       "<IPython.core.display.Latex object>"
      ]
     },
     "metadata": {},
     "output_type": "display_data"
    },
    {
     "name": "stdout",
     "output_type": "stream",
     "text": [
      "\n",
      "бэ от эр эс равно дубль вэ эр умножить на эс\n"
     ]
    },
    {
     "data": {
      "text/latex": [
       "$B(\\mathbf {r} ,\\mathbf {s} )=(W\\mathbf {r} )\\cdot \\mathbf {s} $"
      ],
      "text/plain": [
       "<IPython.core.display.Latex object>"
      ]
     },
     "metadata": {},
     "output_type": "display_data"
    },
    {
     "name": "stdout",
     "output_type": "stream",
     "text": [
      "\n",
      "эр большое умножить на эр маленькое и о\n"
     ]
    },
    {
     "data": {
      "text/latex": [
       "${\\mathcal {R}}\\mathbf {r} _{io}$"
      ],
      "text/plain": [
       "<IPython.core.display.Latex object>"
      ]
     },
     "metadata": {},
     "output_type": "display_data"
    },
    {
     "name": "stdout",
     "output_type": "stream",
     "text": [
      "\n",
      "один плюс скобки в скобках дэ умножить на игрек разделить на произведение дэ и икс всё это в квадрате равно единица разделить на один минус икс в квадрате\n"
     ]
    },
    {
     "data": {
      "text/latex": [
       "$1+(dy/dx)^{2}=1/\\left(1-x^{2}\\right),$"
      ],
      "text/plain": [
       "<IPython.core.display.Latex object>"
      ]
     },
     "metadata": {},
     "output_type": "display_data"
    },
    {
     "name": "stdout",
     "output_type": "stream",
     "text": [
      "\n",
      "эф от икс равно интеграл от нуля до икс функции эф от тэ по переменной тэ\n"
     ]
    },
    {
     "data": {
      "text/latex": [
       "$F(x)=\\int _{0}^{x}f(t)\\,\\mathrm {d} t.$"
      ],
      "text/plain": [
       "<IPython.core.display.Latex object>"
      ]
     },
     "metadata": {},
     "output_type": "display_data"
    },
    {
     "name": "stdout",
     "output_type": "stream",
     "text": [
      "\n",
      "эр маленькое равно абсолютной величине эр маленькое\n"
     ]
    },
    {
     "data": {
      "text/latex": [
       "$r=\\left\\vert \\mathbf {r} \\right\\vert $"
      ],
      "text/plain": [
       "<IPython.core.display.Latex object>"
      ]
     },
     "metadata": {},
     "output_type": "display_data"
    },
    {
     "name": "stdout",
     "output_type": "stream",
     "text": [
      "\n",
      "ка запятая чар скобка открывается кэ вэ скобка закрывается равно пэ запятая\n"
     ]
    },
    {
     "data": {
      "text/latex": [
       "$K,\\operatorname {char} (K_{v})=p,$"
      ],
      "text/plain": [
       "<IPython.core.display.Latex object>"
      ]
     },
     "metadata": {},
     "output_type": "display_data"
    },
    {
     "name": "stdout",
     "output_type": "stream",
     "text": [
      "\n",
      "лимит икс стремится к нулю один минус косинус икс дробь икс равно нулю\n"
     ]
    },
    {
     "data": {
      "text/latex": [
       "$\\lim _{x\\to 0}{\\frac {1-\\cos x}{x}}=0$"
      ],
      "text/plain": [
       "<IPython.core.display.Latex object>"
      ]
     },
     "metadata": {},
     "output_type": "display_data"
    },
    {
     "name": "stdout",
     "output_type": "stream",
     "text": [
      "\n",
      "а кэ примерно равно а кэ точно\n"
     ]
    },
    {
     "data": {
      "text/latex": [
       "$\\mathbb {A} _{K}\\cong {\\widehat {\\mathbb {A} _{K}}}.$"
      ],
      "text/plain": [
       "<IPython.core.display.Latex object>"
      ]
     },
     "metadata": {},
     "output_type": "display_data"
    },
    {
     "name": "stdout",
     "output_type": "stream",
     "text": [
      "\n",
      "а е умножить на а в степени и е\n"
     ]
    },
    {
     "data": {
      "text/latex": [
       "$\\mathbb {A} _{E}\\times \\mathbb {A} _{E}'$"
      ],
      "text/plain": [
       "<IPython.core.display.Latex object>"
      ]
     },
     "metadata": {},
     "output_type": "display_data"
    },
    {
     "name": "stdout",
     "output_type": "stream",
     "text": [
      "\n",
      "эс два скобка открывается эм плюс один скобка закрывается плюс один равно эс два эм плюс один минус а два эм плюс два плюс а два эм плюс три меньше или равно эс два эм плюс один\n"
     ]
    },
    {
     "data": {
      "text/latex": [
       "$S_{2(m+1)+1}=S_{2m+1}-a_{2m+2}+a_{2m+3}\\leq S_{2m+1}$"
      ],
      "text/plain": [
       "<IPython.core.display.Latex object>"
      ]
     },
     "metadata": {},
     "output_type": "display_data"
    },
    {
     "name": "stdout",
     "output_type": "stream",
     "text": [
      "\n",
      "е эм и вэ и равно ноль запятая\n"
     ]
    },
    {
     "data": {
      "text/latex": [
       "$\\sum _{i}m_{i}\\mathbf {v} _{i}=\\mathbf {0} ,$"
      ],
      "text/plain": [
       "<IPython.core.display.Latex object>"
      ]
     },
     "metadata": {},
     "output_type": "display_data"
    },
    {
     "name": "stdout",
     "output_type": "stream",
     "text": [
      "\n",
      "пятьдесят четыре умножить на 1 равно двадцать семь умножить на два равно восемнадцать умножить на три равно девять умножить на шесть\n"
     ]
    },
    {
     "data": {
      "text/latex": [
       "$54\\times 1=27\\times 2=18\\times 3=9\\times 6.$"
      ],
      "text/plain": [
       "<IPython.core.display.Latex object>"
      ]
     },
     "metadata": {},
     "output_type": "display_data"
    },
    {
     "name": "stdout",
     "output_type": "stream",
     "text": [
      "\n",
      "гал скобка открывается ку скобка открывается зэ эн скобка закрывается и ку скобка закрывается\n"
     ]
    },
    {
     "data": {
      "text/latex": [
       "$\\mathrm {Gal} (\\mathbb {Q} (\\zeta _{n})/\\mathbb {Q} )$"
      ],
      "text/plain": [
       "<IPython.core.display.Latex object>"
      ]
     },
     "metadata": {},
     "output_type": "display_data"
    },
    {
     "name": "stdout",
     "output_type": "stream",
     "text": [
      "\n",
      "икс скобка открывается тэ скобка закрывается равно икс скобка открывается тэ скобка закрывается минус игрик скобка открывается тэ скобка закрывается запятая игрик скобка открывается тэ скобка закрывается равно минус игрик скобка открывается тэ скобка закрывается во второй степени\n"
     ]
    },
    {
     "data": {
      "text/latex": [
       "${\\dot {x}}(t)=x(t)-y(t),\\qquad {\\dot {y}}(t)=-y(t)^{2}$"
      ],
      "text/plain": [
       "<IPython.core.display.Latex object>"
      ]
     },
     "metadata": {},
     "output_type": "display_data"
    },
    {
     "name": "stdout",
     "output_type": "stream",
     "text": [
      "\n",
      "тэ равно тэ и минус один плюс о скобка открывается тэ и минус тэ и минус один\n"
     ]
    },
    {
     "data": {
      "text/latex": [
       "$t=t_{i-1}+\\theta (t_{i}-t_{i-1})$"
      ],
      "text/plain": [
       "<IPython.core.display.Latex object>"
      ]
     },
     "metadata": {},
     "output_type": "display_data"
    },
    {
     "name": "stdout",
     "output_type": "stream",
     "text": [
      "\n",
      "девяносто равно два в первой умножить на три в квадрате умножить на пять в первой равно два умножить на три умножить на три умножить на пять\n"
     ]
    },
    {
     "data": {
      "text/latex": [
       "$90=2^{1}\\cdot 3^{2}\\cdot 5^{1}=2\\cdot 3\\cdot 3\\cdot 5.$"
      ],
      "text/plain": [
       "<IPython.core.display.Latex object>"
      ]
     },
     "metadata": {},
     "output_type": "display_data"
    },
    {
     "name": "stdout",
     "output_type": "stream",
     "text": [
      "\n",
      "предел альфы не равен нулю\n"
     ]
    },
    {
     "data": {
      "text/latex": [
       "$\\operatorname {Im} \\alpha \\neq 0$"
      ],
      "text/plain": [
       "<IPython.core.display.Latex object>"
      ]
     },
     "metadata": {},
     "output_type": "display_data"
    },
    {
     "name": "stdout",
     "output_type": "stream",
     "text": [
      "\n",
      "эс от эн равно а плюс а плюс дэ умножить на эр плюс а плюс два дэ умножить на эр квадрат плюс\n"
     ]
    },
    {
     "data": {
      "text/latex": [
       "$S_{n}=a+[a+d]r+[a+2d]r^{2}+\\cdots +[a+(n-1)d]r^{n-1}$"
      ],
      "text/plain": [
       "<IPython.core.display.Latex object>"
      ]
     },
     "metadata": {},
     "output_type": "display_data"
    },
    {
     "name": "stdout",
     "output_type": "stream",
     "text": [
      "\n",
      "ядро эф равно о в икс умножить на ка в икс\n"
     ]
    },
    {
     "data": {
      "text/latex": [
       "$\\ker(\\phi )={\\widehat {O}}^{\\times }K^{\\times }.$"
      ],
      "text/plain": [
       "<IPython.core.display.Latex object>"
      ]
     },
     "metadata": {},
     "output_type": "display_data"
    },
    {
     "name": "stdout",
     "output_type": "stream",
     "text": [
      "\n",
      "ю от тэ равно вэ от тэ разделить на вэ от тэ\n"
     ]
    },
    {
     "data": {
      "text/latex": [
       "$\\mathbf {u} _{\\mathrm {t} }={\\frac {\\mathbf {v} (t)}{v(t)}}\\ ,$"
      ],
      "text/plain": [
       "<IPython.core.display.Latex object>"
      ]
     },
     "metadata": {},
     "output_type": "display_data"
    },
    {
     "name": "stdout",
     "output_type": "stream",
     "text": [
      "\n",
      "целые числа равны рациональные числа принадлежат к множеству а от зэд\n"
     ]
    },
    {
     "data": {
      "text/latex": [
       "$\\mathbb {Z} =\\mathbb {Q} \\cap \\mathbb {A} _{\\mathbb {Z} }.$"
      ],
      "text/plain": [
       "<IPython.core.display.Latex object>"
      ]
     },
     "metadata": {},
     "output_type": "display_data"
    },
    {
     "name": "stdout",
     "output_type": "stream",
     "text": [
      "\n",
      "два эн факториал равно два эн факториал умножить на факториал два эе минус один факториал равно два в эн умножить на эн факториал\n"
     ]
    },
    {
     "data": {
      "text/latex": [
       "$(2n)!=(2n)!!(2n-1)!!=2^{n}n!(2n-1)!!$"
      ],
      "text/plain": [
       "<IPython.core.display.Latex object>"
      ]
     },
     "metadata": {},
     "output_type": "display_data"
    },
    {
     "name": "stdout",
     "output_type": "stream",
     "text": [
      "\n",
      "синус бэ умножить на синус цэ умножить на квадрат синуса а равно синус бэ умножить на синус цэ умножить на квадрат минуса а\n"
     ]
    },
    {
     "data": {
      "text/latex": [
       "$\\sin b\\,\\sin c\\,\\sin ^{2}A=\\sin B\\,\\sin C\\,\\sin ^{2}a$"
      ],
      "text/plain": [
       "<IPython.core.display.Latex object>"
      ]
     },
     "metadata": {},
     "output_type": "display_data"
    },
    {
     "name": "stdout",
     "output_type": "stream",
     "text": [
      "\n",
      "вэ от ай равно вэ плюс вэ от ай\n"
     ]
    },
    {
     "data": {
      "text/latex": [
       "$\\mathbf {V} _{i}=\\mathbf {V} +\\mathbf {v} _{i}.$"
      ],
      "text/plain": [
       "<IPython.core.display.Latex object>"
      ]
     },
     "metadata": {},
     "output_type": "display_data"
    },
    {
     "name": "stdout",
     "output_type": "stream",
     "text": [
      "\n",
      "а от вэ стремится к а от вэ\n"
     ]
    },
    {
     "data": {
      "text/latex": [
       "$(a_{w})_{w}\\mapsto (a_{v},(a_{w})_{w\\neq v}).$"
      ],
      "text/plain": [
       "<IPython.core.display.Latex object>"
      ]
     },
     "metadata": {},
     "output_type": "display_data"
    },
    {
     "name": "stdout",
     "output_type": "stream",
     "text": [
      "\n",
      "эпсилон эн дельта тэ равно эпсилон скобка открывается бэ минус а скобка закрывается\n"
     ]
    },
    {
     "data": {
      "text/latex": [
       "$\\varepsilon N\\Delta t=\\varepsilon (b-a)$"
      ],
      "text/plain": [
       "<IPython.core.display.Latex object>"
      ]
     },
     "metadata": {},
     "output_type": "display_data"
    },
    {
     "name": "stdout",
     "output_type": "stream",
     "text": [
      "\n",
      "а равно а пэтое пэтое принадлежит множеству а кутое\n"
     ]
    },
    {
     "data": {
      "text/latex": [
       "$a=(a_{p})_{p}\\in \\mathbb {A} _{\\mathbb {Q} }$"
      ],
      "text/plain": [
       "<IPython.core.display.Latex object>"
      ]
     },
     "metadata": {},
     "output_type": "display_data"
    },
    {
     "name": "stdout",
     "output_type": "stream",
     "text": [
      "\n",
      "множество целых чисел зэт в степени икс\n"
     ]
    },
    {
     "data": {
      "text/latex": [
       "${\\widehat {\\mathbb {Z} }}^{\\times }$"
      ],
      "text/plain": [
       "<IPython.core.display.Latex object>"
      ]
     },
     "metadata": {},
     "output_type": "display_data"
    },
    {
     "name": "stdout",
     "output_type": "stream",
     "text": [
      "\n",
      "множество а етое равно е тензорное произведение ка множество а катое\n"
     ]
    },
    {
     "data": {
      "text/latex": [
       "$\\mathbb {A} _{E}=E\\otimes _{K}\\mathbb {A} _{K}$"
      ],
      "text/plain": [
       "<IPython.core.display.Latex object>"
      ]
     },
     "metadata": {},
     "output_type": "display_data"
    },
    {
     "name": "stdout",
     "output_type": "stream",
     "text": [
      "\n",
      "единица принадлежит множеству а катое на пэ бесконечное в степени икс\n"
     ]
    },
    {
     "data": {
      "text/latex": [
       "$1\\in \\mathbb {A} _{K}(P_{\\infty })^{\\times }$"
      ],
      "text/plain": [
       "<IPython.core.display.Latex object>"
      ]
     },
     "metadata": {},
     "output_type": "display_data"
    },
    {
     "name": "stdout",
     "output_type": "stream",
     "text": [
      "\n",
      "предел натуральный логарифм скобка открывается один плюс а икс скобка закрывается делить на бэ икс при икс стремящемся к нулю равно а делить на бэ\n"
     ]
    },
    {
     "data": {
      "text/latex": [
       "$\\lim _{x\\to 0}{\\frac {\\ln(1+ax)}{bx}}={\\frac {a}{b}}$"
      ],
      "text/plain": [
       "<IPython.core.display.Latex object>"
      ]
     },
     "metadata": {},
     "output_type": "display_data"
    },
    {
     "name": "stdout",
     "output_type": "stream",
     "text": [
      "\n",
      "ка равно множество рациональных чисел ку скобка открывается бэ один и так далее бэ энное скобка закрывается\n"
     ]
    },
    {
     "data": {
      "text/latex": [
       "$K=\\mathbb {Q} (b_{1},\\ldots ,b_{n})$"
      ],
      "text/plain": [
       "<IPython.core.display.Latex object>"
      ]
     },
     "metadata": {},
     "output_type": "display_data"
    },
    {
     "name": "stdout",
     "output_type": "stream",
     "text": [
      "\n",
      "функция от и тау равно функция от минус два пи тау\n"
     ]
    },
    {
     "data": {
      "text/latex": [
       "${\\hat {f}}(i\\tau )=F(-2\\pi \\tau ).$"
      ],
      "text/plain": [
       "<IPython.core.display.Latex object>"
      ]
     },
     "metadata": {},
     "output_type": "display_data"
    },
    {
     "name": "stdout",
     "output_type": "stream",
     "text": [
      "\n",
      "два икс на скобка открывается икс в квадрате плюс игрек в квадрате скобка закрывается равно а на скобка открывается три икс в квадрате минус игрек в квадрате скобка закрывается\n"
     ]
    },
    {
     "data": {
      "text/latex": [
       "$2x(x^{2}+y^{2})=a(3x^{2}-y^{2}),$"
      ],
      "text/plain": [
       "<IPython.core.display.Latex object>"
      ]
     },
     "metadata": {},
     "output_type": "display_data"
    },
    {
     "name": "stdout",
     "output_type": "stream",
     "text": [
      "\n",
      "икс принадлежит последовательности минус квадратный корень из двух делить на два квадратный корень из двух делить на два\n"
     ]
    },
    {
     "data": {
      "text/latex": [
       "$x\\in \\left[-{\\sqrt {2}}/2,{\\sqrt {2}}/2\\right]$"
      ],
      "text/plain": [
       "<IPython.core.display.Latex object>"
      ]
     },
     "metadata": {},
     "output_type": "display_data"
    },
    {
     "name": "stdout",
     "output_type": "stream",
     "text": [
      "\n",
      "джи би деление множества от одного до эль в би стремиться к множеству от ноля до одного в эль би\n"
     ]
    },
    {
     "data": {
      "text/latex": [
       "$g_{b}:\\{1,2,\\ldots ,I_{b}\\}\\mapsto \\{0,1\\}^{I_{b}}$"
      ],
      "text/plain": [
       "<IPython.core.display.Latex object>"
      ]
     },
     "metadata": {},
     "output_type": "display_data"
    },
    {
     "name": "stdout",
     "output_type": "stream",
     "text": [
      "\n",
      "дабалью альфа эн эль один ка разделить на ка в икс\n"
     ]
    },
    {
     "data": {
      "text/latex": [
       "$W_{\\alpha }\\cap I_{K}^{1}\\to I_{K}^{1}/K^{\\times }$"
      ],
      "text/plain": [
       "<IPython.core.display.Latex object>"
      ]
     },
     "metadata": {},
     "output_type": "display_data"
    },
    {
     "name": "stdout",
     "output_type": "stream",
     "text": [
      "\n",
      "произведение альфа вэ вэ меньше или равно бетта вэ\n"
     ]
    },
    {
     "data": {
      "text/latex": [
       "$|\\alpha _{v}|_{v}\\leq \\delta _{v}$"
      ],
      "text/plain": [
       "<IPython.core.display.Latex object>"
      ]
     },
     "metadata": {},
     "output_type": "display_data"
    },
    {
     "name": "stdout",
     "output_type": "stream",
     "text": [
      "\n",
      "у лямбда от одного до у лямда дэ\n"
     ]
    },
    {
     "data": {
      "text/latex": [
       "$u_{\\lambda ,1},\\ldots ,u_{\\lambda ,d}$"
      ],
      "text/plain": [
       "<IPython.core.display.Latex object>"
      ]
     },
     "metadata": {},
     "output_type": "display_data"
    },
    {
     "name": "stdout",
     "output_type": "stream",
     "text": [
      "\n",
      "а в вэ равно множеству эн эл вэ эль ка вэ на а эль эф\n"
     ]
    },
    {
     "data": {
      "text/latex": [
       "$|a|_{w}=|N_{L_{w}/K_{v}}(a)|_{v},$"
      ],
      "text/plain": [
       "<IPython.core.display.Latex object>"
      ]
     },
     "metadata": {},
     "output_type": "display_data"
    },
    {
     "name": "stdout",
     "output_type": "stream",
     "text": [
      "\n",
      "косинус а равен разности деления косинус а косинус бэ косинус це на синус бэ синус с\n"
     ]
    },
    {
     "data": {
      "text/latex": [
       "$\\cos A={\\frac {\\cos a-\\cos b\\cos c}{\\sin b\\sin c}}.$"
      ],
      "text/plain": [
       "<IPython.core.display.Latex object>"
      ]
     },
     "metadata": {},
     "output_type": "display_data"
    },
    {
     "name": "stdout",
     "output_type": "stream",
     "text": [
      "\n",
      "косинус бэ равен сумме косинус цэ и а синус це а косинус бэ\n"
     ]
    },
    {
     "data": {
      "text/latex": [
       "$\\cos b=\\cos c\\cos a+\\sin c\\sin a\\cos B,\\!$"
      ],
      "text/plain": [
       "<IPython.core.display.Latex object>"
      ]
     },
     "metadata": {},
     "output_type": "display_data"
    },
    {
     "name": "stdout",
     "output_type": "stream",
     "text": [
      "\n",
      "произведение ку на эр один два три\n"
     ]
    },
    {
     "data": {
      "text/latex": [
       "$\\mathbf {Q} (r_{1},r_{2},r_{3})$"
      ],
      "text/plain": [
       "<IPython.core.display.Latex object>"
      ]
     },
     "metadata": {},
     "output_type": "display_data"
    },
    {
     "name": "stdout",
     "output_type": "stream",
     "text": [
      "\n",
      "дэ тэ равно тэ в ай минус тэ ай в минус первой дэ ку и равно тангенс ку\n"
     ]
    },
    {
     "data": {
      "text/latex": [
       "$dt=(t_{i}-t_{i-1})d\\theta =\\Delta td\\theta $"
      ],
      "text/plain": [
       "<IPython.core.display.Latex object>"
      ]
     },
     "metadata": {},
     "output_type": "display_data"
    },
    {
     "name": "stdout",
     "output_type": "stream",
     "text": [
      "\n",
      "лим эф на икс где икс стремиться к бесконечности равен бесконечности, лим эф икс равен отрицательной бесконечности и икс стремиться к положительной а\n"
     ]
    },
    {
     "data": {
      "text/latex": [
       "$\\lim _{x\\to \\infty }f(x)=\\infty ,\\lim _{x\\to a^{+}}f(x)=-\\infty .$"
      ],
      "text/plain": [
       "<IPython.core.display.Latex object>"
      ]
     },
     "metadata": {},
     "output_type": "display_data"
    },
    {
     "name": "stdout",
     "output_type": "stream",
     "text": [
      "\n",
      "пэ не принадлежит множеству пэ по одному до эн\n"
     ]
    },
    {
     "data": {
      "text/latex": [
       "$p\\notin \\{p_{1},\\ldots ,p_{n}\\}$"
      ],
      "text/plain": [
       "<IPython.core.display.Latex object>"
      ]
     },
     "metadata": {},
     "output_type": "display_data"
    },
    {
     "name": "stdout",
     "output_type": "stream",
     "text": [
      "\n",
      "фунция модуль точки с областью обределения эль малое по кей и областью значения вещественные положительные числа\n"
     ]
    },
    {
     "data": {
      "text/latex": [
       "$|\\cdot |:I_{K}\\to \\mathbb {R} _{+}$"
      ],
      "text/plain": [
       "<IPython.core.display.Latex object>"
      ]
     },
     "metadata": {},
     "output_type": "display_data"
    },
    {
     "name": "stdout",
     "output_type": "stream",
     "text": [
      "\n",
      "пси по эн от кси равно скобка скобка минус и скобка в степени эн скобка умножить на пси по эн от кси\n"
     ]
    },
    {
     "data": {
      "text/latex": [
       "${\\hat {\\psi }}_{n}(\\xi )=(-i)^{n}\\psi _{n}(\\xi )$"
      ],
      "text/plain": [
       "<IPython.core.display.Latex object>"
      ]
     },
     "metadata": {},
     "output_type": "display_data"
    },
    {
     "name": "stdout",
     "output_type": "stream",
     "text": [
      "\n",
      "функция джи с областью определения а большое и областью значений бэ большое\n"
     ]
    },
    {
     "data": {
      "text/latex": [
       "$g\\colon {\\mathcal {A}}\\to {\\mathcal {B}}$"
      ],
      "text/plain": [
       "<IPython.core.display.Latex object>"
      ]
     },
     "metadata": {},
     "output_type": "display_data"
    },
    {
     "name": "stdout",
     "output_type": "stream",
     "text": [
      "\n",
      "дистанция равна скорость умножить на время\n"
     ]
    },
    {
     "data": {
      "text/latex": [
       "$\\mathrm {Distance} =\\mathrm {Speed} \\cdot \\mathrm {Time} $"
      ],
      "text/plain": [
       "<IPython.core.display.Latex object>"
      ]
     },
     "metadata": {},
     "output_type": "display_data"
    },
    {
     "name": "stdout",
     "output_type": "stream",
     "text": [
      "\n",
      "последовательность омега по одному до эн\n"
     ]
    },
    {
     "data": {
      "text/latex": [
       "$\\omega _{1},\\ldots ,\\omega _{n}$"
      ],
      "text/plain": [
       "<IPython.core.display.Latex object>"
      ]
     },
     "metadata": {},
     "output_type": "display_data"
    },
    {
     "name": "stdout",
     "output_type": "stream",
     "text": [
      "\n",
      "аш равно эр прямое произведение вэ\n"
     ]
    },
    {
     "data": {
      "text/latex": [
       "$\\mathbf {h} =\\mathbf {r} \\times \\mathbf {v} ,$"
      ],
      "text/plain": [
       "<IPython.core.display.Latex object>"
      ]
     },
     "metadata": {},
     "output_type": "display_data"
    },
    {
     "name": "stdout",
     "output_type": "stream",
     "text": [
      "\n",
      "о в степени икс геометрически равно мю от кей большого прямое произведение целые числа в степени скобка эр плюс эс минус один скобка\n"
     ]
    },
    {
     "data": {
      "text/latex": [
       "$O^{\\times }\\cong \\mu (K)\\times \\mathbb {Z} ^{r+s-1},$"
      ],
      "text/plain": [
       "<IPython.core.display.Latex object>"
      ]
     },
     "metadata": {},
     "output_type": "display_data"
    },
    {
     "name": "stdout",
     "output_type": "stream",
     "text": [
      "\n",
      "джи большое эль большое интервал от не включая двух до не включая эр большое\n"
     ]
    },
    {
     "data": {
      "text/latex": [
       "$\\operatorname {GL} (2,\\mathbb {R} ).$"
      ],
      "text/plain": [
       "<IPython.core.display.Latex object>"
      ]
     },
     "metadata": {},
     "output_type": "display_data"
    },
    {
     "name": "stdout",
     "output_type": "stream",
     "text": [
      "\n",
      "скобка альфа по вэ умножить на бета по вэ скобка по вэ равно один\n"
     ]
    },
    {
     "data": {
      "text/latex": [
       "$(\\alpha _{v}\\beta _{v})_{v}=1.$"
      ],
      "text/plain": [
       "<IPython.core.display.Latex object>"
      ]
     },
     "metadata": {},
     "output_type": "display_data"
    },
    {
     "name": "stdout",
     "output_type": "stream",
     "text": [
      "\n",
      "дельта игрек равна дельта а минус дельта бэ\n"
     ]
    },
    {
     "data": {
      "text/latex": [
       "$\\delta y=\\delta _{A}-\\delta _{B}$"
      ],
      "text/plain": [
       "<IPython.core.display.Latex object>"
      ]
     },
     "metadata": {},
     "output_type": "display_data"
    },
    {
     "name": "stdout",
     "output_type": "stream",
     "text": [
      "\n",
      "гэ цэ дэ скобка открывается а запятая бэ скобка закрывается равно модуль произведения а на бэ делить на эль цэ эм скобка открывается а запятая бэ скобка закрывается\n"
     ]
    },
    {
     "data": {
      "text/latex": [
       "$\\gcd(a,b)={\\frac {|a\\cdot b|}{\\operatorname {lcm} (a,b)}}$"
      ],
      "text/plain": [
       "<IPython.core.display.Latex object>"
      ]
     },
     "metadata": {},
     "output_type": "display_data"
    },
    {
     "name": "stdout",
     "output_type": "stream",
     "text": [
      "\n",
      "вектор а е пэ равен вектору е пэ дэ\n"
     ]
    },
    {
     "data": {
      "text/latex": [
       "${\\widehat {AEP}}={\\widehat {EPD}},$"
      ],
      "text/plain": [
       "<IPython.core.display.Latex object>"
      ]
     },
     "metadata": {},
     "output_type": "display_data"
    },
    {
     "name": "stdout",
     "output_type": "stream",
     "text": [
      "\n",
      "линейный интеграл ню функции гэ от дзета по переменной дзэта равен нулю\n"
     ]
    },
    {
     "data": {
      "text/latex": [
       "$\\oint _{\\gamma }g(\\zeta )\\,d\\zeta =0,$"
      ],
      "text/plain": [
       "<IPython.core.display.Latex object>"
      ]
     },
     "metadata": {},
     "output_type": "display_data"
    },
    {
     "name": "stdout",
     "output_type": "stream",
     "text": [
      "\n",
      "цэ равно произведению от пэ первого в степени ка один до пэ энного в степени ка эн\n"
     ]
    },
    {
     "data": {
      "text/latex": [
       "$c=p_{1}^{k_{1}}\\cdots p_{n}^{k_{n}}$"
      ],
      "text/plain": [
       "<IPython.core.display.Latex object>"
      ]
     },
     "metadata": {},
     "output_type": "display_data"
    },
    {
     "name": "stdout",
     "output_type": "stream",
     "text": [
      "\n",
      "константа эль деленное на ка двоеточие и катое преобразуется в и эл\n"
     ]
    },
    {
     "data": {
      "text/latex": [
       "$\\operatorname {con} _{L/K}:I_{K}\\hookrightarrow I_{L}.$"
      ],
      "text/plain": [
       "<IPython.core.display.Latex object>"
      ]
     },
     "metadata": {},
     "output_type": "display_data"
    },
    {
     "name": "stdout",
     "output_type": "stream",
     "text": [
      "\n",
      "гэ цэ дэ скобка открывается а запятая бэ скобка закрывается равно а эф скобка открывается бэ делить на а скобка закрывается\n"
     ]
    },
    {
     "data": {
      "text/latex": [
       "$\\gcd(a,b)=af\\left({\\frac {b}{a}}\\right),$"
      ],
      "text/plain": [
       "<IPython.core.display.Latex object>"
      ]
     },
     "metadata": {},
     "output_type": "display_data"
    },
    {
     "name": "stdout",
     "output_type": "stream",
     "text": [
      "\n",
      "и эр эм эс равно корню из произведения два на е на эль на дельта эф\n"
     ]
    },
    {
     "data": {
      "text/latex": [
       "$i_{\\rm {RMS}}={\\sqrt {2eI\\Delta f}}$"
      ],
      "text/plain": [
       "<IPython.core.display.Latex object>"
      ]
     },
     "metadata": {},
     "output_type": "display_data"
    },
    {
     "name": "stdout",
     "output_type": "stream",
     "text": [
      "\n",
      "сумма произведений а энного и функции фи энной от икс, где эн принимает значения от нуля до эн большого\n"
     ]
    },
    {
     "data": {
      "text/latex": [
       "$\\sum _{n=0}^{N}a_{n}\\varphi _{n}(x)$"
      ],
      "text/plain": [
       "<IPython.core.display.Latex object>"
      ]
     },
     "metadata": {},
     "output_type": "display_data"
    },
    {
     "name": "stdout",
     "output_type": "stream",
     "text": [
      "\n",
      "предел интеграла от а до икс функции эф от тэ по переменной тэ при икс стремящемся к бесконечности\n"
     ]
    },
    {
     "data": {
      "text/latex": [
       "$\\lim _{x\\to \\infty }\\int _{a}^{x}f(t)\\;dt$"
      ],
      "text/plain": [
       "<IPython.core.display.Latex object>"
      ]
     },
     "metadata": {},
     "output_type": "display_data"
    },
    {
     "name": "stdout",
     "output_type": "stream",
     "text": [
      "\n",
      "альфа вэ ноль разделить равно пи кэ вэ ноль вэ ноль\n"
     ]
    },
    {
     "data": {
      "text/latex": [
       "$\\alpha _{v_{0}}:=\\pi _{v_{0}}^{k_{v_{0}}}$"
      ],
      "text/plain": [
       "<IPython.core.display.Latex object>"
      ]
     },
     "metadata": {},
     "output_type": "display_data"
    },
    {
     "name": "stdout",
     "output_type": "stream",
     "text": [
      "\n",
      "эс два эм равно е два эм же равно один скобка открывается минус один скобка закрывается в степени эн минус один а эн\n"
     ]
    },
    {
     "data": {
      "text/latex": [
       "$S_{2m}=\\sum _{n=1}^{2m}(-1)^{n-1}a_{n}$"
      ],
      "text/plain": [
       "<IPython.core.display.Latex object>"
      ]
     },
     "metadata": {},
     "output_type": "display_data"
    },
    {
     "name": "stdout",
     "output_type": "stream",
     "text": [
      "\n",
      "два а эн плюс один равно е эн ка равно ноль скобка же ка скобка закрывается а кей а эн минус кей\n"
     ]
    },
    {
     "data": {
      "text/latex": [
       "$2A_{n+1}=\\sum _{k=0}^{n}{\\binom {n}{k}}A_{k}A_{n-k}$"
      ],
      "text/plain": [
       "<IPython.core.display.Latex object>"
      ]
     },
     "metadata": {},
     "output_type": "display_data"
    },
    {
     "name": "stdout",
     "output_type": "stream",
     "text": [
      "\n",
      "ноль е а ку точка\n"
     ]
    },
    {
     "data": {
      "text/latex": [
       "$0\\in \\mathbb {A} _{\\mathbb {Q} }.$"
      ],
      "text/plain": [
       "<IPython.core.display.Latex object>"
      ]
     },
     "metadata": {},
     "output_type": "display_data"
    },
    {
     "name": "stdout",
     "output_type": "stream",
     "text": [
      "\n",
      "альфа джей е а кей\n"
     ]
    },
    {
     "data": {
      "text/latex": [
       "$\\alpha _{j}\\in \\mathbb {A} _{K}$"
      ],
      "text/plain": [
       "<IPython.core.display.Latex object>"
      ]
     },
     "metadata": {},
     "output_type": "display_data"
    },
    {
     "name": "stdout",
     "output_type": "stream",
     "text": [
      "\n",
      "кью скобка открывается эр запятая тэ скобка закрывается равно эф скобка открывается икс минус цэ тэ скобка закрывается плюс джи скобка открывается икс плюс цэ тэ скобка закрывается\n"
     ]
    },
    {
     "data": {
      "text/latex": [
       "$\\delta (\\mathbf {r} ,\\,t)=f(x-ct)+g(x+ct)$"
      ],
      "text/plain": [
       "<IPython.core.display.Latex object>"
      ]
     },
     "metadata": {},
     "output_type": "display_data"
    },
    {
     "name": "stdout",
     "output_type": "stream",
     "text": [
      "\n",
      "шесть равно два умножить на три равно скобка открывается один плюс корень минус пять скобка закрывается умножить скобка открывается один минус корень минус пять скобка закрывается\n"
     ]
    },
    {
     "data": {
      "text/latex": [
       "$6=2\\cdot 3=(1+{\\sqrt {-5}})\\cdot (1-{\\sqrt {-5}})$"
      ],
      "text/plain": [
       "<IPython.core.display.Latex object>"
      ]
     },
     "metadata": {},
     "output_type": "display_data"
    },
    {
     "name": "stdout",
     "output_type": "stream",
     "text": [
      "\n",
      "а е разделить равно пи е вэ точка\n"
     ]
    },
    {
     "data": {
      "text/latex": [
       "$\\mathbb {A} _{E}:={\\prod _{v}}^{'}E_{v}.$"
      ],
      "text/plain": [
       "<IPython.core.display.Latex object>"
      ]
     },
     "metadata": {},
     "output_type": "display_data"
    },
    {
     "name": "stdout",
     "output_type": "stream",
     "text": [
      "\n",
      "джи цэ дэ скобка открывается а запятая бэ скобка закрывается равно логарифм два пи а минус один ка равно нулю скобка открывается один плюс е в степени минус два и пи ка бэ дробь а скобка закрывается\n"
     ]
    },
    {
     "data": {
      "text/latex": [
       "$\\gcd(a,b)=\\log _{2}\\prod _{k=0}^{a-1}(1+e^{-2i\\pi kb/a})$"
      ],
      "text/plain": [
       "<IPython.core.display.Latex object>"
      ]
     },
     "metadata": {},
     "output_type": "display_data"
    },
    {
     "name": "stdout",
     "output_type": "stream",
     "text": [
      "\n",
      "скобка открывается минус бетта разделить на ка скобка закрывается равно скобка открывается минус один скобка закрывается в степени ка умножить скобка открывается ка плюс бетта минус один разделить на ка скобка закрывается точка\n"
     ]
    },
    {
     "data": {
      "text/latex": [
       "${\\binom {-\\beta }{k}}=(-1)^{k}{\\binom {k+\\beta -1}{k}}.$"
      ],
      "text/plain": [
       "<IPython.core.display.Latex object>"
      ]
     },
     "metadata": {},
     "output_type": "display_data"
    },
    {
     "name": "stdout",
     "output_type": "stream",
     "text": [
      "\n",
      "о умножить эн умножить на логарифм от эн в квадрате\n"
     ]
    },
    {
     "data": {
      "text/latex": [
       "$O\\left(n\\,(\\log n)^{2}\\right).$"
      ],
      "text/plain": [
       "<IPython.core.display.Latex object>"
      ]
     },
     "metadata": {},
     "output_type": "display_data"
    },
    {
     "name": "stdout",
     "output_type": "stream",
     "text": [
      "\n",
      "е равно е от тэ икс умножить на икс равно интеграл от е в и тэ умножить на икс умножить на дэ у икс от икс\n"
     ]
    },
    {
     "data": {
      "text/latex": [
       "$E\\left(e^{it\\cdot X}\\right)=\\int e^{it\\cdot x}\\,d\\mu _{X}(x).$"
      ],
      "text/plain": [
       "<IPython.core.display.Latex object>"
      ]
     },
     "metadata": {},
     "output_type": "display_data"
    },
    {
     "name": "stdout",
     "output_type": "stream",
     "text": [
      "\n",
      "икс в степени эн плюс один разделить на эн плюс один равно интеграл от икс в степени ка плюс джи умножить на дэ икс\n"
     ]
    },
    {
     "data": {
      "text/latex": [
       "${\\frac {x^{n+1}}{n+1}}=\\int x^{k+j}\\,dx$"
      ],
      "text/plain": [
       "<IPython.core.display.Latex object>"
      ]
     },
     "metadata": {},
     "output_type": "display_data"
    },
    {
     "name": "stdout",
     "output_type": "stream",
     "text": [
      "\n",
      "эс от два эм плюс один минус эс от два эм равно а от два эм плюс один больше или равно нуля\n"
     ]
    },
    {
     "data": {
      "text/latex": [
       "$S_{2m+1}-S_{2m}=a_{2m+1}\\geq 0$"
      ],
      "text/plain": [
       "<IPython.core.display.Latex object>"
      ]
     },
     "metadata": {},
     "output_type": "display_data"
    },
    {
     "name": "stdout",
     "output_type": "stream",
     "text": [
      "\n",
      "эл от икс джи равно и от и джи ка эл умножить на омега от ка эл\n"
     ]
    },
    {
     "data": {
      "text/latex": [
       "$L_{ij}=I_{ijk\\ell }\\omega _{k\\ell }\\,.$"
      ],
      "text/plain": [
       "<IPython.core.display.Latex object>"
      ]
     },
     "metadata": {},
     "output_type": "display_data"
    },
    {
     "name": "stdout",
     "output_type": "stream",
     "text": [
      "\n",
      "эф от  зэд равно интеграл джи от си умножить на дэ от си\n"
     ]
    },
    {
     "data": {
      "text/latex": [
       "$f(z)=\\int _{\\gamma }\\!g(\\zeta )\\,d\\zeta $"
      ],
      "text/plain": [
       "<IPython.core.display.Latex object>"
      ]
     },
     "metadata": {},
     "output_type": "display_data"
    },
    {
     "name": "stdout",
     "output_type": "stream",
     "text": [
      "\n",
      "и пэ тэ эс тэ игрек эл и вэ минус два икс минус е примерно равно нулю\n"
     ]
    },
    {
     "data": {
      "text/latex": [
       "$\\scriptstyle b-2\\,x-e\\;\\sim \\;0.$"
      ],
      "text/plain": [
       "<IPython.core.display.Latex object>"
      ]
     },
     "metadata": {},
     "output_type": "display_data"
    },
    {
     "name": "stdout",
     "output_type": "stream",
     "text": [
      "\n",
      "ядро равно о в икс\n"
     ]
    },
    {
     "data": {
      "text/latex": [
       "$\\ker((\\cdot ))={\\widehat {O}}^{\\times }.$"
      ],
      "text/plain": [
       "<IPython.core.display.Latex object>"
      ]
     },
     "metadata": {},
     "output_type": "display_data"
    },
    {
     "name": "stdout",
     "output_type": "stream",
     "text": [
      "\n",
      "эф равно семьдесят две целых шесть десятых умножить на корень квадратный из дэ деленная на дэ в третье степени\n"
     ]
    },
    {
     "data": {
      "text/latex": [
       "$f=72.6{\\sqrt {\\frac {d}{D^{3}}}}$"
      ],
      "text/plain": [
       "<IPython.core.display.Latex object>"
      ]
     },
     "metadata": {},
     "output_type": "display_data"
    },
    {
     "name": "stdout",
     "output_type": "stream",
     "text": [
      "\n",
      "сумма бесконечность от минус единицы в энной умножить на а от эн\n"
     ]
    },
    {
     "data": {
      "text/latex": [
       "$\\sum _{n=1}^{\\infty }(-1)^{n}a_{n}\\!$"
      ],
      "text/plain": [
       "<IPython.core.display.Latex object>"
      ]
     },
     "metadata": {},
     "output_type": "display_data"
    },
    {
     "name": "stdout",
     "output_type": "stream",
     "text": [
      "\n",
      "вэ равно вэ от эл плюс вэ\n"
     ]
    },
    {
     "data": {
      "text/latex": [
       "$\\mathbf {v} =\\mathbf {v} _{\\|}+\\mathbf {v} _{\\perp }$"
      ],
      "text/plain": [
       "<IPython.core.display.Latex object>"
      ]
     },
     "metadata": {},
     "output_type": "display_data"
    },
    {
     "name": "stdout",
     "output_type": "stream",
     "text": [
      "\n",
      "предел е в икс стремится к минус бесконечности равно нулю\n"
     ]
    },
    {
     "data": {
      "text/latex": [
       "$\\lim _{x\\to -\\infty }e^{x}=0.\\,$"
      ],
      "text/plain": [
       "<IPython.core.display.Latex object>"
      ]
     },
     "metadata": {},
     "output_type": "display_data"
    },
    {
     "name": "stdout",
     "output_type": "stream",
     "text": [
      "\n",
      " икс от омеги равно икс эль от омеги минус икс сэ от омеги\n"
     ]
    },
    {
     "data": {
      "text/latex": [
       "$X(\\omega )=X_{L}(\\omega )-X_{C}(\\omega ),$"
      ],
      "text/plain": [
       "<IPython.core.display.Latex object>"
      ]
     },
     "metadata": {},
     "output_type": "display_data"
    },
    {
     "name": "stdout",
     "output_type": "stream",
     "text": [
      "\n",
      "предел интеграла бэ икс фэ от тэ умножить на дэ тэ стремится к минус бесконечности\n"
     ]
    },
    {
     "data": {
      "text/latex": [
       "$\\lim _{x\\to -\\infty }\\int _{x}^{b}f(t)\\;dt$"
      ],
      "text/plain": [
       "<IPython.core.display.Latex object>"
      ]
     },
     "metadata": {},
     "output_type": "display_data"
    },
    {
     "name": "stdout",
     "output_type": "stream",
     "text": [
      "\n",
      "корень квадратный из джи аб умножить у в а производная умножить у в б производная\n"
     ]
    },
    {
     "data": {
      "text/latex": [
       "${\\sqrt {g_{ab}\\left(u^{a}\\right)'\\left(u^{b}\\right)'\\,}}$"
      ],
      "text/plain": [
       "<IPython.core.display.Latex object>"
      ]
     },
     "metadata": {},
     "output_type": "display_data"
    },
    {
     "name": "stdout",
     "output_type": "stream",
     "text": [
      "\n",
      "эр умножить на вэ\n"
     ]
    },
    {
     "data": {
      "text/latex": [
       "$\\mathbf {r} \\times \\mathbf {v} $"
      ],
      "text/plain": [
       "<IPython.core.display.Latex object>"
      ]
     },
     "metadata": {},
     "output_type": "display_data"
    },
    {
     "name": "stdout",
     "output_type": "stream",
     "text": [
      "\n",
      "дельта икс равно альфа от а минус альфа от бэ умножить на косинус дельта от а\n"
     ]
    },
    {
     "data": {
      "text/latex": [
       "$\\delta x=(\\alpha _{A}-\\alpha _{B})\\cos \\delta _{A}$"
      ],
      "text/plain": [
       "<IPython.core.display.Latex object>"
      ]
     },
     "metadata": {},
     "output_type": "display_data"
    },
    {
     "name": "stdout",
     "output_type": "stream",
     "text": [
      "\n",
      "а производная от вэ относится к о икс вэ\n"
     ]
    },
    {
     "data": {
      "text/latex": [
       "$\\alpha '_{v}\\in O_{v}^{\\times }$"
      ],
      "text/plain": [
       "<IPython.core.display.Latex object>"
      ]
     },
     "metadata": {},
     "output_type": "display_data"
    },
    {
     "name": "stdout",
     "output_type": "stream",
     "text": [
      "\n",
      "множество целых чисел разделить на пэ в эм умножить на множество целых чисел\n"
     ]
    },
    {
     "data": {
      "text/latex": [
       "$\\mathbb {Z} /p^{m}\\mathbb {Z} $"
      ],
      "text/plain": [
       "<IPython.core.display.Latex object>"
      ]
     },
     "metadata": {},
     "output_type": "display_data"
    },
    {
     "name": "stdout",
     "output_type": "stream",
     "text": [
      "\n",
      "модуль бета от вэ меньше или равно модуль альфа от вэ в вэ меньше или равно дельта от вэ\n"
     ]
    },
    {
     "data": {
      "text/latex": [
       "$|\\beta |_{v}\\leq |\\alpha _{v}|_{v}\\leq \\delta _{v}$"
      ],
      "text/plain": [
       "<IPython.core.display.Latex object>"
      ]
     },
     "metadata": {},
     "output_type": "display_data"
    },
    {
     "name": "stdout",
     "output_type": "stream",
     "text": [
      "\n",
      "функция фи  эн плюс один от икс равно омикрон от фи эн от икс , икс стремится к эль\n"
     ]
    },
    {
     "data": {
      "text/latex": [
       "$\\varphi _{n+1}(x)=o(\\varphi _{n}(x))\\ (x\\to L)\\ .$"
      ],
      "text/plain": [
       "<IPython.core.display.Latex object>"
      ]
     },
     "metadata": {},
     "output_type": "display_data"
    },
    {
     "name": "stdout",
     "output_type": "stream",
     "text": [
      "\n",
      "джи эль от два а кью\n"
     ]
    },
    {
     "data": {
      "text/latex": [
       "$\\operatorname {GL} (2,\\mathbb {A} _{\\mathbb {Q} }).$"
      ],
      "text/plain": [
       "<IPython.core.display.Latex object>"
      ]
     },
     "metadata": {},
     "output_type": "display_data"
    },
    {
     "name": "stdout",
     "output_type": "stream",
     "text": [
      "\n",
      "эс равно произведение пи эр тхэта разделить на сто восемьдесят градусов\n"
     ]
    },
    {
     "data": {
      "text/latex": [
       "$s={\\frac {\\pi r\\theta }{180^{\\circ }}},$"
      ],
      "text/plain": [
       "<IPython.core.display.Latex object>"
      ]
     },
     "metadata": {},
     "output_type": "display_data"
    },
    {
     "name": "stdout",
     "output_type": "stream",
     "text": [
      "\n",
      "альфа принадлежит  множеству эль ка эс умножить на ка  в степени икс\n"
     ]
    },
    {
     "data": {
      "text/latex": [
       "$\\alpha \\in I_{K,S}K^{\\times }.$"
      ],
      "text/plain": [
       "<IPython.core.display.Latex object>"
      ]
     },
     "metadata": {},
     "output_type": "display_data"
    },
    {
     "name": "stdout",
     "output_type": "stream",
     "text": [
      "\n",
      "а эн приближенно два умножить на два делить на пи в степени эн плюс один умножить на эн факториал\n"
     ]
    },
    {
     "data": {
      "text/latex": [
       "$A_{n}\\sim 2\\left({\\frac {2}{\\pi }}\\right)^{n+1}\\cdot n!\\,.$"
      ],
      "text/plain": [
       "<IPython.core.display.Latex object>"
      ]
     },
     "metadata": {},
     "output_type": "display_data"
    },
    {
     "name": "stdout",
     "output_type": "stream",
     "text": [
      "\n",
      "функция дельта по переменной  икс равно тэ даблъю от эль от цэ лямбда от икс\n"
     ]
    },
    {
     "data": {
      "text/latex": [
       "$\\sigma (x)=T_{\\mathbf {w}}\\left(L(c,\\lambda )(x)\\right).$"
      ],
      "text/plain": [
       "<IPython.core.display.Latex object>"
      ]
     },
     "metadata": {},
     "output_type": "display_data"
    },
    {
     "name": "stdout",
     "output_type": "stream",
     "text": [
      "\n",
      "а по кью делить на кью\n"
     ]
    },
    {
     "data": {
      "text/latex": [
       "$\\mathbb {A} _{\\mathbb {Q} }/\\mathbb {Q} $"
      ],
      "text/plain": [
       "<IPython.core.display.Latex object>"
      ]
     },
     "metadata": {},
     "output_type": "display_data"
    },
    {
     "name": "stdout",
     "output_type": "stream",
     "text": [
      "\n",
      "сумма минус один в степени эн минус один умножить на а энное, где эн от одного до бесконечности  \n"
     ]
    },
    {
     "data": {
      "text/latex": [
       "$\\sum _{n=1}^{\\infty }(-1)^{n-1}a_{n}\\!$"
      ],
      "text/plain": [
       "<IPython.core.display.Latex object>"
      ]
     },
     "metadata": {},
     "output_type": "display_data"
    },
    {
     "name": "stdout",
     "output_type": "stream",
     "text": [
      "\n",
      "игрек равно числитель один минус тэ в квадрате знаменатель один плюс тэ в квадрате\n"
     ]
    },
    {
     "data": {
      "text/latex": [
       "$y={\\frac {1-t^{2}}{1+t^{2}}}\\,,$"
      ],
      "text/plain": [
       "<IPython.core.display.Latex object>"
      ]
     },
     "metadata": {},
     "output_type": "display_data"
    },
    {
     "name": "stdout",
     "output_type": "stream",
     "text": [
      "\n",
      "эпсилон а рано модуль икс минус вектор икс\n"
     ]
    },
    {
     "data": {
      "text/latex": [
       "$\\varepsilon _{\\rm {a}}=|x-{\\bar {x}}|$"
      ],
      "text/plain": [
       "<IPython.core.display.Latex object>"
      ]
     },
     "metadata": {},
     "output_type": "display_data"
    },
    {
     "name": "stdout",
     "output_type": "stream",
     "text": [
      "\n",
      "йота порядка ка равно альфа прямое произведение порядка ка точка\n"
     ]
    },
    {
     "data": {
      "text/latex": [
       "$I_{K}\\ =\\ \\mathbf {A} _{K}^{\\times }.$"
      ],
      "text/plain": [
       "<IPython.core.display.Latex object>"
      ]
     },
     "metadata": {},
     "output_type": "display_data"
    },
    {
     "name": "stdout",
     "output_type": "stream",
     "text": [
      "\n",
      "ню порядка ка равно квадратная скобка джи порядка один скобка открывается зет порядка ка запятая один скобка закрывается запятая джи порядка два скобка открывается зет порядка ка запятая два скобка закрывается запятая многоточие запятая джи порядка бета скобка открывается зет порядка ка запятая бета скобка закрывается квадратная скобка закрывается\n"
     ]
    },
    {
     "data": {
      "text/latex": [
       "$v_{k}=[g_{1}(Z_{k,1}),g_{2}(Z_{k,2}),\\ldots ,g_{B}(Z_{k,B})]$"
      ],
      "text/plain": [
       "<IPython.core.display.Latex object>"
      ]
     },
     "metadata": {},
     "output_type": "display_data"
    },
    {
     "name": "stdout",
     "output_type": "stream",
     "text": [
      "\n",
      "предел  икс  следует си дроби функция скобка открывается икс скобка закрывается на гамма скобка открывается икс скобка закрывается\n"
     ]
    },
    {
     "data": {
      "text/latex": [
       "$\\lim _{x\\to c}{\\frac {f'(x)}{g'(x)}}$"
      ],
      "text/plain": [
       "<IPython.core.display.Latex object>"
      ]
     },
     "metadata": {},
     "output_type": "display_data"
    },
    {
     "name": "stdout",
     "output_type": "stream",
     "text": [
      "\n",
      "омикрон предела ка отображает карра\n"
     ]
    },
    {
     "data": {
      "text/latex": [
       "${\\mathcal {O}}_{K}\\hookrightarrow K$"
      ],
      "text/plain": [
       "<IPython.core.display.Latex object>"
      ]
     },
     "metadata": {},
     "output_type": "display_data"
    },
    {
     "name": "stdout",
     "output_type": "stream",
     "text": [
      "\n",
      "предел икс следует ноль дроби ев степени икс минус один на икс равно один\n"
     ]
    },
    {
     "data": {
      "text/latex": [
       "$\\lim _{x\\to 0}{\\frac {e^{x}-1}{x}}=1$"
      ],
      "text/plain": [
       "<IPython.core.display.Latex object>"
      ]
     },
     "metadata": {},
     "output_type": "display_data"
    },
    {
     "name": "stdout",
     "output_type": "stream",
     "text": [
      "\n",
      "скобка открывается альфа предела а запятая альфа предела бе скобка закрывается принадлежит квадратная скобка открывается ноль запятая два пи квадратная скобка закрывается\n"
     ]
    },
    {
     "data": {
      "text/latex": [
       "$(\\alpha _{A},\\alpha _{B})\\in [0,2\\pi ]$"
      ],
      "text/plain": [
       "<IPython.core.display.Latex object>"
      ]
     },
     "metadata": {},
     "output_type": "display_data"
    },
    {
     "name": "stdout",
     "output_type": "stream",
     "text": [
      "\n",
      "омикрон равно дробь ка на два пи умножить  дробь эс на эр точка\n"
     ]
    },
    {
     "data": {
      "text/latex": [
       "$\\theta ={\\frac {k}{2\\pi }}\\cdot {\\frac {s}{r}}.$"
      ],
      "text/plain": [
       "<IPython.core.display.Latex object>"
      ]
     },
     "metadata": {},
     "output_type": "display_data"
    },
    {
     "name": "stdout",
     "output_type": "stream",
     "text": [
      "\n",
      "множество е предела ка разделить тэ следует джи эль порядка один скобка открывается си скобка закрывается равно си в степени звездочка верно ка принадлежит зет множество окончено\n"
     ]
    },
    {
     "data": {
      "text/latex": [
       "$\\{e_{k}:T\\rightarrow GL_{1}(C)=C^{*}\\mid k\\in Z\\}$"
      ],
      "text/plain": [
       "<IPython.core.display.Latex object>"
      ]
     },
     "metadata": {},
     "output_type": "display_data"
    },
    {
     "name": "stdout",
     "output_type": "stream",
     "text": [
      "\n",
      "скобка открывается икс скобка закрывается в степени скобка открывается эн скобка закрывается равно скобка открывается икс скобка закрывается скобка открывается икс плюс один скобка закрывается многоточие скобка открывается икс плюс эн минус один скобка закрывается \n"
     ]
    },
    {
     "data": {
      "text/latex": [
       "$(x)^{(n)}=(x)(x+1)\\cdots (x+n-1)$"
      ],
      "text/plain": [
       "<IPython.core.display.Latex object>"
      ]
     },
     "metadata": {},
     "output_type": "display_data"
    },
    {
     "name": "stdout",
     "output_type": "stream",
     "text": [
      "\n",
      "альфа предела ка включено в альфа предела эль\n"
     ]
    },
    {
     "data": {
      "text/latex": [
       "$\\mathbb {A} _{K}\\subset \\mathbb {A} _{L}$"
      ],
      "text/plain": [
       "<IPython.core.display.Latex object>"
      ]
     },
     "metadata": {},
     "output_type": "display_data"
    },
    {
     "name": "stdout",
     "output_type": "stream",
     "text": [
      "\n",
      "действительная часть альфы меньше или равно минус единице\n"
     ]
    },
    {
     "data": {
      "text/latex": [
       "$\\operatorname {Re} \\alpha \\leq -1$"
      ],
      "text/plain": [
       "<IPython.core.display.Latex object>"
      ]
     },
     "metadata": {},
     "output_type": "display_data"
    },
    {
     "name": "stdout",
     "output_type": "stream",
     "text": [
      "\n",
      "в скобках а умножить на бэ умножить на цэ равно а умножить на произведение бэ и цэ\n"
     ]
    },
    {
     "data": {
      "text/latex": [
       "$(a\\cdot b)\\cdot c=a\\cdot (b\\cdot c)$"
      ],
      "text/plain": [
       "<IPython.core.display.Latex object>"
      ]
     },
     "metadata": {},
     "output_type": "display_data"
    },
    {
     "name": "stdout",
     "output_type": "stream",
     "text": [
      "\n",
      "среднее арифметическое ноль один один равно одна треть\n"
     ]
    },
    {
     "data": {
      "text/latex": [
       "${\\overline {01}}1={\\frac {1}{3}}$"
      ],
      "text/plain": [
       "<IPython.core.display.Latex object>"
      ]
     },
     "metadata": {},
     "output_type": "display_data"
    },
    {
     "name": "stdout",
     "output_type": "stream",
     "text": [
      "\n",
      "а производная от вэ равно а от вэ принадлежит ка от вэ относится к эл от вэ\n"
     ]
    },
    {
     "data": {
      "text/latex": [
       "$a'_{w}=a_{v}\\in K_{v}\\subset L_{w}$"
      ],
      "text/plain": [
       "<IPython.core.display.Latex object>"
      ]
     },
     "metadata": {},
     "output_type": "display_data"
    },
    {
     "name": "stdout",
     "output_type": "stream",
     "text": [
      "\n",
      "множество ка от пэ приблизительно равно ка от вэ умножить на производную множества ка от пэ вэ\n"
     ]
    },
    {
     "data": {
      "text/latex": [
       "$\\mathbb {A} _{K}(P)\\cong K_{v}\\times \\mathbb {A} _{K}'(P,v).$"
      ],
      "text/plain": [
       "<IPython.core.display.Latex object>"
      ]
     },
     "metadata": {},
     "output_type": "display_data"
    },
    {
     "name": "stdout",
     "output_type": "stream",
     "text": [
      "\n",
      "джи степень эф в минус первой равно фэ в минус первой степень джи в минус первой\n"
     ]
    },
    {
     "data": {
      "text/latex": [
       "$(g\\,\\circ \\,f)^{-1}\\;=\\;(f^{-1})\\,\\circ \\,(g^{-1})$"
      ],
      "text/plain": [
       "<IPython.core.display.Latex object>"
      ]
     },
     "metadata": {},
     "output_type": "display_data"
    },
    {
     "name": "stdout",
     "output_type": "stream",
     "text": [
      "\n",
      "а равно а от вэ в вэ принадлежит множеству а от кэ\n"
     ]
    },
    {
     "data": {
      "text/latex": [
       "$a=(a_{v})_{v}\\in \\mathbb {A} _{K}$"
      ],
      "text/plain": [
       "<IPython.core.display.Latex object>"
      ]
     },
     "metadata": {},
     "output_type": "display_data"
    },
    {
     "name": "stdout",
     "output_type": "stream",
     "text": [
      "\n",
      "эйдж равно эн среднее арифметическое у игрек минус н у среднее арифметическое игрек \n"
     ]
    },
    {
     "data": {
      "text/latex": [
       "$H=n{\\overline {u}}y-nu{\\overline {y}}$"
      ],
      "text/plain": [
       "<IPython.core.display.Latex object>"
      ]
     },
     "metadata": {},
     "output_type": "display_data"
    },
    {
     "name": "stdout",
     "output_type": "stream",
     "text": [
      "\n",
      "производная по времени е от и равно дэ е от и разделить на дэтэ\n"
     ]
    },
    {
     "data": {
      "text/latex": [
       "${\\dot {\\mathbf {e} }}_{i}={\\frac {d\\mathbf {e} _{i}}{dt}}$"
      ],
      "text/plain": [
       "<IPython.core.display.Latex object>"
      ]
     },
     "metadata": {},
     "output_type": "display_data"
    },
    {
     "name": "stdout",
     "output_type": "stream",
     "text": [
      "\n",
      "эпсилон от эр умножить на сто процентов\n"
     ]
    },
    {
     "data": {
      "text/latex": [
       "$\\varepsilon _{\\rm {r}}\\times 100\\%$"
      ],
      "text/plain": [
       "<IPython.core.display.Latex object>"
      ]
     },
     "metadata": {},
     "output_type": "display_data"
    },
    {
     "name": "stdout",
     "output_type": "stream",
     "text": [
      "\n",
      "ай меньше либо равно дегрии скобка эф альфа скобка\n"
     ]
    },
    {
     "data": {
      "text/latex": [
       "$i\\leq {\\rm {degree}}(f_{\\lambda })$"
      ],
      "text/plain": [
       "<IPython.core.display.Latex object>"
      ]
     },
     "metadata": {},
     "output_type": "display_data"
    },
    {
     "name": "stdout",
     "output_type": "stream",
     "text": [
      "\n",
      "бэ плюс цэ плюс бесконечность плюс зет плюс зет дробь три равно одна третья эй\n"
     ]
    },
    {
     "data": {
      "text/latex": [
       "$B+C+\\cdots +Z+{\\frac {Z}{3}}={\\frac {1}{3}}A$"
      ],
      "text/plain": [
       "<IPython.core.display.Latex object>"
      ]
     },
     "metadata": {},
     "output_type": "display_data"
    },
    {
     "name": "stdout",
     "output_type": "stream",
     "text": [
      "\n",
      "эф скобка игрек плюс икс икс плюс игрек скобка равно эф скобка икс икс скобка плюс эф скобка икс игрек скобка плюс скобка игрек икс скобка плюс эф скобка игрек игрек скобка равно эф скобка икс игрек скобка плюс эф скобка игрек икс скобка равно нулю\n"
     ]
    },
    {
     "data": {
      "text/latex": [
       "$f(x+y,x+y)=f(x,x)+f(x,y)+f(y,x)+f(y,y)=f(x,y)+f(y,x)=0$"
      ],
      "text/plain": [
       "<IPython.core.display.Latex object>"
      ]
     },
     "metadata": {},
     "output_type": "display_data"
    },
    {
     "name": "stdout",
     "output_type": "stream",
     "text": [
      "\n",
      "вэ скобка альфа скобка меньше либо равно единице следует ви скобка один плюс альфа скобка меньше либо равно единице\n"
     ]
    },
    {
     "data": {
      "text/latex": [
       "$v(a)\\leq 1\\Rightarrow v(1+a)\\leq 1\\ $"
      ],
      "text/plain": [
       "<IPython.core.display.Latex object>"
      ]
     },
     "metadata": {},
     "output_type": "display_data"
    },
    {
     "name": "stdout",
     "output_type": "stream",
     "text": [
      "\n",
      "дробь кью дробь кью период\n"
     ]
    },
    {
     "data": {
      "text/latex": [
       "$I_{\\mathbb {Q} }/\\mathbb {Q} ^{\\times }.$"
      ],
      "text/plain": [
       "<IPython.core.display.Latex object>"
      ]
     },
     "metadata": {},
     "output_type": "display_data"
    },
    {
     "name": "stdout",
     "output_type": "stream",
     "text": [
      "\n",
      "эм в нульвой степени меньше либо равно ка меньше либо равно эн скобка эн кей скобка равно два эн\n"
     ]
    },
    {
     "data": {
      "text/latex": [
       "$m _{0\\leq {k}\\leq {n}}{\\binom {n}{k}}=2^{n}$"
      ],
      "text/plain": [
       "<IPython.core.display.Latex object>"
      ]
     },
     "metadata": {},
     "output_type": "display_data"
    },
    {
     "name": "stdout",
     "output_type": "stream",
     "text": [
      "\n",
      "эл равно эрэмви ю\n"
     ]
    },
    {
     "data": {
      "text/latex": [
       "$\\mathbf {L} =rmv\\mathbf {\\hat {u}} $"
      ],
      "text/plain": [
       "<IPython.core.display.Latex object>"
      ]
     },
     "metadata": {},
     "output_type": "display_data"
    },
    {
     "name": "stdout",
     "output_type": "stream",
     "text": [
      "\n",
      "е бесконечность альфа е бесконечность\n"
     ]
    },
    {
     "data": {
      "text/latex": [
       "$e^{\\star }\\in \\mathbb {A} _{E}^{\\star }.$"
      ],
      "text/plain": [
       "<IPython.core.display.Latex object>"
      ]
     },
     "metadata": {},
     "output_type": "display_data"
    },
    {
     "name": "stdout",
     "output_type": "stream",
     "text": [
      "\n",
      "дельта бесконечность кью эл\n"
     ]
    },
    {
     "data": {
      "text/latex": [
       "${\\mathfrak {o}}\\subset {\\mathcal {O}}_{L}$"
      ],
      "text/plain": [
       "<IPython.core.display.Latex object>"
      ]
     },
     "metadata": {},
     "output_type": "display_data"
    },
    {
     "name": "stdout",
     "output_type": "stream",
     "text": [
      "\n",
      "функция ка переходит функция эл\n"
     ]
    },
    {
     "data": {
      "text/latex": [
       "${\\mathcal {O}}_{K}\\hookrightarrow {\\mathcal {O}}_{L}$"
      ],
      "text/plain": [
       "<IPython.core.display.Latex object>"
      ]
     },
     "metadata": {},
     "output_type": "display_data"
    },
    {
     "name": "stdout",
     "output_type": "stream",
     "text": [
      "\n",
      "набор положительных чисел от нуля  тождественно равен от нуля до плюс бесконечности\n"
     ]
    },
    {
     "data": {
      "text/latex": [
       "$\\mathbb {R} _{0}^{+}\\equiv \\left[0,\\infty \\right)$"
      ],
      "text/plain": [
       "<IPython.core.display.Latex object>"
      ]
     },
     "metadata": {},
     "output_type": "display_data"
    },
    {
     "name": "stdout",
     "output_type": "stream",
     "text": [
      "\n",
      "си в квадрате игрек от множества си эф равно эф в квадрате игрек от множества си эф\n"
     ]
    },
    {
     "data": {
      "text/latex": [
       "$\\xi ^{2}{\\hat {y}}(\\xi ,f)=f^{2}{\\hat {y}}(\\xi ,f).$"
      ],
      "text/plain": [
       "<IPython.core.display.Latex object>"
      ]
     },
     "metadata": {},
     "output_type": "display_data"
    },
    {
     "name": "stdout",
     "output_type": "stream",
     "text": [
      "\n",
      "зэд равно зэд\n"
     ]
    },
    {
     "data": {
      "text/latex": [
       "$\\mathbb {Z} \\subset {\\widehat {\\mathbb {Z} }}$"
      ],
      "text/plain": [
       "<IPython.core.display.Latex object>"
      ]
     },
     "metadata": {},
     "output_type": "display_data"
    },
    {
     "name": "stdout",
     "output_type": "stream",
     "text": [
      "\n",
      "множество ка равно произведения ка от вэ\n"
     ]
    },
    {
     "data": {
      "text/latex": [
       "$\\mathbb {A} _{K}={\\prod _{v}}^{'}K_{v},$"
      ],
      "text/plain": [
       "<IPython.core.display.Latex object>"
      ]
     },
     "metadata": {},
     "output_type": "display_data"
    },
    {
     "name": "stdout",
     "output_type": "stream",
     "text": [
      "\n",
      "зэд от четырех эксклюзивное зэд от двух\n"
     ]
    },
    {
     "data": {
      "text/latex": [
       "$\\mathbb {Z} _{4}\\oplus \\mathbb {Z} _{2}$"
      ],
      "text/plain": [
       "<IPython.core.display.Latex object>"
      ]
     },
     "metadata": {},
     "output_type": "display_data"
    },
    {
     "name": "stdout",
     "output_type": "stream",
     "text": [
      "\n",
      "модуль эф меньше или равно модуль эф умножить на единицу\n"
     ]
    },
    {
     "data": {
      "text/latex": [
       "$\\left\\|{\\hat {f}}\\right\\|_{\\infty }\\leq \\left\\|f\\right\\|_{1}$"
      ],
      "text/plain": [
       "<IPython.core.display.Latex object>"
      ]
     },
     "metadata": {},
     "output_type": "display_data"
    },
    {
     "name": "stdout",
     "output_type": "stream",
     "text": [
      "\n",
      "минус и эйдж  сигма деленная на сигма икс\n"
     ]
    },
    {
     "data": {
      "text/latex": [
       "$-i\\hbar {\\frac {\\partial }{\\partial x}}$"
      ],
      "text/plain": [
       "<IPython.core.display.Latex object>"
      ]
     },
     "metadata": {},
     "output_type": "display_data"
    },
    {
     "name": "stdout",
     "output_type": "stream",
     "text": [
      "\n",
      "фэ равно фэ функциональная композиция от пси\n"
     ]
    },
    {
     "data": {
      "text/latex": [
       "$\\Phi ={\\tilde {\\Phi }}\\circ \\Psi $"
      ],
      "text/plain": [
       "<IPython.core.display.Latex object>"
      ]
     },
     "metadata": {},
     "output_type": "display_data"
    },
    {
     "name": "stdout",
     "output_type": "stream",
     "text": [
      "\n",
      "икс принадлежит ка в степни икс разделить на вэ от икс равно минус логарифм от модуля икс по цэ\n"
     ]
    },
    {
     "data": {
      "text/latex": [
       "$\\forall x\\in K^{\\times }:\\quad v_{|\\cdot |}(x):=-\\log _{C}(|x|).$"
      ],
      "text/plain": [
       "<IPython.core.display.Latex object>"
      ]
     },
     "metadata": {},
     "output_type": "display_data"
    },
    {
     "name": "stdout",
     "output_type": "stream",
     "text": [
      "\n",
      "икс от тэ равно сумма минус единица в степени эн плюс один умножить на эн минус один факториал деленная на тэ в энной\n"
     ]
    },
    {
     "data": {
      "text/latex": [
       "$x(t)=\\sum _{n=1}^{\\infty }(-1)^{n+1}{\\frac {(n-1)!}{t^{n}}}$"
      ],
      "text/plain": [
       "<IPython.core.display.Latex object>"
      ]
     },
     "metadata": {},
     "output_type": "display_data"
    },
    {
     "name": "stdout",
     "output_type": "stream",
     "text": [
      "\n",
      "произведение дэ на икс игрек меньше или равно максимальном произведению дэ икс и зет на дэ игрек зет\n"
     ]
    },
    {
     "data": {
      "text/latex": [
       "$d(x,y)\\leq \\max(d(x,z),d(y,z))$"
      ],
      "text/plain": [
       "<IPython.core.display.Latex object>"
      ]
     },
     "metadata": {},
     "output_type": "display_data"
    },
    {
     "name": "stdout",
     "output_type": "stream",
     "text": [
      "\n",
      "дэ ка равно дроби дк на два пи в третьей степени на два ви\n"
     ]
    },
    {
     "data": {
      "text/latex": [
       "${\\tilde {dk}}={\\frac {dk}{(2\\pi )^{3}2\\omega }}$"
      ],
      "text/plain": [
       "<IPython.core.display.Latex object>"
      ]
     },
     "metadata": {},
     "output_type": "display_data"
    },
    {
     "name": "stdout",
     "output_type": "stream",
     "text": [
      "\n",
      "спан у\n"
     ]
    },
    {
     "data": {
      "text/latex": [
       "$\\operatorname {span} (\\mathbf {u} )$"
      ],
      "text/plain": [
       "<IPython.core.display.Latex object>"
      ]
     },
     "metadata": {},
     "output_type": "display_data"
    },
    {
     "name": "stdout",
     "output_type": "stream",
     "text": [
      "\n",
      "альфа равна альфа и на а\n"
     ]
    },
    {
     "data": {
      "text/latex": [
       "$(\\alpha )={\\mathfrak {a}}_{i}(a)$"
      ],
      "text/plain": [
       "<IPython.core.display.Latex object>"
      ]
     },
     "metadata": {},
     "output_type": "display_data"
    },
    {
     "name": "stdout",
     "output_type": "stream",
     "text": [
      "\n",
      "альфа равна дроби перпендикуляра а на эр\n"
     ]
    },
    {
     "data": {
      "text/latex": [
       "$\\alpha ={\\frac {a_{\\perp }}{r}}.$"
      ],
      "text/plain": [
       "<IPython.core.display.Latex object>"
      ]
     },
     "metadata": {},
     "output_type": "display_data"
    },
    {
     "name": "stdout",
     "output_type": "stream",
     "text": [
      "\n",
      "произведение ку ай пи в пи равен би пи пи один\n"
     ]
    },
    {
     "data": {
      "text/latex": [
       "$((a_{p})_{p},1)q=((b_{p})_{p},1).$"
      ],
      "text/plain": [
       "<IPython.core.display.Latex object>"
      ]
     },
     "metadata": {},
     "output_type": "display_data"
    },
    {
     "name": "stdout",
     "output_type": "stream",
     "text": [
      "\n",
      "бетта эр тэ равна бетта икс тэ\n"
     ]
    },
    {
     "data": {
      "text/latex": [
       "$\\delta (\\mathbf {r} ,\\,t)=\\delta (x,\\,t)$"
      ],
      "text/plain": [
       "<IPython.core.display.Latex object>"
      ]
     },
     "metadata": {},
     "output_type": "display_data"
    },
    {
     "name": "stdout",
     "output_type": "stream",
     "text": [
      "\n",
      "эф равен ви на лямда и равен эн вэ разделить на 2 эль\n"
     ]
    },
    {
     "data": {
      "text/latex": [
       "$f={\\frac {v}{\\lambda }}={\\frac {nv}{2L}}.$"
      ],
      "text/plain": [
       "<IPython.core.display.Latex object>"
      ]
     },
     "metadata": {},
     "output_type": "display_data"
    },
    {
     "name": "stdout",
     "output_type": "stream",
     "text": [
      "\n",
      "а в е стремиться к а в ка\n"
     ]
    },
    {
     "data": {
      "text/latex": [
       "$\\mathbb {A} _{E}\\to \\mathbb {A} _{K}.$"
      ],
      "text/plain": [
       "<IPython.core.display.Latex object>"
      ]
     },
     "metadata": {},
     "output_type": "display_data"
    },
    {
     "name": "stdout",
     "output_type": "stream",
     "text": [
      "\n",
      "множество эф на икс и на дэ икс равно эф на бэ минус эв на а\n"
     ]
    },
    {
     "data": {
      "text/latex": [
       "$\\int _{a}^{b}f(x)\\,\\mathrm {d} x=F(b)-F(a).$"
      ],
      "text/plain": [
       "<IPython.core.display.Latex object>"
      ]
     },
     "metadata": {},
     "output_type": "display_data"
    },
    {
     "name": "stdout",
     "output_type": "stream",
     "text": [
      "\n"
     ]
    }
   ],
   "source": [
    "# https://toloka.yandex.ru/en/requester/worker/d98b33d75488c7985bd72b2efb4a09c2\n",
    "\n",
    "#def print_expressions(expr_set):\n",
    "#    for eq in list(expr_set):\n",
    "#      display(Latex(f'${eq}$'))  \n",
    "\n",
    "from IPython.display import display, Latex\n",
    "\n",
    "for index, row in merged.iterrows():\n",
    "    print(row['OUTPUT:result'])\n",
    "    eq = row['latex']\n",
    "    display(Latex(f'${eq}$'))\n",
    "    print('')"
   ]
  },
  {
   "cell_type": "code",
   "execution_count": 24,
   "id": "5035e414-00dc-417f-8c11-a1860688044a",
   "metadata": {
    "execution": {
     "iopub.execute_input": "2022-06-20T21:43:22.400404Z",
     "iopub.status.busy": "2022-06-20T21:43:22.400176Z",
     "iopub.status.idle": "2022-06-20T21:43:22.440883Z",
     "shell.execute_reply": "2022-06-20T21:43:22.440262Z",
     "shell.execute_reply.started": "2022-06-20T21:43:22.400382Z"
    }
   },
   "outputs": [],
   "source": [
    "merged.to_csv('dataset.csv')"
   ]
  },
  {
   "cell_type": "code",
   "execution_count": null,
   "id": "32860a6c-01d8-4dac-a002-cf095f353b5d",
   "metadata": {},
   "outputs": [],
   "source": [
    "# CHECKING\n",
    "#df = df[['INPUT:id', 'OUTPUT:result', 'ASSIGNMENT:assignment_id', 'ASSIGNMENT:started', 'ASSIGNMENT:submitted']]\n",
    "#df['Time'] = df['ASSIGNMENT:submitted']-df['ASSIGNMENT:started']\n",
    "\n",
    "#df['ASSIGNMENT:started'] = pd.to_datetime(df['ASSIGNMENT:started'])\n",
    "#df['ASSIGNMENT:submitted'] = pd.to_datetime(df['ASSIGNMENT:submitted'])\n",
    "#df['Time'] = df['ASSIGNMENT:submitted'] - df['ASSIGNMENT:started']\n",
    "##df['Time'] = df['Time'].total_seconds()\n",
    "#df_d = df.drop(['ASSIGNMENT:started', 'ASSIGNMENT:submitted'],axis=1)\n",
    "#df_d['Time'] = df_d['Time'].dt.total_seconds() / 60\n",
    "#df_d['Time'] = df_d['Time'].round(0)\n",
    "#df_d.head()\n",
    "\n",
    "#import numpy as np\n",
    "#import math\n",
    "#\n",
    "#def checknan(row):\n",
    "#    if type(row['OUTPUT:result']) != str and math.isnan(row['OUTPUT:result']): return 0\n",
    "#    else: return -1\n",
    "#\n",
    "#merged['verdict'] = merged.apply(lambda row : checknan(row), axis=1)\n",
    "#merged[merged['verdict'] == -1]\n",
    "#merged.loc[(merged['Time'] < 6) & (merged['verdict'] == -1),'verdict'] = 0\n",
    "##['verdict'] = 0\n",
    "#merged[merged['verdict'] == -1][:50]"
   ]
  }
 ],
 "metadata": {
  "kernelspec": {
   "display_name": "Python 3 (ipykernel)",
   "language": "python",
   "name": "python3"
  },
  "language_info": {
   "codemirror_mode": {
    "name": "ipython",
    "version": 3
   },
   "file_extension": ".py",
   "mimetype": "text/x-python",
   "name": "python",
   "nbconvert_exporter": "python",
   "pygments_lexer": "ipython3",
   "version": "3.8.10"
  }
 },
 "nbformat": 4,
 "nbformat_minor": 5
}
