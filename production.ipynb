{
 "cells": [
  {
   "cell_type": "code",
   "execution_count": 1,
   "id": "e58d41f0-e0e8-4cdb-a55a-894ac3cb2900",
   "metadata": {
    "execution": {
     "iopub.execute_input": "2022-06-27T03:58:22.426906Z",
     "iopub.status.busy": "2022-06-27T03:58:22.425765Z",
     "iopub.status.idle": "2022-06-27T03:58:36.060655Z",
     "shell.execute_reply": "2022-06-27T03:58:36.059346Z",
     "shell.execute_reply.started": "2022-06-27T03:58:22.426775Z"
    }
   },
   "outputs": [
    {
     "name": "stdout",
     "output_type": "stream",
     "text": [
      "\u001b[33mWARNING: The directory '/home/jovyan/.cache/pip' or its parent directory is not owned or is not writable by the current user. The cache has been disabled. Check the permissions and owner of that directory. If executing pip with sudo, you should use sudo's -H flag.\u001b[0m\u001b[33m\n",
      "\u001b[0mCollecting num2words\n",
      "  Downloading num2words-0.5.10-py3-none-any.whl (101 kB)\n",
      "\u001b[2K     \u001b[90m━━━━━━━━━━━━━━━━━━━━━━━━━━━━━━━━━━━━━━\u001b[0m \u001b[32m101.6/101.6 KB\u001b[0m \u001b[31m30.4 MB/s\u001b[0m eta \u001b[36m0:00:00\u001b[0m\n",
      "\u001b[?25hCollecting docopt>=0.6.2\n",
      "  Downloading docopt-0.6.2.tar.gz (25 kB)\n",
      "  Preparing metadata (setup.py) ... \u001b[?25ldone\n",
      "\u001b[?25hBuilding wheels for collected packages: docopt\n",
      "  Building wheel for docopt (setup.py) ... \u001b[?25ldone\n",
      "\u001b[?25h  Created wheel for docopt: filename=docopt-0.6.2-py2.py3-none-any.whl size=13723 sha256=e25899965d6b51302ba2f2e6cef80034d6e767837e8f2836d584ad37e331c11a\n",
      "  Stored in directory: /tmp/pip-ephem-wheel-cache-fhnor03l/wheels/70/4a/46/1309fc853b8d395e60bafaf1b6df7845bdd82c95fd59dd8d2b\n",
      "Successfully built docopt\n",
      "Installing collected packages: docopt, num2words\n",
      "Successfully installed docopt-0.6.2 num2words-0.5.10\n",
      "\u001b[33mWARNING: Running pip as the 'root' user can result in broken permissions and conflicting behaviour with the system package manager. It is recommended to use a virtual environment instead: https://pip.pypa.io/warnings/venv\u001b[0m\u001b[33m\n",
      "\u001b[0m"
     ]
    }
   ],
   "source": [
    "!pip install num2words"
   ]
  },
  {
   "cell_type": "code",
   "execution_count": 2,
   "id": "32aff951-d942-40e0-bd1c-ea13658ffbc7",
   "metadata": {
    "execution": {
     "iopub.execute_input": "2022-06-27T03:58:36.062708Z",
     "iopub.status.busy": "2022-06-27T03:58:36.062480Z",
     "iopub.status.idle": "2022-06-27T03:58:36.264863Z",
     "shell.execute_reply": "2022-06-27T03:58:36.263064Z",
     "shell.execute_reply.started": "2022-06-27T03:58:36.062678Z"
    }
   },
   "outputs": [
    {
     "name": "stderr",
     "output_type": "stream",
     "text": [
      "/tmp/ipykernel_26/660108839.py:1: TqdmExperimentalWarning: Using `tqdm.autonotebook.tqdm` in notebook mode. Use `tqdm.tqdm` instead to force console mode (e.g. in jupyter console)\n",
      "  from tqdm.autonotebook import tqdm\n"
     ]
    }
   ],
   "source": [
    "from tqdm.autonotebook import tqdm\n",
    "from num2words import num2words\n",
    "import copy\n",
    "import itertools\n"
   ]
  },
  {
   "cell_type": "code",
   "execution_count": 3,
   "id": "14818e91-c70a-4ab1-8d10-9c7b8727f439",
   "metadata": {
    "execution": {
     "iopub.execute_input": "2022-06-27T03:58:36.268554Z",
     "iopub.status.busy": "2022-06-27T03:58:36.267687Z",
     "iopub.status.idle": "2022-06-27T03:58:36.352675Z",
     "shell.execute_reply": "2022-06-27T03:58:36.350874Z",
     "shell.execute_reply.started": "2022-06-27T03:58:36.268487Z"
    }
   },
   "outputs": [],
   "source": [
    "class Word:\n",
    "    def __init__(self, word, word_type):\n",
    "        self.value = word # or node\n",
    "        self.word_type = word_type\n",
    "        \n",
    "class Template:\n",
    "    def __init__(self, rus, latex):\n",
    "        rus = TemplateLang(rus)\n",
    "        latex = TemplateLang(latex)\n",
    "        \n",
    "        self.langs = [rus, latex]\n",
    "        \n",
    "    def get_langs(self): return self.langs\n",
    "\n",
    "    def get_vars_count(self):\n",
    "        return self.langs[0].vars_count()\n",
    "    \n",
    "    def __repr__(self):\n",
    "        return self.langs[0].get_words()[0].value + self.langs[0].get_words()[1].value + self.langs[0].get_words()[2].value\n",
    "\n",
    "class TemplateLang:\n",
    "    def __init__(self, pattern):\n",
    "        self.nodes = []\n",
    "        self.vars = 0\n",
    "        self.prepare_pattern(pattern)\n",
    "    \n",
    "    def prepare_pattern(self, pattern):\n",
    "        save_var = False\n",
    "        for char in pattern:\n",
    "            if char == '*':\n",
    "                self.vars += 1\n",
    "                save_var = True\n",
    "            elif save_var:\n",
    "                self.add_word(Word(int(char), 'var'))\n",
    "                save_var = False\n",
    "            else:\n",
    "                self.add_word(Word(char, 'word'))\n",
    "    \n",
    "    def vars_count(self):\n",
    "        return self.vars\n",
    "    \n",
    "    def add_word(self, node):\n",
    "        self.nodes += [node]\n",
    "        \n",
    "    def get_words(self):\n",
    "        return self.nodes\n",
    "\n",
    "class Node:\n",
    "    def __init__(self, template1, template2):\n",
    "        self.template = Template(template1, template2)\n",
    "        self.childs = []\n",
    "        #self.parent = None\n",
    "        \n",
    "    def add_child(self, child):\n",
    "        self.childs += [child]\n",
    "        #child.parent = self\n",
    "    \n",
    "    #def add_child_str(self, child):\n",
    "    #    self.childs_str += [child]\n",
    "    \n",
    "    #def find_source(self):\n",
    "    #    node = self\n",
    "    #    while(node.parent != None):\n",
    "    #        node = node.parent\n",
    "    #    return node\n",
    "    \n",
    "    def get_count_of_childs(self):\n",
    "        return self.template.get_vars_count()\n",
    "    \n",
    "    def get_str(self, args):\n",
    "        rus,latex = self.template.get_langs()\n",
    "        rus = rus.get_words()\n",
    "        latex = latex.get_words()\n",
    "        \n",
    "        self.childs_str = args\n",
    "        #print(self.childs_str)\n",
    "        \n",
    "        rus_new = str()\n",
    "        child_num = 0\n",
    "        keys = {}\n",
    "        for word in rus:\n",
    "            if word.word_type == 'var':\n",
    "                if self.childs_str == []:\n",
    "                    rus_new += '#'\n",
    "                else:\n",
    "                    child = self.childs_str[child_num]\n",
    "                    child_num += 1\n",
    "                    \n",
    "                    keys[word.value] = child\n",
    "                    #print(child[0])\n",
    "                    string = child[0][0]\n",
    "                    if len(string.split(' '))>1 and child_num<len(args): rus_new += 'скобка открывается '\n",
    "                    # add more complex exceptions when you shouldnt place bracket\n",
    "                    rus_new += string\n",
    "                    if len(string.split(' '))>1 and child_num<len(args): rus_new += ' скобка закрывается'\n",
    "            else:\n",
    "                rus_new += word.value\n",
    "        \n",
    "        latex_new = str()\n",
    "        child_num = 0\n",
    "        for word in latex:\n",
    "            if word.word_type == 'var':\n",
    "                if self.childs_str == []:\n",
    "                    latex_new += '#'\n",
    "                else:\n",
    "                    child = keys[word.value]\n",
    "                    child_num += 1\n",
    "                    \n",
    "                    latex_new += child[1][0]\n",
    "            else: latex_new += word.value\n",
    "        #print(rus_new, latex_new)\n",
    "        return (rus_new, latex_new)"
   ]
  },
  {
   "cell_type": "code",
   "execution_count": 4,
   "id": "4cd007e1-6d39-4738-b791-28c10957a4d2",
   "metadata": {
    "execution": {
     "iopub.execute_input": "2022-06-27T03:58:36.356751Z",
     "iopub.status.busy": "2022-06-27T03:58:36.355961Z",
     "iopub.status.idle": "2022-06-27T03:58:36.371934Z",
     "shell.execute_reply": "2022-06-27T03:58:36.370738Z",
     "shell.execute_reply.started": "2022-06-27T03:58:36.356682Z"
    }
   },
   "outputs": [],
   "source": [
    "class Function:\n",
    "    def __init__(self, temp1, temp2):\n",
    "        self.node = Node(temp1,temp2)\n",
    "        self.arguments = []\n",
    "        self.name = ''\n",
    "        self.args_count = self.node.get_count_of_childs()\n",
    "    \n",
    "    def get_args_count(self):\n",
    "        return self.args_count\n",
    "    \n",
    "    def __repr__(self):\n",
    "        return self.name + ' ' + str(self.arguments)\n",
    "        \n",
    "    def add_argument(self, args_variation):\n",
    "        self.arguments += [args_variation]\n",
    "        \n",
    "    def get_strs(self):\n",
    "        results = []\n",
    "        args = self.arguments\n",
    "        \n",
    "        args_flatten = []\n",
    "        for arg_num in args:\n",
    "            this_arg = []\n",
    "            for arg_i in arg_num:\n",
    "                this_arg += [arg_i.get_strs()] #all_variations\n",
    "            args_flatten += [this_arg]\n",
    "        #print(args_flatten)\n",
    "        # funcs\n",
    "        results_rus = []\n",
    "        results_latex = []\n",
    "        \n",
    "        data = itertools.product(*args_flatten)\n",
    "        str_i = ''\n",
    "        for func in data:\n",
    "            str_i = self.node.get_str(func)\n",
    "            results_rus += [str_i[0]]\n",
    "            results_latex += [str_i[1]]\n",
    "        return (results_rus, results_latex)\n"
   ]
  },
  {
   "cell_type": "code",
   "execution_count": 5,
   "id": "aa7c3280-7085-43b9-b46c-96b910658c1c",
   "metadata": {
    "execution": {
     "iopub.execute_input": "2022-06-27T03:58:43.822194Z",
     "iopub.status.busy": "2022-06-27T03:58:43.821424Z",
     "iopub.status.idle": "2022-06-27T03:58:43.840834Z",
     "shell.execute_reply": "2022-06-27T03:58:43.839666Z",
     "shell.execute_reply.started": "2022-06-27T03:58:43.822154Z"
    }
   },
   "outputs": [],
   "source": [
    "#F_full = [\n",
    "#    Function('икс', 'x'),\n",
    "#     Function('игрек', 'y'),\n",
    "#    ]\n",
    "\n",
    "#F_full = [\n",
    "#    Function('дэ'     ,'d'  ),\n",
    "#    Function('е'      ,'e'  ),\n",
    "#    Function('логарифм *1 по основанию *2', 'log_{*2}{*1}'),\n",
    "#]\n",
    "#\n",
    "F_1 = [\n",
    "    Function('логарифм *1 по основанию *2', 'log_{*2}{*1}'),\n",
    "    \n",
    "    Function('*1 плюс *2','*1 + *2'),\n",
    "    Function('*1 минус *2','*1 - *2'),\n",
    "    Function('*1 умножить на *2','*1 *2'),\n",
    "    Function('*1 разделить на *2','*1 / *2'),\n",
    "    Function('*1 *2','*1 *2'),\n",
    "    Function('предел *1 при *2 стремящийся к *3','\\lim_{*2\\to*3}{*1}'),\n",
    "    Function('произведение *1 от *2 равно *3 до *4','\\prod_{*2=*3}^{*4} *1'),\n",
    "    Function('сумма *1 от *2 равно *3 до *4','\\sum_{*2=*3}^{*4} *1'),\n",
    "    Function('интеграл *1 от *2 до *3 по дэ *4','\\int_{*2}^{*3} *1 \\,d*4'),\n",
    "    Function('*1 в степени *2','*1^*2'),\n",
    "    Function('*1 квадрат','*1^2'),\n",
    "    Function('*1 куб','*1^3'),\n",
    "    Function('*1 в *2 степени','*1^*2'),\n",
    "    Function('корень из *1','\\sqrt{*1}'),\n",
    "    Function('дробь *1 разделить на *2','\\frac{*1}{*2}'),\n",
    "    \n",
    "    Function('синус *1','\\sin{*1}'),\n",
    "    Function('косинус *1','\\cos{*1}'),\n",
    "    Function('тангенс *1','\\tg{*1}'),\n",
    "    Function('котангенс *1','\\ctg{*1}'),\n",
    "    Function('секанс *1','\\sec{*1}'),\n",
    "    Function('косеканс *1','\\cosec{*1}'),\n",
    "]\n",
    "\n",
    "F_2 = [\n",
    "    Function('а'      ,'a'  ),\n",
    "    Function('бэ'     ,'b'  ),\n",
    "    Function('цэ'     ,'c'  ),\n",
    "    Function('дэ'     ,'d'  ),\n",
    "    Function('е'      ,'e'  ),\n",
    "    Function('эф'     ,'f'  ),\n",
    "    Function('джи'    ,'g'  ),\n",
    "    Function('аш'     ,'h'  ),\n",
    "    Function('и'      ,'i'  ),\n",
    "    Function('жи'     ,'j'  ),\n",
    "    Function('ка'     ,'k'  ),\n",
    "    Function('эл'     ,'l'  ),\n",
    "    Function('эм'     ,'m'  ),\n",
    "    Function('эн'     ,'n'  ),\n",
    "    Function('о'      ,'o'  ),\n",
    "    Function('пэ'     ,'p'  ),\n",
    "    Function('ку'     ,'q'  ),\n",
    "    Function('эр'     ,'r'  ),\n",
    "    Function('эс'     ,'s'  ),\n",
    "    Function('тэ'     ,'t'  ),\n",
    "    Function('у'      ,'u'  ),\n",
    "    Function('вэ'     ,'w'  ),\n",
    "    Function('ви'     ,'v'  ),\n",
    "    Function('икс'    ,'x'  ),\n",
    "    Function('игрек'  ,'y'  ),\n",
    "    Function('зэт'    ,'z'  ),\n",
    "    Function('альфа'  ,'α'  ),\n",
    "    Function('бета'   ,'β'  ),\n",
    "    Function('гамма'  ,'γ'  ),\n",
    "    Function('дельта' ,'Δ'  ),\n",
    "    Function('эпсилон','ε'  ),\n",
    "    Function('дзета'  ,'ζ'  ),\n",
    "    Function('эта'    ,'η'  ),\n",
    "    Function('тета'   ,'θ'  ),\n",
    "    Function('лямбда' ,'λ'  ),\n",
    "    Function('мю'     ,'μ'  ),\n",
    "    Function('ню'     ,'ν'  ),\n",
    "    Function('кси'    ,'ξ'  ),\n",
    "    Function('омикрон','ο'  ),\n",
    "    Function('пи'     ,'π'  ),\n",
    "    Function('ро'     ,'ρ'  ),\n",
    "    Function('сигма'  ,'σ'  ),\n",
    "    Function('тау'    ,'τ'  ),\n",
    "    Function('ипсилон','υ'  ),\n",
    "    Function('фи'     ,'φ'  ),\n",
    "    Function('хи'     ,'χ'  ),\n",
    "    Function('пси'    ,'ψ'  ),\n",
    "    Function('омега'  ,'ω'  )\n",
    "]"
   ]
  },
  {
   "cell_type": "code",
   "execution_count": 6,
   "id": "6732e119-e42b-4917-9102-ec55873c3cd4",
   "metadata": {
    "execution": {
     "iopub.execute_input": "2022-06-27T03:58:57.363512Z",
     "iopub.status.busy": "2022-06-27T03:58:57.363237Z",
     "iopub.status.idle": "2022-06-27T03:58:59.891037Z",
     "shell.execute_reply": "2022-06-27T03:58:59.890341Z",
     "shell.execute_reply.started": "2022-06-27T03:58:57.363482Z"
    }
   },
   "outputs": [],
   "source": [
    "\n",
    "#F_full = []\n",
    "for i in range(10000):\n",
    "    F_2 += [Function(num2words(i, lang='ru'), str(i))]\n"
   ]
  },
  {
   "cell_type": "code",
   "execution_count": 8,
   "id": "8db11fed-fd67-455c-8e01-2dbc00926742",
   "metadata": {
    "execution": {
     "iopub.execute_input": "2022-06-27T03:59:16.139774Z",
     "iopub.status.busy": "2022-06-27T03:59:16.138881Z",
     "iopub.status.idle": "2022-06-27T04:10:14.498959Z",
     "shell.execute_reply": "2022-06-27T04:10:14.498080Z",
     "shell.execute_reply.started": "2022-06-27T03:59:16.139733Z"
    }
   },
   "outputs": [
    {
     "data": {
      "application/vnd.jupyter.widget-view+json": {
       "model_id": "eb698ee73e534e279aa348b1019b085e",
       "version_major": 2,
       "version_minor": 0
      },
      "text/plain": [
       "  0%|          | 0/10048 [00:00<?, ?it/s]"
      ]
     },
     "metadata": {},
     "output_type": "display_data"
    }
   ],
   "source": [
    "def function_filling(f, deep, deep_max):\n",
    "    \n",
    "    add_args = []\n",
    "    for i in range(f.get_args_count()):\n",
    "        if deep==deep_max: F_add = F_0\n",
    "        else: F_add = F_full\n",
    "        \n",
    "        to_add = []\n",
    "        for to_fill in F_add:\n",
    "            to_fill = copy.deepcopy(to_fill)\n",
    "            new_func = function_filling(to_fill, deep+1, deep_max)\n",
    "            to_add += [new_func]\n",
    "        add_args += [to_add]\n",
    "\n",
    "    for A in add_args:\n",
    "        f.add_argument(A)\n",
    "    return f\n",
    "\n",
    "R_rus = []\n",
    "R_latex = []\n",
    "    \n",
    "def chunks(lst, n):\n",
    "    \"\"\"Yield successive n-sized chunks from lst.\"\"\"\n",
    "    for i in range(0, len(lst), n):\n",
    "        yield lst[i:i + n]\n",
    "\n",
    "for F_i in tqdm(list(chunks(F_2, 1))):\n",
    "    F_full = copy.deepcopy(F_1 + F_i)\n",
    "    F_0 = [f for f in F_full if f.get_args_count()==0]\n",
    "    \n",
    "    for func in F_full:\n",
    "        new = function_filling(func, 0, 0)\n",
    "        strs = new.get_strs()\n",
    "        \n",
    "        R_rus += strs[0]\n",
    "        R_latex += strs[1]\n",
    "    \n",
    "#print(R_rus)\n",
    "#print(R_latex)\n",
    "#print(list(itertools.product(*new.arguments)))\n",
    "#for f in F_full:\n",
    "#    f"
   ]
  },
  {
   "cell_type": "code",
   "execution_count": 6,
   "id": "a186b661-72df-4772-9495-e1ae0f40a5b6",
   "metadata": {
    "execution": {
     "iopub.execute_input": "2022-06-27T00:41:26.908901Z",
     "iopub.status.busy": "2022-06-27T00:41:26.907906Z",
     "iopub.status.idle": "2022-06-27T00:41:26.917930Z",
     "shell.execute_reply": "2022-06-27T00:41:26.917530Z",
     "shell.execute_reply.started": "2022-06-27T00:41:26.908867Z"
    }
   },
   "outputs": [
    {
     "data": {
      "text/plain": [
       "(['логарифм дэ по основанию дэ',\n",
       "  'логарифм дэ по основанию е',\n",
       "  'логарифм дэ по основанию логарифм дэ по основанию дэ',\n",
       "  'логарифм е по основанию дэ',\n",
       "  'логарифм е по основанию е',\n",
       "  'логарифм е по основанию логарифм дэ по основанию дэ',\n",
       "  'логарифм скобка открывается логарифм дэ по основанию дэ скобка закрывается по основанию дэ',\n",
       "  'логарифм скобка открывается логарифм дэ по основанию дэ скобка закрывается по основанию е',\n",
       "  'логарифм скобка открывается логарифм дэ по основанию дэ скобка закрывается по основанию логарифм дэ по основанию дэ'],\n",
       " ['log_{d}{d}',\n",
       "  'log_{e}{d}',\n",
       "  'log_{log_{d}{d}}{d}',\n",
       "  'log_{d}{e}',\n",
       "  'log_{e}{e}',\n",
       "  'log_{log_{d}{d}}{e}',\n",
       "  'log_{d}{log_{d}{d}}',\n",
       "  'log_{e}{log_{d}{d}}',\n",
       "  'log_{log_{d}{d}}{log_{d}{d}}'])"
      ]
     },
     "execution_count": 6,
     "metadata": {},
     "output_type": "execute_result"
    }
   ],
   "source": [
    "#strs"
   ]
  },
  {
   "cell_type": "code",
   "execution_count": 9,
   "id": "dfda92d6-0f90-49bd-9767-ec0f816a2faa",
   "metadata": {
    "execution": {
     "iopub.execute_input": "2022-06-27T04:10:19.157660Z",
     "iopub.status.busy": "2022-06-27T04:10:19.156743Z",
     "iopub.status.idle": "2022-06-27T04:10:20.588542Z",
     "shell.execute_reply": "2022-06-27T04:10:20.587857Z",
     "shell.execute_reply.started": "2022-06-27T04:10:19.157626Z"
    }
   },
   "outputs": [],
   "source": [
    "res = []\n",
    "for i,val in enumerate(R_rus):\n",
    "    res += [[R_rus[i], R_latex[i]]]\n",
    "#res"
   ]
  },
  {
   "cell_type": "code",
   "execution_count": 10,
   "id": "cf7be518-a627-4d2c-aac3-5eb058333e67",
   "metadata": {
    "execution": {
     "iopub.execute_input": "2022-06-27T04:10:28.793828Z",
     "iopub.status.busy": "2022-06-27T04:10:28.792983Z",
     "iopub.status.idle": "2022-06-27T04:10:28.817368Z",
     "shell.execute_reply": "2022-06-27T04:10:28.816045Z",
     "shell.execute_reply.started": "2022-06-27T04:10:28.793777Z"
    }
   },
   "outputs": [
    {
     "data": {
      "text/plain": [
       "231104"
      ]
     },
     "execution_count": 10,
     "metadata": {},
     "output_type": "execute_result"
    }
   ],
   "source": [
    "len(res)"
   ]
  },
  {
   "cell_type": "code",
   "execution_count": 11,
   "id": "b69dfa95-fd69-4ab0-85fd-ab20c87035e2",
   "metadata": {
    "execution": {
     "iopub.execute_input": "2022-06-27T04:10:33.545465Z",
     "iopub.status.busy": "2022-06-27T04:10:33.544614Z",
     "iopub.status.idle": "2022-06-27T04:10:37.682216Z",
     "shell.execute_reply": "2022-06-27T04:10:37.681466Z",
     "shell.execute_reply.started": "2022-06-27T04:10:33.545426Z"
    }
   },
   "outputs": [],
   "source": [
    "import pandas as pd\n",
    "\n",
    "df = pd.DataFrame(res, columns=['rus','latex'])\n",
    "df.to_csv('df_GAN.csv',index=False)"
   ]
  }
 ],
 "metadata": {
  "kernelspec": {
   "display_name": "Python 3 (ipykernel)",
   "language": "python",
   "name": "python3"
  },
  "language_info": {
   "codemirror_mode": {
    "name": "ipython",
    "version": 3
   },
   "file_extension": ".py",
   "mimetype": "text/x-python",
   "name": "python",
   "nbconvert_exporter": "python",
   "pygments_lexer": "ipython3",
   "version": "3.9.10"
  }
 },
 "nbformat": 4,
 "nbformat_minor": 5
}
